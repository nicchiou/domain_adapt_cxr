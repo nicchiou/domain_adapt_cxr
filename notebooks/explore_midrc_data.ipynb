{
 "cells": [
  {
   "cell_type": "code",
   "execution_count": 114,
   "id": "487e9ae6-9a4d-45da-9c80-f1b8956a068e",
   "metadata": {},
   "outputs": [],
   "source": [
    "import os\n",
    "import numpy as np\n",
    "import pandas as pd\n",
    "import seaborn as sns\n",
    "\n",
    "from sklearn.model_selection import train_test_split"
   ]
  },
  {
   "cell_type": "code",
   "execution_count": 2,
   "id": "dcde2a28-d687-49be-a012-542078d7005f",
   "metadata": {},
   "outputs": [
    {
     "name": "stdout",
     "output_type": "stream",
     "text": [
      "cr_Age_dist.png\t\t  MIDRC_table_IL_test.csv   MIDRC_table_NC_test.csv\n",
      "cr_States_dist.png\t  MIDRC_table_IL_train.csv  MIDRC_table_NC_train.csv\n",
      "MIDRC_table_CA_test.csv   MIDRC_table_IN_test.csv   MIDRC_table_TX_test.csv\n",
      "MIDRC_table_CA_train.csv  MIDRC_table_IN_train.csv  MIDRC_table_TX_train.csv\n"
     ]
    }
   ],
   "source": [
    "!ls /dfs/scratch0/nicchiou/MIDRC/meta_info/"
   ]
  },
  {
   "cell_type": "code",
   "execution_count": 133,
   "id": "444477c2-c0fa-41ca-93a8-95c5defe91dd",
   "metadata": {},
   "outputs": [],
   "source": [
    "root_dir = '/dfs/scratch0/nicchiou/MIDRC/'"
   ]
  },
  {
   "cell_type": "markdown",
   "id": "26c426b2-d6eb-4628-a1e4-9d48ccc293d9",
   "metadata": {
    "tags": []
   },
   "source": [
    "# Extract metadata"
   ]
  },
  {
   "cell_type": "markdown",
   "id": "83bda7c6-8e02-41aa-b706-4349d2261934",
   "metadata": {},
   "source": [
    "## Re-define file path"
   ]
  },
  {
   "cell_type": "code",
   "execution_count": 134,
   "id": "1af80345-8e2a-4cb9-9df5-dd9d3bd87dec",
   "metadata": {},
   "outputs": [
    {
     "data": {
      "text/html": [
       "<div>\n",
       "<style scoped>\n",
       "    .dataframe tbody tr th:only-of-type {\n",
       "        vertical-align: middle;\n",
       "    }\n",
       "\n",
       "    .dataframe tbody tr th {\n",
       "        vertical-align: top;\n",
       "    }\n",
       "\n",
       "    .dataframe thead th {\n",
       "        text-align: right;\n",
       "    }\n",
       "</style>\n",
       "<table border=\"1\" class=\"dataframe\">\n",
       "  <thead>\n",
       "    <tr style=\"text-align: right;\">\n",
       "      <th></th>\n",
       "      <th>file_path</th>\n",
       "      <th>race</th>\n",
       "      <th>covid19_positive</th>\n",
       "      <th>sex</th>\n",
       "      <th>age</th>\n",
       "      <th>state</th>\n",
       "    </tr>\n",
       "  </thead>\n",
       "  <tbody>\n",
       "    <tr>\n",
       "      <th>0</th>\n",
       "      <td>/dfs/scratch0/nicchiou/MIDRC/data_subset/cr/cl...</td>\n",
       "      <td>White</td>\n",
       "      <td>No</td>\n",
       "      <td>Male</td>\n",
       "      <td>60</td>\n",
       "      <td>CA</td>\n",
       "    </tr>\n",
       "    <tr>\n",
       "      <th>1</th>\n",
       "      <td>/dfs/scratch0/nicchiou/MIDRC/data_subset/cr/cl...</td>\n",
       "      <td>White</td>\n",
       "      <td>Yes</td>\n",
       "      <td>Male</td>\n",
       "      <td>49</td>\n",
       "      <td>CA</td>\n",
       "    </tr>\n",
       "    <tr>\n",
       "      <th>2</th>\n",
       "      <td>/dfs/scratch0/nicchiou/MIDRC/data_subset/cr/cl...</td>\n",
       "      <td>Asian</td>\n",
       "      <td>No</td>\n",
       "      <td>Male</td>\n",
       "      <td>75</td>\n",
       "      <td>CA</td>\n",
       "    </tr>\n",
       "    <tr>\n",
       "      <th>3</th>\n",
       "      <td>/dfs/scratch0/nicchiou/MIDRC/data_subset/cr/cl...</td>\n",
       "      <td>Black or African American</td>\n",
       "      <td>No</td>\n",
       "      <td>Male</td>\n",
       "      <td>61</td>\n",
       "      <td>CA</td>\n",
       "    </tr>\n",
       "    <tr>\n",
       "      <th>4</th>\n",
       "      <td>/dfs/scratch0/nicchiou/MIDRC/data_subset/cr/cl...</td>\n",
       "      <td>Asian</td>\n",
       "      <td>No</td>\n",
       "      <td>Male</td>\n",
       "      <td>75</td>\n",
       "      <td>CA</td>\n",
       "    </tr>\n",
       "  </tbody>\n",
       "</table>\n",
       "</div>"
      ],
      "text/plain": [
       "                                           file_path  \\\n",
       "0  /dfs/scratch0/nicchiou/MIDRC/data_subset/cr/cl...   \n",
       "1  /dfs/scratch0/nicchiou/MIDRC/data_subset/cr/cl...   \n",
       "2  /dfs/scratch0/nicchiou/MIDRC/data_subset/cr/cl...   \n",
       "3  /dfs/scratch0/nicchiou/MIDRC/data_subset/cr/cl...   \n",
       "4  /dfs/scratch0/nicchiou/MIDRC/data_subset/cr/cl...   \n",
       "\n",
       "                        race covid19_positive   sex  age state  \n",
       "0                      White               No  Male   60    CA  \n",
       "1                      White              Yes  Male   49    CA  \n",
       "2                      Asian               No  Male   75    CA  \n",
       "3  Black or African American               No  Male   61    CA  \n",
       "4                      Asian               No  Male   75    CA  "
      ]
     },
     "execution_count": 134,
     "metadata": {},
     "output_type": "execute_result"
    }
   ],
   "source": [
    "df = pd.read_csv(os.path.join(root_dir, 'meta_info', 'MIDRC_table_CA_train.csv'))\n",
    "df.head()"
   ]
  },
  {
   "cell_type": "code",
   "execution_count": 135,
   "id": "07db2be3-5736-4054-bc55-c7c09e1d90f3",
   "metadata": {},
   "outputs": [
    {
     "data": {
      "text/plain": [
       "array(['/dfs/scratch0/nicchiou/MIDRC/data_subset/cr/clean_states/1.2.826.0.1.3680043.10.474.419639.313447297747755998855250428772.jpeg',\n",
       "       '/dfs/scratch0/nicchiou/MIDRC/data_subset/cr/clean_states/2.16.840.1.114274.1818.46922722668294700693460078206080330162.jpeg',\n",
       "       '/dfs/scratch0/nicchiou/MIDRC/data_subset/cr/clean_states/1.2.826.0.1.3680043.10.474.419639.395695755473692260227147143526.jpeg',\n",
       "       '/dfs/scratch0/nicchiou/MIDRC/data_subset/cr/clean_states/1.2.826.0.1.3680043.10.474.419639.216723391268633869313204260931.jpeg',\n",
       "       '/dfs/scratch0/nicchiou/MIDRC/data_subset/cr/clean_states/1.2.826.0.1.3680043.10.474.419639.231691188078318414239621142560.jpeg'],\n",
       "      dtype=object)"
      ]
     },
     "execution_count": 135,
     "metadata": {},
     "output_type": "execute_result"
    }
   ],
   "source": [
    "df.loc[:, 'file_path'] = df.loc[:, 'file_path'].apply(lambda x: os.path.join(root_dir, '/'.join(x.split('/')[5:])))\n",
    "df.file_path.values[:5]"
   ]
  },
  {
   "cell_type": "code",
   "execution_count": 137,
   "id": "8d637edb-1333-4a18-9f1e-ea2ea5c9024e",
   "metadata": {},
   "outputs": [],
   "source": [
    "for state in ['CA', 'IL', 'IN', 'NC', 'TX']:\n",
    "    for split in ['train', 'test']:\n",
    "        df = pd.read_csv(os.path.join(root_dir, 'meta_info', 'MIDRC_table_{}_{}.csv'.format(state, split)))\n",
    "        if 'nicchiou' in df.loc[0, 'file_path']:\n",
    "            continue\n",
    "        else:\n",
    "            df.loc[:, 'file_path'] = df.loc[:, 'file_path'].apply(lambda x: os.path.join(root_dir, '/'.join(x.split('/')[5:])))\n",
    "            df.to_csv(os.path.join(root_dir, 'meta_info', 'MIDRC_table_{}_{}.csv'.format(state, split), index=False))"
   ]
  },
  {
   "cell_type": "code",
   "execution_count": 138,
   "id": "ca0a8540-5e50-4366-b23d-cb7e2e37a88f",
   "metadata": {},
   "outputs": [
    {
     "data": {
      "text/html": [
       "<div>\n",
       "<style scoped>\n",
       "    .dataframe tbody tr th:only-of-type {\n",
       "        vertical-align: middle;\n",
       "    }\n",
       "\n",
       "    .dataframe tbody tr th {\n",
       "        vertical-align: top;\n",
       "    }\n",
       "\n",
       "    .dataframe thead th {\n",
       "        text-align: right;\n",
       "    }\n",
       "</style>\n",
       "<table border=\"1\" class=\"dataframe\">\n",
       "  <thead>\n",
       "    <tr style=\"text-align: right;\">\n",
       "      <th></th>\n",
       "      <th>file_path</th>\n",
       "      <th>race</th>\n",
       "      <th>covid19_positive</th>\n",
       "      <th>sex</th>\n",
       "      <th>age</th>\n",
       "      <th>state</th>\n",
       "    </tr>\n",
       "  </thead>\n",
       "  <tbody>\n",
       "    <tr>\n",
       "      <th>0</th>\n",
       "      <td>/dfs/scratch0/nicchiou/MIDRC/data_subset/cr/cl...</td>\n",
       "      <td>White</td>\n",
       "      <td>No</td>\n",
       "      <td>Male</td>\n",
       "      <td>60</td>\n",
       "      <td>CA</td>\n",
       "    </tr>\n",
       "    <tr>\n",
       "      <th>1</th>\n",
       "      <td>/dfs/scratch0/nicchiou/MIDRC/data_subset/cr/cl...</td>\n",
       "      <td>White</td>\n",
       "      <td>Yes</td>\n",
       "      <td>Male</td>\n",
       "      <td>49</td>\n",
       "      <td>CA</td>\n",
       "    </tr>\n",
       "    <tr>\n",
       "      <th>2</th>\n",
       "      <td>/dfs/scratch0/nicchiou/MIDRC/data_subset/cr/cl...</td>\n",
       "      <td>Asian</td>\n",
       "      <td>No</td>\n",
       "      <td>Male</td>\n",
       "      <td>75</td>\n",
       "      <td>CA</td>\n",
       "    </tr>\n",
       "    <tr>\n",
       "      <th>3</th>\n",
       "      <td>/dfs/scratch0/nicchiou/MIDRC/data_subset/cr/cl...</td>\n",
       "      <td>Black or African American</td>\n",
       "      <td>No</td>\n",
       "      <td>Male</td>\n",
       "      <td>61</td>\n",
       "      <td>CA</td>\n",
       "    </tr>\n",
       "    <tr>\n",
       "      <th>4</th>\n",
       "      <td>/dfs/scratch0/nicchiou/MIDRC/data_subset/cr/cl...</td>\n",
       "      <td>Asian</td>\n",
       "      <td>No</td>\n",
       "      <td>Male</td>\n",
       "      <td>75</td>\n",
       "      <td>CA</td>\n",
       "    </tr>\n",
       "  </tbody>\n",
       "</table>\n",
       "</div>"
      ],
      "text/plain": [
       "                                           file_path  \\\n",
       "0  /dfs/scratch0/nicchiou/MIDRC/data_subset/cr/cl...   \n",
       "1  /dfs/scratch0/nicchiou/MIDRC/data_subset/cr/cl...   \n",
       "2  /dfs/scratch0/nicchiou/MIDRC/data_subset/cr/cl...   \n",
       "3  /dfs/scratch0/nicchiou/MIDRC/data_subset/cr/cl...   \n",
       "4  /dfs/scratch0/nicchiou/MIDRC/data_subset/cr/cl...   \n",
       "\n",
       "                        race covid19_positive   sex  age state  \n",
       "0                      White               No  Male   60    CA  \n",
       "1                      White              Yes  Male   49    CA  \n",
       "2                      Asian               No  Male   75    CA  \n",
       "3  Black or African American               No  Male   61    CA  \n",
       "4                      Asian               No  Male   75    CA  "
      ]
     },
     "execution_count": 138,
     "metadata": {},
     "output_type": "execute_result"
    }
   ],
   "source": [
    "df = pd.read_csv(os.path.join(root_dir, 'meta_info', 'MIDRC_table_CA_train.csv'))\n",
    "df.head()"
   ]
  },
  {
   "cell_type": "markdown",
   "id": "8843bfd4-e4c0-4fa8-82a0-5f2b62c1981a",
   "metadata": {},
   "source": [
    "## Train/Valid/Test stratified split"
   ]
  },
  {
   "cell_type": "code",
   "execution_count": 139,
   "id": "139913ec-7066-4cf7-9f61-071aaa275605",
   "metadata": {},
   "outputs": [],
   "source": [
    "sample_count = {}\n",
    "\n",
    "for state in ['CA', 'IL', 'IN', 'NC', 'TX']:\n",
    "    for split in ['train', 'test']:\n",
    "        df = pd.read_csv(os.path.join(root_dir, 'meta_info', 'MIDRC_table_{}_{}.csv'.format(state, split)))\n",
    "        df.loc[:, 'covid19_positive'] = (df['covid19_positive'] == 'Yes').astype(int)\n",
    "        sample_count['{}_{}'.format(state, split)] = (np.bincount(df.covid19_positive.values) / len(df)).tolist()"
   ]
  },
  {
   "cell_type": "code",
   "execution_count": 140,
   "id": "0e7625e1-483f-41c1-9ede-953c21562313",
   "metadata": {},
   "outputs": [
    {
     "data": {
      "text/plain": [
       "{'CA_train': [0.7152466367713004, 0.28475336322869954],\n",
       " 'CA_test': [0.6756756756756757, 0.32432432432432434],\n",
       " 'IL_train': [0.37884748900717424, 0.6211525109928258],\n",
       " 'IL_test': [0.3709876543209877, 0.6290123456790123],\n",
       " 'IN_train': [0.37861915367483295, 0.621380846325167],\n",
       " 'IN_test': [0.2882882882882883, 0.7117117117117117],\n",
       " 'NC_train': [0.46267652992602554, 0.5373234700739744],\n",
       " 'NC_test': [0.46567967698519513, 0.5343203230148048],\n",
       " 'TX_train': [0.8354114713216958, 0.16458852867830423],\n",
       " 'TX_test': [0.76, 0.24]}"
      ]
     },
     "execution_count": 140,
     "metadata": {},
     "output_type": "execute_result"
    }
   ],
   "source": [
    "sample_count"
   ]
  },
  {
   "cell_type": "code",
   "execution_count": 141,
   "id": "e801a382-b720-4646-b707-61c50df26ea1",
   "metadata": {},
   "outputs": [],
   "source": [
    "state_dict = {}\n",
    "\n",
    "for state in ['CA', 'IL', 'IN', 'NC', 'TX']:\n",
    "    train_df = pd.read_csv(os.path.join(root_dir, 'meta_info', 'MIDRC_table_{}_train.csv'.format(state)))\n",
    "    test_df = pd.read_csv(os.path.join(root_dir, 'meta_info', 'MIDRC_table_{}_test.csv'.format(state)))\n",
    "    df = pd.concat([train_df, test_df], axis=0)\n",
    "    # Bin age for easier sampling\n",
    "    bins=[0, 40, 50, 60, 70, 80, 90]\n",
    "    df['binned_age'] = pd.cut(df['age'], bins=bins, labels=bins[:-1])\n",
    "    state_dict[state] = df"
   ]
  },
  {
   "cell_type": "code",
   "execution_count": 144,
   "id": "848cdc9d-b7a8-47e6-9b9a-2215244b4138",
   "metadata": {},
   "outputs": [
    {
     "data": {
      "image/png": "[encoded data removed]",
      "text/plain": [
       "<Figure size 640x480 with 1 Axes>"
      ]
     },
     "metadata": {},
     "output_type": "display_data"
    }
   ],
   "source": [
    "df_learn, df_test = train_test_split(state_dict['CA'], test_size=0.2,\n",
    "                                     stratify=state_dict['CA'][['covid19_positive', 'sex', 'binned_age']],\n",
    "                                     random_state=42)\n",
    "df_train, df_valid = train_test_split(df_learn, test_size=0.1 * len(state_dict['CA']) / len(df_learn),\n",
    "                                      stratify=df_learn[['covid19_positive', 'sex', 'binned_age']],\n",
    "                                      random_state=42)\n",
    "\n",
    "df_train['split'] = 'train'\n",
    "df_valid['split'] = 'valid'\n",
    "df_test['split'] = 'test'\n",
    "df_split = pd.concat([df_train, df_valid, df_test])\n",
    "assert len(df_split) == len(state_dict['CA'])\n",
    "\n",
    "# Check to make sure race distribution is consistent across splits\n",
    "sns.histplot(df_split, y='race', hue='split');"
   ]
  },
  {
   "cell_type": "code",
   "execution_count": 160,
   "id": "a1de76ab-59ee-4246-8008-084792449f3a",
   "metadata": {},
   "outputs": [],
   "source": [
    "sample_count = {}\n",
    "\n",
    "for state in ['CA', 'IL', 'IN', 'NC', 'TX']:\n",
    "    df_learn, df_test = train_test_split(state_dict[state], test_size=0.2,\n",
    "                                         stratify=state_dict[state][['covid19_positive', 'sex', 'binned_age']],\n",
    "                                         random_state=42)\n",
    "    df_train, df_valid = train_test_split(df_learn, test_size=0.1 * len(state_dict[state]) / len(df_learn),\n",
    "                                          stratify=df_learn[['covid19_positive', 'sex', 'binned_age']],\n",
    "                                          random_state=42)\n",
    "\n",
    "    df_train['split'] = 'train'\n",
    "    df_valid['split'] = 'valid'\n",
    "    df_test['split'] = 'test'\n",
    "    df_split = pd.concat([df_train, df_valid, df_test])\n",
    "    assert len(df_split) == len(state_dict[state])\n",
    "    assert np.allclose([len(df_train) / len(df_split),\n",
    "                        len(df_valid) / len(df_split),\n",
    "                        len(df_test) / len(df_split)], [0.7, 0.1, 0.2], atol=0.01)\n",
    "    sample_count[state] = [len(df_train), len(df_valid), len(df_test), len(df_learn), len(df_split)]\n",
    "    \n",
    "    df_train.to_csv(os.path.join(root_dir, 'meta_info', 'MIDRC_table_{}_train.csv'.format(state)))\n",
    "    df_valid.to_csv(os.path.join(root_dir, 'meta_info', 'MIDRC_table_{}_valid.csv'.format(state)))\n",
    "    df_test.to_csv(os.path.join(root_dir, 'meta_info', 'MIDRC_table_{}_test.csv'.format(state)))"
   ]
  },
  {
   "cell_type": "code",
   "execution_count": 161,
   "id": "559bd355-5d43-4b65-9c0b-80b3345c71df",
   "metadata": {},
   "outputs": [
    {
     "data": {
      "text/plain": [
       "{'CA': [389, 56, 112, 445, 557],\n",
       " 'IL': [11341, 1621, 3241, 12962, 16203],\n",
       " 'IN': [392, 56, 112, 448, 560],\n",
       " 'NC': [2601, 372, 744, 2973, 3717],\n",
       " 'TX': [349, 51, 101, 400, 501]}"
      ]
     },
     "execution_count": 161,
     "metadata": {},
     "output_type": "execute_result"
    }
   ],
   "source": [
    "sample_count"
   ]
  },
  {
   "cell_type": "code",
   "execution_count": null,
   "id": "680b60a6-5cdc-486b-846c-5c3237de1b3c",
   "metadata": {},
   "outputs": [],
   "source": []
  }
 ],
 "metadata": {
  "kernelspec": {
   "display_name": "Python 3 (ipykernel)",
   "language": "python",
   "name": "python3"
  },
  "language_info": {
   "codemirror_mode": {
    "name": "ipython",
    "version": 3
   },
   "file_extension": ".py",
   "mimetype": "text/x-python",
   "name": "python",
   "nbconvert_exporter": "python",
   "pygments_lexer": "ipython3",
   "version": "3.7.9"
  }
 },
 "nbformat": 4,
 "nbformat_minor": 5
}
