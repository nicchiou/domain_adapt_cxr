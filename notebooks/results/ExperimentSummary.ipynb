{
 "cells": [
  {
   "cell_type": "code",
   "execution_count": 1,
   "id": "267bbcd6-8996-4549-bc94-a3f1e7cf0f99",
   "metadata": {},
   "outputs": [],
   "source": [
    "import os\n",
    "import copy\n",
    "\n",
    "import json\n",
    "import numpy as np\n",
    "import pandas as pd\n",
    "import matplotlib.pyplot as plt\n",
    "import seaborn as sns\n",
    "\n",
    "from tqdm.notebook import tqdm\n",
    "\n",
    "from IPython.display import display\n",
    "\n",
    "from utils.constants import *"
   ]
  },
  {
   "cell_type": "code",
   "execution_count": 2,
   "id": "3003f6af-d829-4745-9562-79f5e0a7864a",
   "metadata": {},
   "outputs": [],
   "source": [
    "def summarize_restarts(orig_df, groupby_cols=['source_state', 'target_state'], max_restarts=5):\n",
    "    df = copy.deepcopy(orig_df)\n",
    "    if 'iter' in df.columns:\n",
    "        df = df[df.iter < max_restarts]\n",
    "    else:\n",
    "        df = df[df.seed < max_restarts]\n",
    "    groups = df.groupby(groupby_cols).size().reset_index().rename(columns={0: 'count'})\n",
    "    groups = groups.loc[groups['count'] > 0, :]\n",
    "    rows = []\n",
    "    for group in groups.values.tolist():\n",
    "        group = group[:len(groupby_cols)]  # Isolate groupby\n",
    "        query = []\n",
    "        for i in range(len(group)):\n",
    "            if isinstance(group[i], str):\n",
    "                query.append(f\"({groupby_cols[i]}.str.strip() == '{group[i]}')\")\n",
    "            else:\n",
    "                query.append(f\"({groupby_cols[i]} == {group[i]})\")\n",
    "        query = ' & '.join(query)\n",
    "        df_i = df[df.eval(query)]\n",
    "        row = group\n",
    "        means = df_i[metric_cols].mean(0).values.tolist()\n",
    "        stds = [0. if np.isnan(i) else i for i in df_i[metric_cols].std(0).values.tolist()]\n",
    "        row += ['{:.3f} ({:.3f})'.format(mean, std) for mean, std in zip(means, stds)]\n",
    "        row += [df_i.shape[0]]\n",
    "        rows.append(row)\n",
    "    cols = groupby_cols + metric_cols + ['num_restarts']\n",
    "    out_df = pd.DataFrame(data=rows, columns=cols)\n",
    "    return out_df"
   ]
  },
  {
   "cell_type": "code",
   "execution_count": 3,
   "id": "d5b36d4a-9be0-4522-827a-5e1cb177c203",
   "metadata": {},
   "outputs": [],
   "source": [
    "def print_df(df, metric_prefix='target'):\n",
    "    pairs = list(set([tuple(i) for i in df[['source_state', 'target_state']].values.tolist()]))\n",
    "    pairs = [('IL', 'IL')] + sorted([pair for pair in pairs if pair != ('IL', 'IL')])\n",
    "    color_dict = {f'{metric_prefix}_acc': 'green', f'{metric_prefix}_auc': 'blue', f'{metric_prefix}_loss': 'purple'}\n",
    "    df_color = df.style.apply(lambda x: ['background: {}'.format(color_dict[x.name]) if x.name in color_dict.keys() else '' for i in x])\n",
    "    display(df_color)"
   ]
  },
  {
   "cell_type": "code",
   "execution_count": 4,
   "id": "21c35a5d-ce66-44a1-a1fc-c5b53e23249c",
   "metadata": {},
   "outputs": [],
   "source": [
    "def get_attr_val_from_dirname_combined(d):\n",
    "    \"\"\"Parses attributes from combined ERM experiment directory name.\"\"\"\n",
    "    def get_attr(s):\n",
    "        \"\"\"Returns the value associated with the attribute.\"\"\"\n",
    "        return s.split('-')[-1]\n",
    "\n",
    "    split_dir = d.split('_')\n",
    "    ret_dict = {}\n",
    "    ret_dict['exp_dir'] = d\n",
    "    ret_dict['backbone'] = split_dir[0]\n",
    "    ret_dict['source_state'] = get_attr(split_dir[2])\n",
    "    ret_dict['target_state'] = get_attr(split_dir[3])\n",
    "    ret_dict['num_source'] = get_attr(split_dir[4])\n",
    "    ret_dict['num_target'] = get_attr(split_dir[5])\n",
    "    return ret_dict\n",
    "\n",
    "def get_attr_val_from_dirname(d):\n",
    "    \"\"\"Parses attributes from experiment directory name.\"\"\"\n",
    "    def get_attr(s):\n",
    "        \"\"\"Returns the value associated with the attribute.\"\"\"\n",
    "        return s.split('-')[-1]\n",
    "\n",
    "    split_dir = d.split('_')\n",
    "    ret_dict = {}\n",
    "    ret_dict['exp_dir'] = d\n",
    "    ret_dict['backbone'] = split_dir[0]\n",
    "    ret_dict['source_state'] = get_attr(split_dir[1])\n",
    "    ret_dict['target_state'] = get_attr(split_dir[2])\n",
    "    if split_dir[3].split('-')[0] == 'ft':\n",
    "        ret_dict['fine_tune'] = '-'.join((split_dir[3].split('-'))[1:])\n",
    "        ret_dict['num_source'] = get_attr(split_dir[4])\n",
    "        ret_dict['num_target'] = get_attr(split_dir[5])\n",
    "    else:\n",
    "        ret_dict['num_source'] = get_attr(split_dir[3])\n",
    "        ret_dict['num_target'] = get_attr(split_dir[4])\n",
    "    return ret_dict\n",
    "\n",
    "def get_src_tgt_metrics(results, src, tgt):\n",
    "    \"\"\"Returns a dictionary of source and target metrics.\"\"\"\n",
    "    return {\n",
    "        'source_acc': results[f'{src}_acc'],\n",
    "        'source_auc': results[f'{src}_auc'],\n",
    "        'source_loss': results[f'{src}_loss'],\n",
    "        'target_acc': results[f'{tgt}_acc'],\n",
    "        'target_auc': results[f'{tgt}_auc'],\n",
    "        'target_loss': results[f'{tgt}_loss'],\n",
    "    }"
   ]
  },
  {
   "cell_type": "markdown",
   "id": "4a6e1b62-9c56-4f4b-b1ea-e4a8fae9853a",
   "metadata": {},
   "source": [
    "# Combined ERM"
   ]
  },
  {
   "cell_type": "code",
   "execution_count": 28,
   "id": "30c8628e-8255-461b-aa30-6daf1ccae476",
   "metadata": {},
   "outputs": [
    {
     "data": {
      "application/vnd.jupyter.widget-view+json": {
       "model_id": "9ad5afd806004ccca8b184b74ee3b9a6",
       "version_major": 2,
       "version_minor": 0
      },
      "text/plain": [
       "  0%|          | 0/3 [00:00<?, ?it/s]"
      ]
     },
     "metadata": {},
     "output_type": "display_data"
    }
   ],
   "source": [
    "res_dir = os.path.join(RESULTS_DIR, 'early_stop_auc', 'combined')\n",
    "\n",
    "# Get results from child experimental directories\n",
    "entries = []\n",
    "incomplete = []\n",
    "for d in tqdm(os.listdir(res_dir)):\n",
    "    parsed_d = get_attr_val_from_dirname_combined(d)\n",
    "    results_count = 0\n",
    "    for f in os.listdir(os.path.join(res_dir, d)):\n",
    "        if 'results' in f:\n",
    "            results = json.load(open(os.path.join(res_dir, d, f), 'rb'))\n",
    "            results.update(get_src_tgt_metrics(\n",
    "                results, parsed_d['source_state'], parsed_d['target_state']))\n",
    "            results.update(parsed_d)\n",
    "            entries.append(results)\n",
    "            results_count += 1\n",
    "    # Check that all 5 iterations were completed\n",
    "    if results_count != 5:\n",
    "        incomplete.append(d)"
   ]
  },
  {
   "cell_type": "code",
   "execution_count": 29,
   "id": "aae5a286-f64f-4c89-bdd4-2ca2a4fe1657",
   "metadata": {},
   "outputs": [
    {
     "name": "stdout",
     "output_type": "stream",
     "text": [
      "Directories with missing results:\n"
     ]
    }
   ],
   "source": [
    "print('Directories with missing results:')\n",
    "for d in incomplete:\n",
    "    print('\\t', d)"
   ]
  },
  {
   "cell_type": "code",
   "execution_count": 30,
   "id": "de345b36-3c26-4573-a7f9-cb5de2df1fac",
   "metadata": {},
   "outputs": [],
   "source": [
    "state_metric_cols = ['IL_acc', 'IL_auc', 'IL_loss', 'CA_acc', 'CA_auc', 'CA_loss',\n",
    "               'IN_acc', 'IN_auc', 'IN_loss', 'TX_acc', 'TX_auc', 'TX_loss']\n",
    "metric_cols = ['source_acc', 'source_auc', 'source_loss', 'target_acc', 'target_auc', 'target_loss']\n",
    "cols = ['backbone', 'approach', 'domain', 'train_state', 'test_state', 'iter', 'n_samples', 'block', 'bn',\n",
    "        'source_state', 'target_state', 'fine_tune', 'num_source', 'num_target'] + state_metric_cols + metric_cols\n",
    "\n",
    "df = pd.DataFrame.from_records(entries, columns=cols).drop(state_metric_cols, axis=1)\n",
    "df = df.loc[(df['source_state'] != 'NC') & (df['target_state'] != 'NC')]"
   ]
  },
  {
   "cell_type": "code",
   "execution_count": 31,
   "id": "eacbfa48-d8ea-4233-b8b6-a955a5709371",
   "metadata": {},
   "outputs": [],
   "source": [
    "df['source_state'] = pd.Categorical(\n",
    "    df['source_state'], \n",
    "    categories=['IL'] + sorted([state for state in df.source_state.unique() if state != 'IL']), \n",
    "    ordered=True\n",
    ")\n",
    "df['target_state'] = pd.Categorical(\n",
    "    df['target_state'], \n",
    "    categories=['IL'] + sorted([state for state in df.target_state.unique() if state != 'IL']), \n",
    "    ordered=True\n",
    ")"
   ]
  },
  {
   "cell_type": "code",
   "execution_count": 32,
   "id": "94d9c8cd-6b24-4d05-83ae-dcf0323508c7",
   "metadata": {},
   "outputs": [],
   "source": [
    "# Create a long-form DataFrame with pivoted metric entries\n",
    "df_lf = df.copy()\n",
    "df_lf.loc[:, 'metric'] = df_lf.apply(lambda x: ['accuracy', 'auroc', 'logloss'], axis=1)\n",
    "df_lf.loc[:, 'source_value'] = df_lf.apply(lambda x: [x.source_acc, x.source_auc, x.source_loss], axis=1)\n",
    "df_lf.loc[:, 'target_value'] = df_lf.apply(lambda x: [x.target_acc, x.target_auc, x.target_loss], axis=1)\n",
    "\n",
    "df_lf = df_lf.explode(['metric', 'source_value', 'target_value']).drop(metric_cols, axis=1)"
   ]
  },
  {
   "cell_type": "code",
   "execution_count": 33,
   "id": "275609a6-1929-434a-8511-b896cb1234e9",
   "metadata": {},
   "outputs": [],
   "source": [
    "data = df.loc[(df['backbone'] == 'resnet152') & (df['approach'] == 'Concat_ERM')].drop_duplicates(ignore_index=True)\n",
    "data = data.sort_values('target_state').reset_index(drop=True)\n",
    "\n",
    "data_lf = df_lf.loc[(df_lf['backbone'] == 'resnet152') & (df_lf['approach'] == 'Concat_ERM')].drop_duplicates(ignore_index=True)\n",
    "data_lf = data_lf.sort_values('target_state').reset_index(drop=True)"
   ]
  },
  {
   "cell_type": "code",
   "execution_count": 34,
   "id": "587b4fde-2ee3-44db-b2b7-4b56db20d649",
   "metadata": {},
   "outputs": [
    {
     "data": {
      "image/png": "[encoded data removed]",
      "text/plain": [
       "<Figure size 640x480 with 1 Axes>"
      ]
     },
     "metadata": {},
     "output_type": "display_data"
    }
   ],
   "source": [
    "sns.barplot(data=data_lf.loc[(data_lf['metric'] != 'logloss')].drop_duplicates(ignore_index=True),\n",
    "            x='metric', y='target_value', hue='target_state', hue_order=['', 'CA', 'IN', 'TX'], palette='Set2')\n",
    "plt.legend(bbox_to_anchor=(1.05, 1), loc='upper left', borderaxespad=0)\n",
    "plt.title('Combined Dataset ERM and Blind Transfer to Target');"
   ]
  },
  {
   "cell_type": "code",
   "execution_count": 35,
   "id": "5f64231e-1232-4e1a-9339-d94c29349cc9",
   "metadata": {},
   "outputs": [
    {
     "data": {
      "text/html": [
       "<style type=\"text/css\">\n",
       "#T_74cd9_row0_col5, #T_74cd9_row1_col5, #T_74cd9_row2_col5 {\n",
       "  background: green;\n",
       "}\n",
       "#T_74cd9_row0_col6, #T_74cd9_row1_col6, #T_74cd9_row2_col6 {\n",
       "  background: blue;\n",
       "}\n",
       "#T_74cd9_row0_col7, #T_74cd9_row1_col7, #T_74cd9_row2_col7 {\n",
       "  background: purple;\n",
       "}\n",
       "</style>\n",
       "<table id=\"T_74cd9_\">\n",
       "  <thead>\n",
       "    <tr>\n",
       "      <th class=\"blank level0\" >&nbsp;</th>\n",
       "      <th class=\"col_heading level0 col0\" >source_state</th>\n",
       "      <th class=\"col_heading level0 col1\" >target_state</th>\n",
       "      <th class=\"col_heading level0 col2\" >source_acc</th>\n",
       "      <th class=\"col_heading level0 col3\" >source_auc</th>\n",
       "      <th class=\"col_heading level0 col4\" >source_loss</th>\n",
       "      <th class=\"col_heading level0 col5\" >target_acc</th>\n",
       "      <th class=\"col_heading level0 col6\" >target_auc</th>\n",
       "      <th class=\"col_heading level0 col7\" >target_loss</th>\n",
       "      <th class=\"col_heading level0 col8\" >num_restarts</th>\n",
       "    </tr>\n",
       "  </thead>\n",
       "  <tbody>\n",
       "    <tr>\n",
       "      <th id=\"T_74cd9_level0_row0\" class=\"row_heading level0 row0\" >0</th>\n",
       "      <td id=\"T_74cd9_row0_col0\" class=\"data row0 col0\" >IL</td>\n",
       "      <td id=\"T_74cd9_row0_col1\" class=\"data row0 col1\" >CA</td>\n",
       "      <td id=\"T_74cd9_row0_col2\" class=\"data row0 col2\" >0.866 (0.012)</td>\n",
       "      <td id=\"T_74cd9_row0_col3\" class=\"data row0 col3\" >0.857 (0.013)</td>\n",
       "      <td id=\"T_74cd9_row0_col4\" class=\"data row0 col4\" >0.815 (0.085)</td>\n",
       "      <td id=\"T_74cd9_row0_col5\" class=\"data row0 col5\" >0.782 (0.034)</td>\n",
       "      <td id=\"T_74cd9_row0_col6\" class=\"data row0 col6\" >0.776 (0.033)</td>\n",
       "      <td id=\"T_74cd9_row0_col7\" class=\"data row0 col7\" >1.325 (0.184)</td>\n",
       "      <td id=\"T_74cd9_row0_col8\" class=\"data row0 col8\" >5</td>\n",
       "    </tr>\n",
       "    <tr>\n",
       "      <th id=\"T_74cd9_level0_row1\" class=\"row_heading level0 row1\" >1</th>\n",
       "      <td id=\"T_74cd9_row1_col0\" class=\"data row1 col0\" >IL</td>\n",
       "      <td id=\"T_74cd9_row1_col1\" class=\"data row1 col1\" >IN</td>\n",
       "      <td id=\"T_74cd9_row1_col2\" class=\"data row1 col2\" >0.862 (0.010)</td>\n",
       "      <td id=\"T_74cd9_row1_col3\" class=\"data row1 col3\" >0.850 (0.011)</td>\n",
       "      <td id=\"T_74cd9_row1_col4\" class=\"data row1 col4\" >0.943 (0.078)</td>\n",
       "      <td id=\"T_74cd9_row1_col5\" class=\"data row1 col5\" >0.836 (0.044)</td>\n",
       "      <td id=\"T_74cd9_row1_col6\" class=\"data row1 col6\" >0.824 (0.054)</td>\n",
       "      <td id=\"T_74cd9_row1_col7\" class=\"data row1 col7\" >1.155 (0.408)</td>\n",
       "      <td id=\"T_74cd9_row1_col8\" class=\"data row1 col8\" >5</td>\n",
       "    </tr>\n",
       "    <tr>\n",
       "      <th id=\"T_74cd9_level0_row2\" class=\"row_heading level0 row2\" >2</th>\n",
       "      <td id=\"T_74cd9_row2_col0\" class=\"data row2 col0\" >IL</td>\n",
       "      <td id=\"T_74cd9_row2_col1\" class=\"data row2 col1\" >TX</td>\n",
       "      <td id=\"T_74cd9_row2_col2\" class=\"data row2 col2\" >0.869 (0.008)</td>\n",
       "      <td id=\"T_74cd9_row2_col3\" class=\"data row2 col3\" >0.859 (0.012)</td>\n",
       "      <td id=\"T_74cd9_row2_col4\" class=\"data row2 col4\" >0.832 (0.150)</td>\n",
       "      <td id=\"T_74cd9_row2_col5\" class=\"data row2 col5\" >0.782 (0.058)</td>\n",
       "      <td id=\"T_74cd9_row2_col6\" class=\"data row2 col6\" >0.719 (0.037)</td>\n",
       "      <td id=\"T_74cd9_row2_col7\" class=\"data row2 col7\" >1.626 (0.579)</td>\n",
       "      <td id=\"T_74cd9_row2_col8\" class=\"data row2 col8\" >5</td>\n",
       "    </tr>\n",
       "  </tbody>\n",
       "</table>\n"
      ],
      "text/plain": [
       "<pandas.io.formats.style.Styler at 0x7efb747df310>"
      ]
     },
     "metadata": {},
     "output_type": "display_data"
    }
   ],
   "source": [
    "print_df(summarize_restarts(data))"
   ]
  },
  {
   "cell_type": "markdown",
   "id": "acec3c3f-a51f-4b8b-9021-516442046e16",
   "metadata": {},
   "source": [
    "# Parse Results Files"
   ]
  },
  {
   "cell_type": "code",
   "execution_count": 6,
   "id": "24f2b664-804a-4984-8ab7-4aa3ede9e16d",
   "metadata": {},
   "outputs": [
    {
     "data": {
      "application/vnd.jupyter.widget-view+json": {
       "model_id": "3ebdd8fbbf6f43539741666da1c60248",
       "version_major": 2,
       "version_minor": 0
      },
      "text/plain": [
       "  0%|          | 0/111 [00:00<?, ?it/s]"
      ]
     },
     "metadata": {},
     "output_type": "display_data"
    }
   ],
   "source": [
    "res_dir = os.path.join(RESULTS_DIR, 'early_stop_loss', 'resnet')\n",
    "\n",
    "# Get results from child experimental directories\n",
    "entries = []\n",
    "incomplete = []\n",
    "for d in tqdm(os.listdir(res_dir)):\n",
    "    parsed_d = get_attr_val_from_dirname(d)\n",
    "    results_count = 0\n",
    "    for f in os.listdir(os.path.join(res_dir, d)):\n",
    "        if 'results' in f:\n",
    "            results = json.load(open(os.path.join(res_dir, d, f), 'rb'))\n",
    "            results.update(get_src_tgt_metrics(\n",
    "                results, parsed_d['source_state'], parsed_d['target_state']))\n",
    "            results.update(parsed_d)\n",
    "            entries.append(results)\n",
    "            \n",
    "            # Add additional entries for in-distribution performance\n",
    "            if 'fine_tune' not in parsed_d.keys() and parsed_d['source_state'] == 'IL':\n",
    "                idd_results = copy.deepcopy(results)\n",
    "                idd_results['test_state'] = results['train_state']\n",
    "                idd_results['source_state'] = results['train_state']\n",
    "                idd_results['target_state'] = results['train_state']\n",
    "                idd_results.update(get_src_tgt_metrics(\n",
    "                    idd_results, idd_results['source_state'], idd_results['target_state']))\n",
    "                entries.append(idd_results)\n",
    "            \n",
    "            results_count += 1\n",
    "    # Check that all 5 iterations were completed\n",
    "    if results_count != 5:\n",
    "        incomplete.append(d)"
   ]
  },
  {
   "cell_type": "code",
   "execution_count": 7,
   "id": "c72e48f5-48fc-4eb6-b4f0-cfaa7678fc64",
   "metadata": {},
   "outputs": [
    {
     "data": {
      "application/vnd.jupyter.widget-view+json": {
       "model_id": "edc66ec8b8d84c8d9850f0b20e0734fe",
       "version_major": 2,
       "version_minor": 0
      },
      "text/plain": [
       "  0%|          | 0/2 [00:00<?, ?it/s]"
      ]
     },
     "metadata": {},
     "output_type": "display_data"
    }
   ],
   "source": [
    "res_dirs = [os.path.join(RESULTS_DIR, 'early_stop_loss', d) for d in [\n",
    "    'film_block-none_bn-0_none',\n",
    "    'film_block-4_bn-0123_all'\n",
    "]]\n",
    "\n",
    "# Get FiLM results, parsing parent directory\n",
    "incomplete = []\n",
    "for parent_dir in tqdm(res_dirs):\n",
    "    for d in os.listdir(parent_dir):\n",
    "        parsed_d = get_attr_val_from_dirname(d)\n",
    "        parsed_d['block'] = parent_dir.split('/')[-1].split('_')[1].split('-')[-1]\n",
    "        parsed_d['bn'] = parent_dir.split('/')[-1].split('_')[2].split('-')[-1]\n",
    "        parsed_d['density'] = parent_dir.split('/')[-1].split('_')[3]\n",
    "        results_count = 0\n",
    "        for f in os.listdir(os.path.join(parent_dir, d)):\n",
    "            if 'results' in f:\n",
    "                results = json.load(open(os.path.join(parent_dir, d, f), 'rb'))\n",
    "                results.update(get_src_tgt_metrics(\n",
    "                    results, parsed_d['source_state'], parsed_d['target_state']))\n",
    "                results.update(parsed_d)\n",
    "                entries.append(results)\n",
    "\n",
    "                # Add additional entries for in-distribution performance\n",
    "                if 'fine_tune' not in parsed_d.keys() and parsed_d['source_state'] == 'IL':\n",
    "                    idd_results = copy.deepcopy(results)\n",
    "                    idd_results['test_state'] = results['train_state']\n",
    "                    idd_results['source_state'] = results['train_state']\n",
    "                    idd_results['target_state'] = results['train_state']\n",
    "                    idd_results.update(get_src_tgt_metrics(\n",
    "                        idd_results, idd_results['source_state'], idd_results['target_state']))\n",
    "                    entries.append(idd_results)\n",
    "\n",
    "                results_count += 1\n",
    "        # Check that all 5 iterations were completed\n",
    "        if results_count != 5:\n",
    "            incomplete.append(d)"
   ]
  },
  {
   "cell_type": "code",
   "execution_count": 8,
   "id": "e11efd65-a8d8-49b8-a9e0-b955c3ce681d",
   "metadata": {},
   "outputs": [
    {
     "name": "stdout",
     "output_type": "stream",
     "text": [
      "Directories with missing results:\n"
     ]
    }
   ],
   "source": [
    "print('Directories with missing results:')\n",
    "for d in incomplete:\n",
    "    print('\\t', d)"
   ]
  },
  {
   "cell_type": "code",
   "execution_count": 9,
   "id": "d84df5dd-1ce9-442e-81bd-be62f7402d7b",
   "metadata": {},
   "outputs": [],
   "source": [
    "state_metric_cols = ['IL_acc', 'IL_auc', 'IL_loss', 'CA_acc', 'CA_auc', 'CA_loss',\n",
    "               'IN_acc', 'IN_auc', 'IN_loss', 'TX_acc', 'TX_auc', 'TX_loss']\n",
    "metric_cols = ['source_acc', 'source_auc', 'source_loss', 'target_acc', 'target_auc', 'target_loss']\n",
    "cols = ['backbone', 'approach', 'domain', 'train_state', 'test_state', 'seed', 'n_samples', 'block', 'bn', 'density',\n",
    "        'source_state', 'target_state', 'fine_tune', 'num_source', 'num_target'] + state_metric_cols + metric_cols\n",
    "\n",
    "df = pd.DataFrame.from_records(entries, columns=cols).drop(state_metric_cols, axis=1)\n",
    "df = df.loc[(df['train_state'] != 'NC') & (df['test_state'] != 'NC')]"
   ]
  },
  {
   "cell_type": "code",
   "execution_count": 10,
   "id": "f22d4237-fb19-4c78-817f-cb019094926c",
   "metadata": {},
   "outputs": [],
   "source": [
    "df['train_state'] = pd.Categorical(\n",
    "    df['train_state'], \n",
    "    categories=['IL'] + sorted([state for state in df.train_state.unique() if state != 'IL']), \n",
    "    ordered=True\n",
    ")\n",
    "df['test_state'] = pd.Categorical(\n",
    "    df['test_state'], \n",
    "    categories=['IL'] + sorted([state for state in df.test_state.unique() if state != 'IL']), \n",
    "    ordered=True\n",
    ")\n",
    "df['source_state'] = pd.Categorical(\n",
    "    df['source_state'], \n",
    "    categories=['IL'] + sorted([state for state in df.source_state.unique() if state != 'IL']), \n",
    "    ordered=True\n",
    ")\n",
    "df['target_state'] = pd.Categorical(\n",
    "    df['target_state'], \n",
    "    categories=['IL'] + sorted([state for state in df.target_state.unique() if state != 'IL']), \n",
    "    ordered=True\n",
    ")"
   ]
  },
  {
   "cell_type": "code",
   "execution_count": 11,
   "id": "d45b5816-5f32-45dd-a4a9-557d8fee426d",
   "metadata": {},
   "outputs": [],
   "source": [
    "# Create a long-form DataFrame with pivoted metric entries\n",
    "df_lf = df.copy()\n",
    "df_lf.loc[:, 'metric'] = df_lf.apply(lambda x: ['accuracy', 'auroc', 'logloss'], axis=1)\n",
    "df_lf.loc[:, 'source_value'] = df_lf.apply(lambda x: [x.source_acc, x.source_auc, x.source_loss], axis=1)\n",
    "df_lf.loc[:, 'target_value'] = df_lf.apply(lambda x: [x.target_acc, x.target_auc, x.target_loss], axis=1)\n",
    "\n",
    "df_lf = df_lf.explode(['metric', 'source_value', 'target_value']).drop(metric_cols, axis=1)"
   ]
  },
  {
   "cell_type": "markdown",
   "id": "aee6c9d0-a3cf-414d-bf27-149edc933633",
   "metadata": {},
   "source": [
    "# ResNet Source ERM"
   ]
  },
  {
   "cell_type": "code",
   "execution_count": 12,
   "id": "47a398bd-7ef5-4d08-918f-2fef5d697a6d",
   "metadata": {},
   "outputs": [],
   "source": [
    "data = df.loc[(df['backbone'] == 'resnet152') & (df['approach'] == 'Source_ERM_ResNet')].drop_duplicates(ignore_index=True)\n",
    "data = data.sort_values('target_state').reset_index(drop=True)\n",
    "\n",
    "data_lf = df_lf.loc[(df_lf['backbone'] == 'resnet152') & (df_lf['approach'] == 'Source_ERM_ResNet')].drop_duplicates(ignore_index=True)\n",
    "data_lf = data_lf.sort_values('target_state').reset_index(drop=True)"
   ]
  },
  {
   "cell_type": "code",
   "execution_count": 13,
   "id": "d236b594-c467-4d10-9ebb-64c6b15ff98f",
   "metadata": {},
   "outputs": [
    {
     "data": {
      "image/png": "[encoded data removed]",
      "text/plain": [
       "<Figure size 640x480 with 1 Axes>"
      ]
     },
     "metadata": {},
     "output_type": "display_data"
    }
   ],
   "source": [
    "sns.barplot(data=data_lf.loc[(data_lf['metric'] != 'logloss')].drop_duplicates(ignore_index=True),\n",
    "            x='metric', y='target_value', hue='target_state', hue_order=['IL', 'CA', 'IN', 'TX'], palette='Set2')\n",
    "plt.legend(bbox_to_anchor=(1.05, 1), loc='upper left', borderaxespad=0)\n",
    "plt.title('Source (IL) ERM and Blind Transfer to Target');"
   ]
  },
  {
   "cell_type": "code",
   "execution_count": 14,
   "id": "fc4c9730-c1ec-4d63-beb2-9f83023dbaaf",
   "metadata": {},
   "outputs": [],
   "source": [
    "source_erm_resnet = summarize_restarts(data)"
   ]
  },
  {
   "cell_type": "code",
   "execution_count": 15,
   "id": "bb6b3f7a-36d4-49e3-9724-587b94608b4f",
   "metadata": {},
   "outputs": [
    {
     "data": {
      "text/html": [
       "<style type=\"text/css\">\n",
       "#T_58c43_row0_col5, #T_58c43_row1_col5, #T_58c43_row2_col5 {\n",
       "  background: green;\n",
       "}\n",
       "#T_58c43_row0_col6, #T_58c43_row1_col6, #T_58c43_row2_col6 {\n",
       "  background: blue;\n",
       "}\n",
       "#T_58c43_row0_col7, #T_58c43_row1_col7, #T_58c43_row2_col7 {\n",
       "  background: purple;\n",
       "}\n",
       "</style>\n",
       "<table id=\"T_58c43_\">\n",
       "  <thead>\n",
       "    <tr>\n",
       "      <th class=\"blank level0\" >&nbsp;</th>\n",
       "      <th class=\"col_heading level0 col0\" >source_state</th>\n",
       "      <th class=\"col_heading level0 col1\" >target_state</th>\n",
       "      <th class=\"col_heading level0 col2\" >source_acc</th>\n",
       "      <th class=\"col_heading level0 col3\" >source_auc</th>\n",
       "      <th class=\"col_heading level0 col4\" >source_loss</th>\n",
       "      <th class=\"col_heading level0 col5\" >target_acc</th>\n",
       "      <th class=\"col_heading level0 col6\" >target_auc</th>\n",
       "      <th class=\"col_heading level0 col7\" >target_loss</th>\n",
       "      <th class=\"col_heading level0 col8\" >num_restarts</th>\n",
       "    </tr>\n",
       "  </thead>\n",
       "  <tbody>\n",
       "    <tr>\n",
       "      <th id=\"T_58c43_level0_row0\" class=\"row_heading level0 row0\" >0</th>\n",
       "      <td id=\"T_58c43_row0_col0\" class=\"data row0 col0\" >IL</td>\n",
       "      <td id=\"T_58c43_row0_col1\" class=\"data row0 col1\" >CA</td>\n",
       "      <td id=\"T_58c43_row0_col2\" class=\"data row0 col2\" >0.763 (0.038)</td>\n",
       "      <td id=\"T_58c43_row0_col3\" class=\"data row0 col3\" >0.736 (0.045)</td>\n",
       "      <td id=\"T_58c43_row0_col4\" class=\"data row0 col4\" >0.540 (0.040)</td>\n",
       "      <td id=\"T_58c43_row0_col5\" class=\"data row0 col5\" >0.423 (0.090)</td>\n",
       "      <td id=\"T_58c43_row0_col6\" class=\"data row0 col6\" >0.481 (0.072)</td>\n",
       "      <td id=\"T_58c43_row0_col7\" class=\"data row0 col7\" >1.377 (0.343)</td>\n",
       "      <td id=\"T_58c43_row0_col8\" class=\"data row0 col8\" >5</td>\n",
       "    </tr>\n",
       "    <tr>\n",
       "      <th id=\"T_58c43_level0_row1\" class=\"row_heading level0 row1\" >1</th>\n",
       "      <td id=\"T_58c43_row1_col0\" class=\"data row1 col0\" >IL</td>\n",
       "      <td id=\"T_58c43_row1_col1\" class=\"data row1 col1\" >IN</td>\n",
       "      <td id=\"T_58c43_row1_col2\" class=\"data row1 col2\" >0.763 (0.038)</td>\n",
       "      <td id=\"T_58c43_row1_col3\" class=\"data row1 col3\" >0.736 (0.045)</td>\n",
       "      <td id=\"T_58c43_row1_col4\" class=\"data row1 col4\" >0.540 (0.040)</td>\n",
       "      <td id=\"T_58c43_row1_col5\" class=\"data row1 col5\" >0.518 (0.037)</td>\n",
       "      <td id=\"T_58c43_row1_col6\" class=\"data row1 col6\" >0.476 (0.033)</td>\n",
       "      <td id=\"T_58c43_row1_col7\" class=\"data row1 col7\" >1.081 (0.249)</td>\n",
       "      <td id=\"T_58c43_row1_col8\" class=\"data row1 col8\" >5</td>\n",
       "    </tr>\n",
       "    <tr>\n",
       "      <th id=\"T_58c43_level0_row2\" class=\"row_heading level0 row2\" >2</th>\n",
       "      <td id=\"T_58c43_row2_col0\" class=\"data row2 col0\" >IL</td>\n",
       "      <td id=\"T_58c43_row2_col1\" class=\"data row2 col1\" >TX</td>\n",
       "      <td id=\"T_58c43_row2_col2\" class=\"data row2 col2\" >0.763 (0.038)</td>\n",
       "      <td id=\"T_58c43_row2_col3\" class=\"data row2 col3\" >0.736 (0.045)</td>\n",
       "      <td id=\"T_58c43_row2_col4\" class=\"data row2 col4\" >0.540 (0.040)</td>\n",
       "      <td id=\"T_58c43_row2_col5\" class=\"data row2 col5\" >0.384 (0.082)</td>\n",
       "      <td id=\"T_58c43_row2_col6\" class=\"data row2 col6\" >0.522 (0.025)</td>\n",
       "      <td id=\"T_58c43_row2_col7\" class=\"data row2 col7\" >1.332 (0.240)</td>\n",
       "      <td id=\"T_58c43_row2_col8\" class=\"data row2 col8\" >5</td>\n",
       "    </tr>\n",
       "  </tbody>\n",
       "</table>\n"
      ],
      "text/plain": [
       "<pandas.io.formats.style.Styler at 0x7efb7cf04750>"
      ]
     },
     "metadata": {},
     "output_type": "display_data"
    }
   ],
   "source": [
    "print_df(source_erm_resnet)"
   ]
  },
  {
   "cell_type": "markdown",
   "id": "a8b325af-5bb6-45e0-b638-50e7183e6db8",
   "metadata": {
    "tags": []
   },
   "source": [
    "# Fine-Tune ResNet"
   ]
  },
  {
   "cell_type": "code",
   "execution_count": 16,
   "id": "42752f1b-97de-40a1-8280-9dc0817a6fc8",
   "metadata": {},
   "outputs": [],
   "source": [
    "data = df.loc[(df['backbone'] == 'resnet152') & (df['approach'] == 'Fine_Tune_ResNet')].drop_duplicates(ignore_index=True)\n",
    "data = data.sort_values('target_state').reset_index(drop=True)\n",
    "data = data.dropna(subset=['seed'], axis=0)\n",
    "\n",
    "data_lf = df_lf.loc[(df_lf['backbone'] == 'resnet152') & (df_lf['approach'] == 'Fine_Tune_ResNet')].drop_duplicates(ignore_index=True)\n",
    "data_lf = data_lf.sort_values('target_state').reset_index(drop=True)\n",
    "\n",
    "# Concatenate source ERM entries\n",
    "source_erm = df.loc[(df['backbone'] == 'resnet152') & (df['approach'] == 'Source_ERM_ResNet')].drop_duplicates(ignore_index=True)\n",
    "source_erm = source_erm.sort_values('target_state').reset_index(drop=True)\n",
    "source_erm.loc[:, 'fine_tune'] = 'all'\n",
    "source_erm.loc[:, 'n_samples'] = 0\n",
    "data = pd.concat([data, source_erm], axis=0)\n",
    "\n",
    "source_erm_lf = df_lf.loc[(df_lf['backbone'] == 'resnet152') & (df_lf['approach'] == 'Source_ERM_ResNet')].drop_duplicates(ignore_index=True)\n",
    "source_erm_lf = source_erm_lf.sort_values('target_state').reset_index(drop=True)\n",
    "source_erm_lf.loc[:, 'fine_tune'] = 'all'\n",
    "source_erm_lf.loc[:, 'n_samples'] = 0\n",
    "data_lf = pd.concat([data_lf, source_erm_lf], axis=0)"
   ]
  },
  {
   "cell_type": "code",
   "execution_count": 17,
   "id": "5f41144e-ec6a-48a0-8938-0c26e2fae8f7",
   "metadata": {},
   "outputs": [
    {
     "data": {
      "text/plain": [
       "array(['block1', 'bn0-clf', 'block3', 'block4', 'block2', 'clf', 'all'],\n",
       "      dtype=object)"
      ]
     },
     "execution_count": 17,
     "metadata": {},
     "output_type": "execute_result"
    }
   ],
   "source": [
    "data_lf.fine_tune.unique()"
   ]
  },
  {
   "cell_type": "code",
   "execution_count": 388,
   "id": "e2494afd-732b-46c9-be40-7c69ce8871b5",
   "metadata": {},
   "outputs": [
    {
     "ename": "IndexError",
     "evalue": "too many indices for array: array is 1-dimensional, but 2 were indexed",
     "output_type": "error",
     "traceback": [
      "\u001b[0;31m---------------------------------------------------------------------------\u001b[0m",
      "\u001b[0;31mIndexError\u001b[0m                                Traceback (most recent call last)",
      "\u001b[0;32m/tmp/ipykernel_38638/268694948.py\u001b[0m in \u001b[0;36m<module>\u001b[0;34m\u001b[0m\n\u001b[1;32m      1\u001b[0m sns.barplot(data=data_lf.loc[(data_lf['metric'] != 'logloss') & (data_lf['n_samples'] == -1) & (data_lf['fine_tune'] == 'all')].drop_duplicates(ignore_index=True),\n\u001b[0;32m----> 2\u001b[0;31m             x='metric', y='target_value', hue='target_state', hue_order=['', 'CA', 'IN', 'TX'], palette='Set2')\n\u001b[0m\u001b[1;32m      3\u001b[0m \u001b[0mplt\u001b[0m\u001b[0;34m.\u001b[0m\u001b[0mlegend\u001b[0m\u001b[0;34m(\u001b[0m\u001b[0mbbox_to_anchor\u001b[0m\u001b[0;34m=\u001b[0m\u001b[0;34m(\u001b[0m\u001b[0;36m1.05\u001b[0m\u001b[0;34m,\u001b[0m \u001b[0;36m1\u001b[0m\u001b[0;34m)\u001b[0m\u001b[0;34m,\u001b[0m \u001b[0mloc\u001b[0m\u001b[0;34m=\u001b[0m\u001b[0;34m'upper left'\u001b[0m\u001b[0;34m,\u001b[0m \u001b[0mborderaxespad\u001b[0m\u001b[0;34m=\u001b[0m\u001b[0;36m0\u001b[0m\u001b[0;34m)\u001b[0m\u001b[0;34m\u001b[0m\u001b[0;34m\u001b[0m\u001b[0m\n\u001b[1;32m      4\u001b[0m \u001b[0mplt\u001b[0m\u001b[0;34m.\u001b[0m\u001b[0mtitle\u001b[0m\u001b[0;34m(\u001b[0m\u001b[0;34m'Source (IL) ERM + Fine-Tuning all parameters w/ all labeled examples from Target'\u001b[0m\u001b[0;34m)\u001b[0m\u001b[0;34m;\u001b[0m\u001b[0;34m\u001b[0m\u001b[0;34m\u001b[0m\u001b[0m\n",
      "\u001b[0;32m/lfs/local/0/nicchiou/.venvs/domain_adapt_cxr-H3IQF9oH/lib/python3.7/site-packages/seaborn/categorical.py\u001b[0m in \u001b[0;36mbarplot\u001b[0;34m(data, x, y, hue, order, hue_order, estimator, errorbar, n_boot, units, seed, orient, color, palette, saturation, width, errcolor, errwidth, capsize, dodge, ci, ax, **kwargs)\u001b[0m\n\u001b[1;32m   2760\u001b[0m         \u001b[0max\u001b[0m \u001b[0;34m=\u001b[0m \u001b[0mplt\u001b[0m\u001b[0;34m.\u001b[0m\u001b[0mgca\u001b[0m\u001b[0;34m(\u001b[0m\u001b[0;34m)\u001b[0m\u001b[0;34m\u001b[0m\u001b[0;34m\u001b[0m\u001b[0m\n\u001b[1;32m   2761\u001b[0m \u001b[0;34m\u001b[0m\u001b[0m\n\u001b[0;32m-> 2762\u001b[0;31m     \u001b[0mplotter\u001b[0m\u001b[0;34m.\u001b[0m\u001b[0mplot\u001b[0m\u001b[0;34m(\u001b[0m\u001b[0max\u001b[0m\u001b[0;34m,\u001b[0m \u001b[0mkwargs\u001b[0m\u001b[0;34m)\u001b[0m\u001b[0;34m\u001b[0m\u001b[0;34m\u001b[0m\u001b[0m\n\u001b[0m\u001b[1;32m   2763\u001b[0m     \u001b[0;32mreturn\u001b[0m \u001b[0max\u001b[0m\u001b[0;34m\u001b[0m\u001b[0;34m\u001b[0m\u001b[0m\n\u001b[1;32m   2764\u001b[0m \u001b[0;34m\u001b[0m\u001b[0m\n",
      "\u001b[0;32m/lfs/local/0/nicchiou/.venvs/domain_adapt_cxr-H3IQF9oH/lib/python3.7/site-packages/seaborn/categorical.py\u001b[0m in \u001b[0;36mplot\u001b[0;34m(self, ax, bar_kws)\u001b[0m\n\u001b[1;32m   1584\u001b[0m     \u001b[0;32mdef\u001b[0m \u001b[0mplot\u001b[0m\u001b[0;34m(\u001b[0m\u001b[0mself\u001b[0m\u001b[0;34m,\u001b[0m \u001b[0max\u001b[0m\u001b[0;34m,\u001b[0m \u001b[0mbar_kws\u001b[0m\u001b[0;34m)\u001b[0m\u001b[0;34m:\u001b[0m\u001b[0;34m\u001b[0m\u001b[0;34m\u001b[0m\u001b[0m\n\u001b[1;32m   1585\u001b[0m         \u001b[0;34m\"\"\"Make the plot.\"\"\"\u001b[0m\u001b[0;34m\u001b[0m\u001b[0;34m\u001b[0m\u001b[0m\n\u001b[0;32m-> 1586\u001b[0;31m         \u001b[0mself\u001b[0m\u001b[0;34m.\u001b[0m\u001b[0mdraw_bars\u001b[0m\u001b[0;34m(\u001b[0m\u001b[0max\u001b[0m\u001b[0;34m,\u001b[0m \u001b[0mbar_kws\u001b[0m\u001b[0;34m)\u001b[0m\u001b[0;34m\u001b[0m\u001b[0;34m\u001b[0m\u001b[0m\n\u001b[0m\u001b[1;32m   1587\u001b[0m         \u001b[0mself\u001b[0m\u001b[0;34m.\u001b[0m\u001b[0mannotate_axes\u001b[0m\u001b[0;34m(\u001b[0m\u001b[0max\u001b[0m\u001b[0;34m)\u001b[0m\u001b[0;34m\u001b[0m\u001b[0;34m\u001b[0m\u001b[0m\n\u001b[1;32m   1588\u001b[0m         \u001b[0;32mif\u001b[0m \u001b[0mself\u001b[0m\u001b[0;34m.\u001b[0m\u001b[0morient\u001b[0m \u001b[0;34m==\u001b[0m \u001b[0;34m\"h\"\u001b[0m\u001b[0;34m:\u001b[0m\u001b[0;34m\u001b[0m\u001b[0;34m\u001b[0m\u001b[0m\n",
      "\u001b[0;32m/lfs/local/0/nicchiou/.venvs/domain_adapt_cxr-H3IQF9oH/lib/python3.7/site-packages/seaborn/categorical.py\u001b[0m in \u001b[0;36mdraw_bars\u001b[0;34m(self, ax, kws)\u001b[0m\n\u001b[1;32m   1567\u001b[0m                 \u001b[0;31m# Draw the bars\u001b[0m\u001b[0;34m\u001b[0m\u001b[0;34m\u001b[0m\u001b[0;34m\u001b[0m\u001b[0m\n\u001b[1;32m   1568\u001b[0m                 \u001b[0moffpos\u001b[0m \u001b[0;34m=\u001b[0m \u001b[0mbarpos\u001b[0m \u001b[0;34m+\u001b[0m \u001b[0mself\u001b[0m\u001b[0;34m.\u001b[0m\u001b[0mhue_offsets\u001b[0m\u001b[0;34m[\u001b[0m\u001b[0mj\u001b[0m\u001b[0;34m]\u001b[0m\u001b[0;34m\u001b[0m\u001b[0;34m\u001b[0m\u001b[0m\n\u001b[0;32m-> 1569\u001b[0;31m                 barfunc(offpos, self.statistic[:, j], self.nested_width,\n\u001b[0m\u001b[1;32m   1570\u001b[0m                         \u001b[0mcolor\u001b[0m\u001b[0;34m=\u001b[0m\u001b[0mself\u001b[0m\u001b[0;34m.\u001b[0m\u001b[0mcolors\u001b[0m\u001b[0;34m[\u001b[0m\u001b[0mj\u001b[0m\u001b[0;34m]\u001b[0m\u001b[0;34m,\u001b[0m \u001b[0malign\u001b[0m\u001b[0;34m=\u001b[0m\u001b[0;34m\"center\"\u001b[0m\u001b[0;34m,\u001b[0m\u001b[0;34m\u001b[0m\u001b[0;34m\u001b[0m\u001b[0m\n\u001b[1;32m   1571\u001b[0m                         label=hue_level, **kws)\n",
      "\u001b[0;31mIndexError\u001b[0m: too many indices for array: array is 1-dimensional, but 2 were indexed"
     ]
    },
    {
     "data": {
      "image/png": "[encoded data removed]",
      "text/plain": [
       "<Figure size 640x480 with 1 Axes>"
      ]
     },
     "metadata": {},
     "output_type": "display_data"
    }
   ],
   "source": [
    "sns.barplot(data=data_lf.loc[(data_lf['metric'] != 'logloss') & (data_lf['n_samples'] == -1) & (data_lf['fine_tune'] == 'all')].drop_duplicates(ignore_index=True),\n",
    "            x='metric', y='target_value', hue='target_state', hue_order=['', 'CA', 'IN', 'TX'], palette='Set2')\n",
    "plt.legend(bbox_to_anchor=(1.05, 1), loc='upper left', borderaxespad=0)\n",
    "plt.title('Source (IL) ERM + Fine-Tuning all parameters w/ all labeled examples from Target');"
   ]
  },
  {
   "cell_type": "code",
   "execution_count": 389,
   "id": "07bc12e9-02a9-40e3-971f-35d581d2492a",
   "metadata": {},
   "outputs": [
    {
     "data": {
      "text/html": [
       "<style type=\"text/css\">\n",
       "</style>\n",
       "<table id=\"T_213a2_\">\n",
       "  <thead>\n",
       "    <tr>\n",
       "      <th class=\"blank level0\" >&nbsp;</th>\n",
       "      <th class=\"col_heading level0 col0\" >source_state</th>\n",
       "      <th class=\"col_heading level0 col1\" >target_state</th>\n",
       "      <th class=\"col_heading level0 col2\" >source_acc</th>\n",
       "      <th class=\"col_heading level0 col3\" >source_auc</th>\n",
       "      <th class=\"col_heading level0 col4\" >source_loss</th>\n",
       "      <th class=\"col_heading level0 col5\" >target_acc</th>\n",
       "      <th class=\"col_heading level0 col6\" >target_auc</th>\n",
       "      <th class=\"col_heading level0 col7\" >target_loss</th>\n",
       "      <th class=\"col_heading level0 col8\" >num_restarts</th>\n",
       "    </tr>\n",
       "  </thead>\n",
       "  <tbody>\n",
       "  </tbody>\n",
       "</table>\n"
      ],
      "text/plain": [
       "<pandas.io.formats.style.Styler at 0x7efb742543d0>"
      ]
     },
     "metadata": {},
     "output_type": "display_data"
    }
   ],
   "source": [
    "print_df(summarize_restarts(data.loc[(data['n_samples'] == -1) & (data['fine_tune'] == 'all')]))"
   ]
  },
  {
   "cell_type": "code",
   "execution_count": 18,
   "id": "fae07ffa-f227-4fc9-8afa-d737bf1dd7da",
   "metadata": {},
   "outputs": [
    {
     "data": {
      "image/png": "[encoded data removed]",
      "text/plain": [
       "<Figure size 640x480 with 1 Axes>"
      ]
     },
     "metadata": {},
     "output_type": "display_data"
    }
   ],
   "source": [
    "sns.barplot(data=data_lf.loc[(data_lf['metric'] == 'auroc') & (data_lf['target_state'] == 'CA')].drop_duplicates(ignore_index=True),\n",
    "            x='fine_tune', y='target_value', hue='n_samples',\n",
    "            order=['block1', 'block2', 'block3', 'block4', 'clf', 'bn0-clf'],\n",
    "            hue_order=[20, 50, 100, 200, 300, -1], palette='rocket_r')\n",
    "plt.legend(bbox_to_anchor=(1.05, 1), loc='upper left', borderaxespad=0)\n",
    "plt.title('Source (IL) ERM + Fine-Tuning with varied Target sample size');"
   ]
  },
  {
   "cell_type": "code",
   "execution_count": 367,
   "id": "ca9caadf-1e82-4abc-9a05-efe0de043bce",
   "metadata": {},
   "outputs": [
    {
     "data": {
      "image/png": "[encoded data removed]",
      "text/plain": [
       "<Figure size 884.486x800 with 2 Axes>"
      ]
     },
     "metadata": {},
     "output_type": "display_data"
    }
   ],
   "source": [
    "sns.catplot(data=data_lf.loc[(data_lf['metric'] != 'logloss') & (data_lf['target_state'] == 'CA')].drop_duplicates(ignore_index=True),\n",
    "            x='fine_tune', order=['all', 'bn3-sparse', 'clf'],\n",
    "            y='target_value', hue='n_samples', hue_order=[0, 20, 50, 100, 200, 300, -1], \n",
    "            row='metric', kind='bar', palette='rocket_r',\n",
    "            height=4, aspect=2)\n",
    "plt.title('Source (IL) ERM + Fine-Tuning');"
   ]
  },
  {
   "cell_type": "code",
   "execution_count": 118,
   "id": "ffa983ad-a26e-40fa-b4cd-b1942ec26083",
   "metadata": {},
   "outputs": [
    {
     "data": {
      "text/html": [
       "<style type=\"text/css\">\n",
       "#T_9fef3_row0_col7, #T_9fef3_row1_col7, #T_9fef3_row2_col7, #T_9fef3_row3_col7, #T_9fef3_row4_col7, #T_9fef3_row5_col7, #T_9fef3_row6_col7, #T_9fef3_row7_col7, #T_9fef3_row8_col7, #T_9fef3_row9_col7, #T_9fef3_row10_col7, #T_9fef3_row11_col7, #T_9fef3_row12_col7, #T_9fef3_row13_col7, #T_9fef3_row14_col7, #T_9fef3_row15_col7, #T_9fef3_row16_col7, #T_9fef3_row17_col7, #T_9fef3_row18_col7, #T_9fef3_row19_col7, #T_9fef3_row20_col7, #T_9fef3_row21_col7, #T_9fef3_row22_col7, #T_9fef3_row23_col7, #T_9fef3_row24_col7, #T_9fef3_row25_col7, #T_9fef3_row26_col7, #T_9fef3_row27_col7, #T_9fef3_row28_col7, #T_9fef3_row29_col7, #T_9fef3_row30_col7 {\n",
       "  background: green;\n",
       "}\n",
       "#T_9fef3_row0_col8, #T_9fef3_row1_col8, #T_9fef3_row2_col8, #T_9fef3_row3_col8, #T_9fef3_row4_col8, #T_9fef3_row5_col8, #T_9fef3_row6_col8, #T_9fef3_row7_col8, #T_9fef3_row8_col8, #T_9fef3_row9_col8, #T_9fef3_row10_col8, #T_9fef3_row11_col8, #T_9fef3_row12_col8, #T_9fef3_row13_col8, #T_9fef3_row14_col8, #T_9fef3_row15_col8, #T_9fef3_row16_col8, #T_9fef3_row17_col8, #T_9fef3_row18_col8, #T_9fef3_row19_col8, #T_9fef3_row20_col8, #T_9fef3_row21_col8, #T_9fef3_row22_col8, #T_9fef3_row23_col8, #T_9fef3_row24_col8, #T_9fef3_row25_col8, #T_9fef3_row26_col8, #T_9fef3_row27_col8, #T_9fef3_row28_col8, #T_9fef3_row29_col8, #T_9fef3_row30_col8 {\n",
       "  background: blue;\n",
       "}\n",
       "#T_9fef3_row0_col9, #T_9fef3_row1_col9, #T_9fef3_row2_col9, #T_9fef3_row3_col9, #T_9fef3_row4_col9, #T_9fef3_row5_col9, #T_9fef3_row6_col9, #T_9fef3_row7_col9, #T_9fef3_row8_col9, #T_9fef3_row9_col9, #T_9fef3_row10_col9, #T_9fef3_row11_col9, #T_9fef3_row12_col9, #T_9fef3_row13_col9, #T_9fef3_row14_col9, #T_9fef3_row15_col9, #T_9fef3_row16_col9, #T_9fef3_row17_col9, #T_9fef3_row18_col9, #T_9fef3_row19_col9, #T_9fef3_row20_col9, #T_9fef3_row21_col9, #T_9fef3_row22_col9, #T_9fef3_row23_col9, #T_9fef3_row24_col9, #T_9fef3_row25_col9, #T_9fef3_row26_col9, #T_9fef3_row27_col9, #T_9fef3_row28_col9, #T_9fef3_row29_col9, #T_9fef3_row30_col9 {\n",
       "  background: purple;\n",
       "}\n",
       "</style>\n",
       "<table id=\"T_9fef3_\">\n",
       "  <thead>\n",
       "    <tr>\n",
       "      <th class=\"blank level0\" >&nbsp;</th>\n",
       "      <th class=\"col_heading level0 col0\" >source_state</th>\n",
       "      <th class=\"col_heading level0 col1\" >target_state</th>\n",
       "      <th class=\"col_heading level0 col2\" >fine_tune</th>\n",
       "      <th class=\"col_heading level0 col3\" >n_samples</th>\n",
       "      <th class=\"col_heading level0 col4\" >source_acc</th>\n",
       "      <th class=\"col_heading level0 col5\" >source_auc</th>\n",
       "      <th class=\"col_heading level0 col6\" >source_loss</th>\n",
       "      <th class=\"col_heading level0 col7\" >target_acc</th>\n",
       "      <th class=\"col_heading level0 col8\" >target_auc</th>\n",
       "      <th class=\"col_heading level0 col9\" >target_loss</th>\n",
       "      <th class=\"col_heading level0 col10\" >num_restarts</th>\n",
       "    </tr>\n",
       "  </thead>\n",
       "  <tbody>\n",
       "    <tr>\n",
       "      <th id=\"T_9fef3_level0_row0\" class=\"row_heading level0 row0\" >0</th>\n",
       "      <td id=\"T_9fef3_row0_col0\" class=\"data row0 col0\" >IL</td>\n",
       "      <td id=\"T_9fef3_row0_col1\" class=\"data row0 col1\" >CA</td>\n",
       "      <td id=\"T_9fef3_row0_col2\" class=\"data row0 col2\" >all</td>\n",
       "      <td id=\"T_9fef3_row0_col3\" class=\"data row0 col3\" >0</td>\n",
       "      <td id=\"T_9fef3_row0_col4\" class=\"data row0 col4\" >0.869 (0.014)</td>\n",
       "      <td id=\"T_9fef3_row0_col5\" class=\"data row0 col5\" >0.858 (0.017)</td>\n",
       "      <td id=\"T_9fef3_row0_col6\" class=\"data row0 col6\" >0.860 (0.109)</td>\n",
       "      <td id=\"T_9fef3_row0_col7\" class=\"data row0 col7\" >0.412 (0.034)</td>\n",
       "      <td id=\"T_9fef3_row0_col8\" class=\"data row0 col8\" >0.434 (0.042)</td>\n",
       "      <td id=\"T_9fef3_row0_col9\" class=\"data row0 col9\" >5.115 (0.556)</td>\n",
       "      <td id=\"T_9fef3_row0_col10\" class=\"data row0 col10\" >5</td>\n",
       "    </tr>\n",
       "    <tr>\n",
       "      <th id=\"T_9fef3_level0_row1\" class=\"row_heading level0 row1\" >1</th>\n",
       "      <td id=\"T_9fef3_row1_col0\" class=\"data row1 col0\" >IL</td>\n",
       "      <td id=\"T_9fef3_row1_col1\" class=\"data row1 col1\" >CA</td>\n",
       "      <td id=\"T_9fef3_row1_col2\" class=\"data row1 col2\" >block1</td>\n",
       "      <td id=\"T_9fef3_row1_col3\" class=\"data row1 col3\" >-1</td>\n",
       "      <td id=\"T_9fef3_row1_col4\" class=\"data row1 col4\" >0.833 (0.024)</td>\n",
       "      <td id=\"T_9fef3_row1_col5\" class=\"data row1 col5\" >0.798 (0.033)</td>\n",
       "      <td id=\"T_9fef3_row1_col6\" class=\"data row1 col6\" >1.499 (0.491)</td>\n",
       "      <td id=\"T_9fef3_row1_col7\" class=\"data row1 col7\" >0.512 (0.036)</td>\n",
       "      <td id=\"T_9fef3_row1_col8\" class=\"data row1 col8\" >0.605 (0.029)</td>\n",
       "      <td id=\"T_9fef3_row1_col9\" class=\"data row1 col9\" >5.031 (1.253)</td>\n",
       "      <td id=\"T_9fef3_row1_col10\" class=\"data row1 col10\" >5</td>\n",
       "    </tr>\n",
       "    <tr>\n",
       "      <th id=\"T_9fef3_level0_row2\" class=\"row_heading level0 row2\" >2</th>\n",
       "      <td id=\"T_9fef3_row2_col0\" class=\"data row2 col0\" >IL</td>\n",
       "      <td id=\"T_9fef3_row2_col1\" class=\"data row2 col1\" >CA</td>\n",
       "      <td id=\"T_9fef3_row2_col2\" class=\"data row2 col2\" >block1</td>\n",
       "      <td id=\"T_9fef3_row2_col3\" class=\"data row2 col3\" >20</td>\n",
       "      <td id=\"T_9fef3_row2_col4\" class=\"data row2 col4\" >0.868 (0.016)</td>\n",
       "      <td id=\"T_9fef3_row2_col5\" class=\"data row2 col5\" >0.853 (0.018)</td>\n",
       "      <td id=\"T_9fef3_row2_col6\" class=\"data row2 col6\" >0.902 (0.097)</td>\n",
       "      <td id=\"T_9fef3_row2_col7\" class=\"data row2 col7\" >0.411 (0.026)</td>\n",
       "      <td id=\"T_9fef3_row2_col8\" class=\"data row2 col8\" >0.451 (0.029)</td>\n",
       "      <td id=\"T_9fef3_row2_col9\" class=\"data row2 col9\" >5.588 (0.925)</td>\n",
       "      <td id=\"T_9fef3_row2_col10\" class=\"data row2 col10\" >5</td>\n",
       "    </tr>\n",
       "    <tr>\n",
       "      <th id=\"T_9fef3_level0_row3\" class=\"row_heading level0 row3\" >3</th>\n",
       "      <td id=\"T_9fef3_row3_col0\" class=\"data row3 col0\" >IL</td>\n",
       "      <td id=\"T_9fef3_row3_col1\" class=\"data row3 col1\" >CA</td>\n",
       "      <td id=\"T_9fef3_row3_col2\" class=\"data row3 col2\" >block1</td>\n",
       "      <td id=\"T_9fef3_row3_col3\" class=\"data row3 col3\" >50</td>\n",
       "      <td id=\"T_9fef3_row3_col4\" class=\"data row3 col4\" >0.869 (0.015)</td>\n",
       "      <td id=\"T_9fef3_row3_col5\" class=\"data row3 col5\" >0.857 (0.018)</td>\n",
       "      <td id=\"T_9fef3_row3_col6\" class=\"data row3 col6\" >0.881 (0.099)</td>\n",
       "      <td id=\"T_9fef3_row3_col7\" class=\"data row3 col7\" >0.421 (0.021)</td>\n",
       "      <td id=\"T_9fef3_row3_col8\" class=\"data row3 col8\" >0.445 (0.028)</td>\n",
       "      <td id=\"T_9fef3_row3_col9\" class=\"data row3 col9\" >5.112 (0.599)</td>\n",
       "      <td id=\"T_9fef3_row3_col10\" class=\"data row3 col10\" >5</td>\n",
       "    </tr>\n",
       "    <tr>\n",
       "      <th id=\"T_9fef3_level0_row4\" class=\"row_heading level0 row4\" >4</th>\n",
       "      <td id=\"T_9fef3_row4_col0\" class=\"data row4 col0\" >IL</td>\n",
       "      <td id=\"T_9fef3_row4_col1\" class=\"data row4 col1\" >CA</td>\n",
       "      <td id=\"T_9fef3_row4_col2\" class=\"data row4 col2\" >block1</td>\n",
       "      <td id=\"T_9fef3_row4_col3\" class=\"data row4 col3\" >100</td>\n",
       "      <td id=\"T_9fef3_row4_col4\" class=\"data row4 col4\" >0.868 (0.014)</td>\n",
       "      <td id=\"T_9fef3_row4_col5\" class=\"data row4 col5\" >0.851 (0.015)</td>\n",
       "      <td id=\"T_9fef3_row4_col6\" class=\"data row4 col6\" >0.933 (0.125)</td>\n",
       "      <td id=\"T_9fef3_row4_col7\" class=\"data row4 col7\" >0.418 (0.017)</td>\n",
       "      <td id=\"T_9fef3_row4_col8\" class=\"data row4 col8\" >0.463 (0.019)</td>\n",
       "      <td id=\"T_9fef3_row4_col9\" class=\"data row4 col9\" >5.467 (0.826)</td>\n",
       "      <td id=\"T_9fef3_row4_col10\" class=\"data row4 col10\" >5</td>\n",
       "    </tr>\n",
       "    <tr>\n",
       "      <th id=\"T_9fef3_level0_row5\" class=\"row_heading level0 row5\" >5</th>\n",
       "      <td id=\"T_9fef3_row5_col0\" class=\"data row5 col0\" >IL</td>\n",
       "      <td id=\"T_9fef3_row5_col1\" class=\"data row5 col1\" >CA</td>\n",
       "      <td id=\"T_9fef3_row5_col2\" class=\"data row5 col2\" >block1</td>\n",
       "      <td id=\"T_9fef3_row5_col3\" class=\"data row5 col3\" >200</td>\n",
       "      <td id=\"T_9fef3_row5_col4\" class=\"data row5 col4\" >0.869 (0.014)</td>\n",
       "      <td id=\"T_9fef3_row5_col5\" class=\"data row5 col5\" >0.851 (0.015)</td>\n",
       "      <td id=\"T_9fef3_row5_col6\" class=\"data row5 col6\" >0.948 (0.153)</td>\n",
       "      <td id=\"T_9fef3_row5_col7\" class=\"data row5 col7\" >0.436 (0.017)</td>\n",
       "      <td id=\"T_9fef3_row5_col8\" class=\"data row5 col8\" >0.487 (0.028)</td>\n",
       "      <td id=\"T_9fef3_row5_col9\" class=\"data row5 col9\" >5.495 (0.857)</td>\n",
       "      <td id=\"T_9fef3_row5_col10\" class=\"data row5 col10\" >5</td>\n",
       "    </tr>\n",
       "    <tr>\n",
       "      <th id=\"T_9fef3_level0_row6\" class=\"row_heading level0 row6\" >6</th>\n",
       "      <td id=\"T_9fef3_row6_col0\" class=\"data row6 col0\" >IL</td>\n",
       "      <td id=\"T_9fef3_row6_col1\" class=\"data row6 col1\" >CA</td>\n",
       "      <td id=\"T_9fef3_row6_col2\" class=\"data row6 col2\" >block1</td>\n",
       "      <td id=\"T_9fef3_row6_col3\" class=\"data row6 col3\" >300</td>\n",
       "      <td id=\"T_9fef3_row6_col4\" class=\"data row6 col4\" >0.854 (0.020)</td>\n",
       "      <td id=\"T_9fef3_row6_col5\" class=\"data row6 col5\" >0.829 (0.025)</td>\n",
       "      <td id=\"T_9fef3_row6_col6\" class=\"data row6 col6\" >1.115 (0.166)</td>\n",
       "      <td id=\"T_9fef3_row6_col7\" class=\"data row6 col7\" >0.496 (0.048)</td>\n",
       "      <td id=\"T_9fef3_row6_col8\" class=\"data row6 col8\" >0.564 (0.067)</td>\n",
       "      <td id=\"T_9fef3_row6_col9\" class=\"data row6 col9\" >4.755 (1.188)</td>\n",
       "      <td id=\"T_9fef3_row6_col10\" class=\"data row6 col10\" >5</td>\n",
       "    </tr>\n",
       "    <tr>\n",
       "      <th id=\"T_9fef3_level0_row7\" class=\"row_heading level0 row7\" >7</th>\n",
       "      <td id=\"T_9fef3_row7_col0\" class=\"data row7 col0\" >IL</td>\n",
       "      <td id=\"T_9fef3_row7_col1\" class=\"data row7 col1\" >CA</td>\n",
       "      <td id=\"T_9fef3_row7_col2\" class=\"data row7 col2\" >block2</td>\n",
       "      <td id=\"T_9fef3_row7_col3\" class=\"data row7 col3\" >-1</td>\n",
       "      <td id=\"T_9fef3_row7_col4\" class=\"data row7 col4\" >0.824 (0.009)</td>\n",
       "      <td id=\"T_9fef3_row7_col5\" class=\"data row7 col5\" >0.805 (0.003)</td>\n",
       "      <td id=\"T_9fef3_row7_col6\" class=\"data row7 col6\" >1.255 (0.166)</td>\n",
       "      <td id=\"T_9fef3_row7_col7\" class=\"data row7 col7\" >0.725 (0.039)</td>\n",
       "      <td id=\"T_9fef3_row7_col8\" class=\"data row7 col8\" >0.754 (0.049)</td>\n",
       "      <td id=\"T_9fef3_row7_col9\" class=\"data row7 col9\" >1.970 (0.169)</td>\n",
       "      <td id=\"T_9fef3_row7_col10\" class=\"data row7 col10\" >5</td>\n",
       "    </tr>\n",
       "    <tr>\n",
       "      <th id=\"T_9fef3_level0_row8\" class=\"row_heading level0 row8\" >8</th>\n",
       "      <td id=\"T_9fef3_row8_col0\" class=\"data row8 col0\" >IL</td>\n",
       "      <td id=\"T_9fef3_row8_col1\" class=\"data row8 col1\" >CA</td>\n",
       "      <td id=\"T_9fef3_row8_col2\" class=\"data row8 col2\" >block2</td>\n",
       "      <td id=\"T_9fef3_row8_col3\" class=\"data row8 col3\" >20</td>\n",
       "      <td id=\"T_9fef3_row8_col4\" class=\"data row8 col4\" >0.867 (0.014)</td>\n",
       "      <td id=\"T_9fef3_row8_col5\" class=\"data row8 col5\" >0.856 (0.017)</td>\n",
       "      <td id=\"T_9fef3_row8_col6\" class=\"data row8 col6\" >0.882 (0.107)</td>\n",
       "      <td id=\"T_9fef3_row8_col7\" class=\"data row8 col7\" >0.430 (0.020)</td>\n",
       "      <td id=\"T_9fef3_row8_col8\" class=\"data row8 col8\" >0.457 (0.041)</td>\n",
       "      <td id=\"T_9fef3_row8_col9\" class=\"data row8 col9\" >5.029 (0.572)</td>\n",
       "      <td id=\"T_9fef3_row8_col10\" class=\"data row8 col10\" >5</td>\n",
       "    </tr>\n",
       "    <tr>\n",
       "      <th id=\"T_9fef3_level0_row9\" class=\"row_heading level0 row9\" >9</th>\n",
       "      <td id=\"T_9fef3_row9_col0\" class=\"data row9 col0\" >IL</td>\n",
       "      <td id=\"T_9fef3_row9_col1\" class=\"data row9 col1\" >CA</td>\n",
       "      <td id=\"T_9fef3_row9_col2\" class=\"data row9 col2\" >block2</td>\n",
       "      <td id=\"T_9fef3_row9_col3\" class=\"data row9 col3\" >50</td>\n",
       "      <td id=\"T_9fef3_row9_col4\" class=\"data row9 col4\" >0.863 (0.015)</td>\n",
       "      <td id=\"T_9fef3_row9_col5\" class=\"data row9 col5\" >0.845 (0.021)</td>\n",
       "      <td id=\"T_9fef3_row9_col6\" class=\"data row9 col6\" >0.895 (0.084)</td>\n",
       "      <td id=\"T_9fef3_row9_col7\" class=\"data row9 col7\" >0.450 (0.024)</td>\n",
       "      <td id=\"T_9fef3_row9_col8\" class=\"data row9 col8\" >0.494 (0.041)</td>\n",
       "      <td id=\"T_9fef3_row9_col9\" class=\"data row9 col9\" >4.667 (0.665)</td>\n",
       "      <td id=\"T_9fef3_row9_col10\" class=\"data row9 col10\" >5</td>\n",
       "    </tr>\n",
       "    <tr>\n",
       "      <th id=\"T_9fef3_level0_row10\" class=\"row_heading level0 row10\" >10</th>\n",
       "      <td id=\"T_9fef3_row10_col0\" class=\"data row10 col0\" >IL</td>\n",
       "      <td id=\"T_9fef3_row10_col1\" class=\"data row10 col1\" >CA</td>\n",
       "      <td id=\"T_9fef3_row10_col2\" class=\"data row10 col2\" >block2</td>\n",
       "      <td id=\"T_9fef3_row10_col3\" class=\"data row10 col3\" >100</td>\n",
       "      <td id=\"T_9fef3_row10_col4\" class=\"data row10 col4\" >0.854 (0.008)</td>\n",
       "      <td id=\"T_9fef3_row10_col5\" class=\"data row10 col5\" >0.828 (0.011)</td>\n",
       "      <td id=\"T_9fef3_row10_col6\" class=\"data row10 col6\" >1.095 (0.197)</td>\n",
       "      <td id=\"T_9fef3_row10_col7\" class=\"data row10 col7\" >0.505 (0.052)</td>\n",
       "      <td id=\"T_9fef3_row10_col8\" class=\"data row10 col8\" >0.577 (0.075)</td>\n",
       "      <td id=\"T_9fef3_row10_col9\" class=\"data row10 col9\" >4.637 (0.604)</td>\n",
       "      <td id=\"T_9fef3_row10_col10\" class=\"data row10 col10\" >5</td>\n",
       "    </tr>\n",
       "    <tr>\n",
       "      <th id=\"T_9fef3_level0_row11\" class=\"row_heading level0 row11\" >11</th>\n",
       "      <td id=\"T_9fef3_row11_col0\" class=\"data row11 col0\" >IL</td>\n",
       "      <td id=\"T_9fef3_row11_col1\" class=\"data row11 col1\" >CA</td>\n",
       "      <td id=\"T_9fef3_row11_col2\" class=\"data row11 col2\" >block2</td>\n",
       "      <td id=\"T_9fef3_row11_col3\" class=\"data row11 col3\" >200</td>\n",
       "      <td id=\"T_9fef3_row11_col4\" class=\"data row11 col4\" >0.825 (0.012)</td>\n",
       "      <td id=\"T_9fef3_row11_col5\" class=\"data row11 col5\" >0.787 (0.018)</td>\n",
       "      <td id=\"T_9fef3_row11_col6\" class=\"data row11 col6\" >1.376 (0.115)</td>\n",
       "      <td id=\"T_9fef3_row11_col7\" class=\"data row11 col7\" >0.629 (0.020)</td>\n",
       "      <td id=\"T_9fef3_row11_col8\" class=\"data row11 col8\" >0.689 (0.035)</td>\n",
       "      <td id=\"T_9fef3_row11_col9\" class=\"data row11 col9\" >3.054 (0.637)</td>\n",
       "      <td id=\"T_9fef3_row11_col10\" class=\"data row11 col10\" >5</td>\n",
       "    </tr>\n",
       "    <tr>\n",
       "      <th id=\"T_9fef3_level0_row12\" class=\"row_heading level0 row12\" >12</th>\n",
       "      <td id=\"T_9fef3_row12_col0\" class=\"data row12 col0\" >IL</td>\n",
       "      <td id=\"T_9fef3_row12_col1\" class=\"data row12 col1\" >CA</td>\n",
       "      <td id=\"T_9fef3_row12_col2\" class=\"data row12 col2\" >block2</td>\n",
       "      <td id=\"T_9fef3_row12_col3\" class=\"data row12 col3\" >300</td>\n",
       "      <td id=\"T_9fef3_row12_col4\" class=\"data row12 col4\" >0.826 (0.015)</td>\n",
       "      <td id=\"T_9fef3_row12_col5\" class=\"data row12 col5\" >0.793 (0.022)</td>\n",
       "      <td id=\"T_9fef3_row12_col6\" class=\"data row12 col6\" >1.260 (0.183)</td>\n",
       "      <td id=\"T_9fef3_row12_col7\" class=\"data row12 col7\" >0.666 (0.063)</td>\n",
       "      <td id=\"T_9fef3_row12_col8\" class=\"data row12 col8\" >0.714 (0.054)</td>\n",
       "      <td id=\"T_9fef3_row12_col9\" class=\"data row12 col9\" >2.464 (0.602)</td>\n",
       "      <td id=\"T_9fef3_row12_col10\" class=\"data row12 col10\" >5</td>\n",
       "    </tr>\n",
       "    <tr>\n",
       "      <th id=\"T_9fef3_level0_row13\" class=\"row_heading level0 row13\" >13</th>\n",
       "      <td id=\"T_9fef3_row13_col0\" class=\"data row13 col0\" >IL</td>\n",
       "      <td id=\"T_9fef3_row13_col1\" class=\"data row13 col1\" >CA</td>\n",
       "      <td id=\"T_9fef3_row13_col2\" class=\"data row13 col2\" >block3</td>\n",
       "      <td id=\"T_9fef3_row13_col3\" class=\"data row13 col3\" >-1</td>\n",
       "      <td id=\"T_9fef3_row13_col4\" class=\"data row13 col4\" >0.733 (0.034)</td>\n",
       "      <td id=\"T_9fef3_row13_col5\" class=\"data row13 col5\" >0.742 (0.032)</td>\n",
       "      <td id=\"T_9fef3_row13_col6\" class=\"data row13 col6\" >1.750 (0.940)</td>\n",
       "      <td id=\"T_9fef3_row13_col7\" class=\"data row13 col7\" >0.793 (0.028)</td>\n",
       "      <td id=\"T_9fef3_row13_col8\" class=\"data row13 col8\" >0.778 (0.019)</td>\n",
       "      <td id=\"T_9fef3_row13_col9\" class=\"data row13 col9\" >1.268 (0.368)</td>\n",
       "      <td id=\"T_9fef3_row13_col10\" class=\"data row13 col10\" >5</td>\n",
       "    </tr>\n",
       "    <tr>\n",
       "      <th id=\"T_9fef3_level0_row14\" class=\"row_heading level0 row14\" >14</th>\n",
       "      <td id=\"T_9fef3_row14_col0\" class=\"data row14 col0\" >IL</td>\n",
       "      <td id=\"T_9fef3_row14_col1\" class=\"data row14 col1\" >CA</td>\n",
       "      <td id=\"T_9fef3_row14_col2\" class=\"data row14 col2\" >block3</td>\n",
       "      <td id=\"T_9fef3_row14_col3\" class=\"data row14 col3\" >20</td>\n",
       "      <td id=\"T_9fef3_row14_col4\" class=\"data row14 col4\" >0.854 (0.024)</td>\n",
       "      <td id=\"T_9fef3_row14_col5\" class=\"data row14 col5\" >0.849 (0.018)</td>\n",
       "      <td id=\"T_9fef3_row14_col6\" class=\"data row14 col6\" >0.993 (0.222)</td>\n",
       "      <td id=\"T_9fef3_row14_col7\" class=\"data row14 col7\" >0.463 (0.049)</td>\n",
       "      <td id=\"T_9fef3_row14_col8\" class=\"data row14 col8\" >0.475 (0.028)</td>\n",
       "      <td id=\"T_9fef3_row14_col9\" class=\"data row14 col9\" >4.751 (0.436)</td>\n",
       "      <td id=\"T_9fef3_row14_col10\" class=\"data row14 col10\" >5</td>\n",
       "    </tr>\n",
       "    <tr>\n",
       "      <th id=\"T_9fef3_level0_row15\" class=\"row_heading level0 row15\" >15</th>\n",
       "      <td id=\"T_9fef3_row15_col0\" class=\"data row15 col0\" >IL</td>\n",
       "      <td id=\"T_9fef3_row15_col1\" class=\"data row15 col1\" >CA</td>\n",
       "      <td id=\"T_9fef3_row15_col2\" class=\"data row15 col2\" >block3</td>\n",
       "      <td id=\"T_9fef3_row15_col3\" class=\"data row15 col3\" >50</td>\n",
       "      <td id=\"T_9fef3_row15_col4\" class=\"data row15 col4\" >0.823 (0.043)</td>\n",
       "      <td id=\"T_9fef3_row15_col5\" class=\"data row15 col5\" >0.829 (0.033)</td>\n",
       "      <td id=\"T_9fef3_row15_col6\" class=\"data row15 col6\" >1.121 (0.294)</td>\n",
       "      <td id=\"T_9fef3_row15_col7\" class=\"data row15 col7\" >0.579 (0.086)</td>\n",
       "      <td id=\"T_9fef3_row15_col8\" class=\"data row15 col8\" >0.565 (0.058)</td>\n",
       "      <td id=\"T_9fef3_row15_col9\" class=\"data row15 col9\" >3.120 (1.348)</td>\n",
       "      <td id=\"T_9fef3_row15_col10\" class=\"data row15 col10\" >5</td>\n",
       "    </tr>\n",
       "    <tr>\n",
       "      <th id=\"T_9fef3_level0_row16\" class=\"row_heading level0 row16\" >16</th>\n",
       "      <td id=\"T_9fef3_row16_col0\" class=\"data row16 col0\" >IL</td>\n",
       "      <td id=\"T_9fef3_row16_col1\" class=\"data row16 col1\" >CA</td>\n",
       "      <td id=\"T_9fef3_row16_col2\" class=\"data row16 col2\" >block3</td>\n",
       "      <td id=\"T_9fef3_row16_col3\" class=\"data row16 col3\" >100</td>\n",
       "      <td id=\"T_9fef3_row16_col4\" class=\"data row16 col4\" >0.796 (0.056)</td>\n",
       "      <td id=\"T_9fef3_row16_col5\" class=\"data row16 col5\" >0.810 (0.041)</td>\n",
       "      <td id=\"T_9fef3_row16_col6\" class=\"data row16 col6\" >1.339 (0.351)</td>\n",
       "      <td id=\"T_9fef3_row16_col7\" class=\"data row16 col7\" >0.666 (0.076)</td>\n",
       "      <td id=\"T_9fef3_row16_col8\" class=\"data row16 col8\" >0.642 (0.067)</td>\n",
       "      <td id=\"T_9fef3_row16_col9\" class=\"data row16 col9\" >2.629 (0.998)</td>\n",
       "      <td id=\"T_9fef3_row16_col10\" class=\"data row16 col10\" >5</td>\n",
       "    </tr>\n",
       "    <tr>\n",
       "      <th id=\"T_9fef3_level0_row17\" class=\"row_heading level0 row17\" >17</th>\n",
       "      <td id=\"T_9fef3_row17_col0\" class=\"data row17 col0\" >IL</td>\n",
       "      <td id=\"T_9fef3_row17_col1\" class=\"data row17 col1\" >CA</td>\n",
       "      <td id=\"T_9fef3_row17_col2\" class=\"data row17 col2\" >block3</td>\n",
       "      <td id=\"T_9fef3_row17_col3\" class=\"data row17 col3\" >200</td>\n",
       "      <td id=\"T_9fef3_row17_col4\" class=\"data row17 col4\" >0.789 (0.032)</td>\n",
       "      <td id=\"T_9fef3_row17_col5\" class=\"data row17 col5\" >0.793 (0.036)</td>\n",
       "      <td id=\"T_9fef3_row17_col6\" class=\"data row17 col6\" >1.235 (0.236)</td>\n",
       "      <td id=\"T_9fef3_row17_col7\" class=\"data row17 col7\" >0.727 (0.068)</td>\n",
       "      <td id=\"T_9fef3_row17_col8\" class=\"data row17 col8\" >0.704 (0.070)</td>\n",
       "      <td id=\"T_9fef3_row17_col9\" class=\"data row17 col9\" >1.742 (0.431)</td>\n",
       "      <td id=\"T_9fef3_row17_col10\" class=\"data row17 col10\" >5</td>\n",
       "    </tr>\n",
       "    <tr>\n",
       "      <th id=\"T_9fef3_level0_row18\" class=\"row_heading level0 row18\" >18</th>\n",
       "      <td id=\"T_9fef3_row18_col0\" class=\"data row18 col0\" >IL</td>\n",
       "      <td id=\"T_9fef3_row18_col1\" class=\"data row18 col1\" >CA</td>\n",
       "      <td id=\"T_9fef3_row18_col2\" class=\"data row18 col2\" >block3</td>\n",
       "      <td id=\"T_9fef3_row18_col3\" class=\"data row18 col3\" >300</td>\n",
       "      <td id=\"T_9fef3_row18_col4\" class=\"data row18 col4\" >0.767 (0.034)</td>\n",
       "      <td id=\"T_9fef3_row18_col5\" class=\"data row18 col5\" >0.775 (0.037)</td>\n",
       "      <td id=\"T_9fef3_row18_col6\" class=\"data row18 col6\" >1.257 (0.196)</td>\n",
       "      <td id=\"T_9fef3_row18_col7\" class=\"data row18 col7\" >0.770 (0.023)</td>\n",
       "      <td id=\"T_9fef3_row18_col8\" class=\"data row18 col8\" >0.753 (0.037)</td>\n",
       "      <td id=\"T_9fef3_row18_col9\" class=\"data row18 col9\" >1.350 (0.278)</td>\n",
       "      <td id=\"T_9fef3_row18_col10\" class=\"data row18 col10\" >5</td>\n",
       "    </tr>\n",
       "    <tr>\n",
       "      <th id=\"T_9fef3_level0_row19\" class=\"row_heading level0 row19\" >19</th>\n",
       "      <td id=\"T_9fef3_row19_col0\" class=\"data row19 col0\" >IL</td>\n",
       "      <td id=\"T_9fef3_row19_col1\" class=\"data row19 col1\" >CA</td>\n",
       "      <td id=\"T_9fef3_row19_col2\" class=\"data row19 col2\" >block4</td>\n",
       "      <td id=\"T_9fef3_row19_col3\" class=\"data row19 col3\" >-1</td>\n",
       "      <td id=\"T_9fef3_row19_col4\" class=\"data row19 col4\" >0.453 (0.084)</td>\n",
       "      <td id=\"T_9fef3_row19_col5\" class=\"data row19 col5\" >0.449 (0.082)</td>\n",
       "      <td id=\"T_9fef3_row19_col6\" class=\"data row19 col6\" >3.884 (3.376)</td>\n",
       "      <td id=\"T_9fef3_row19_col7\" class=\"data row19 col7\" >0.836 (0.030)</td>\n",
       "      <td id=\"T_9fef3_row19_col8\" class=\"data row19 col8\" >0.817 (0.035)</td>\n",
       "      <td id=\"T_9fef3_row19_col9\" class=\"data row19 col9\" >0.683 (0.122)</td>\n",
       "      <td id=\"T_9fef3_row19_col10\" class=\"data row19 col10\" >5</td>\n",
       "    </tr>\n",
       "    <tr>\n",
       "      <th id=\"T_9fef3_level0_row20\" class=\"row_heading level0 row20\" >20</th>\n",
       "      <td id=\"T_9fef3_row20_col0\" class=\"data row20 col0\" >IL</td>\n",
       "      <td id=\"T_9fef3_row20_col1\" class=\"data row20 col1\" >CA</td>\n",
       "      <td id=\"T_9fef3_row20_col2\" class=\"data row20 col2\" >block4</td>\n",
       "      <td id=\"T_9fef3_row20_col3\" class=\"data row20 col3\" >20</td>\n",
       "      <td id=\"T_9fef3_row20_col4\" class=\"data row20 col4\" >0.821 (0.049)</td>\n",
       "      <td id=\"T_9fef3_row20_col5\" class=\"data row20 col5\" >0.824 (0.035)</td>\n",
       "      <td id=\"T_9fef3_row20_col6\" class=\"data row20 col6\" >1.226 (0.364)</td>\n",
       "      <td id=\"T_9fef3_row20_col7\" class=\"data row20 col7\" >0.439 (0.050)</td>\n",
       "      <td id=\"T_9fef3_row20_col8\" class=\"data row20 col8\" >0.428 (0.021)</td>\n",
       "      <td id=\"T_9fef3_row20_col9\" class=\"data row20 col9\" >4.568 (0.826)</td>\n",
       "      <td id=\"T_9fef3_row20_col10\" class=\"data row20 col10\" >5</td>\n",
       "    </tr>\n",
       "    <tr>\n",
       "      <th id=\"T_9fef3_level0_row21\" class=\"row_heading level0 row21\" >21</th>\n",
       "      <td id=\"T_9fef3_row21_col0\" class=\"data row21 col0\" >IL</td>\n",
       "      <td id=\"T_9fef3_row21_col1\" class=\"data row21 col1\" >CA</td>\n",
       "      <td id=\"T_9fef3_row21_col2\" class=\"data row21 col2\" >block4</td>\n",
       "      <td id=\"T_9fef3_row21_col3\" class=\"data row21 col3\" >50</td>\n",
       "      <td id=\"T_9fef3_row21_col4\" class=\"data row21 col4\" >0.704 (0.113)</td>\n",
       "      <td id=\"T_9fef3_row21_col5\" class=\"data row21 col5\" >0.747 (0.085)</td>\n",
       "      <td id=\"T_9fef3_row21_col6\" class=\"data row21 col6\" >1.706 (0.888)</td>\n",
       "      <td id=\"T_9fef3_row21_col7\" class=\"data row21 col7\" >0.584 (0.113)</td>\n",
       "      <td id=\"T_9fef3_row21_col8\" class=\"data row21 col8\" >0.489 (0.068)</td>\n",
       "      <td id=\"T_9fef3_row21_col9\" class=\"data row21 col9\" >2.779 (1.841)</td>\n",
       "      <td id=\"T_9fef3_row21_col10\" class=\"data row21 col10\" >5</td>\n",
       "    </tr>\n",
       "    <tr>\n",
       "      <th id=\"T_9fef3_level0_row22\" class=\"row_heading level0 row22\" >22</th>\n",
       "      <td id=\"T_9fef3_row22_col0\" class=\"data row22 col0\" >IL</td>\n",
       "      <td id=\"T_9fef3_row22_col1\" class=\"data row22 col1\" >CA</td>\n",
       "      <td id=\"T_9fef3_row22_col2\" class=\"data row22 col2\" >block4</td>\n",
       "      <td id=\"T_9fef3_row22_col3\" class=\"data row22 col3\" >100</td>\n",
       "      <td id=\"T_9fef3_row22_col4\" class=\"data row22 col4\" >0.632 (0.143)</td>\n",
       "      <td id=\"T_9fef3_row22_col5\" class=\"data row22 col5\" >0.674 (0.120)</td>\n",
       "      <td id=\"T_9fef3_row22_col6\" class=\"data row22 col6\" >1.581 (0.649)</td>\n",
       "      <td id=\"T_9fef3_row22_col7\" class=\"data row22 col7\" >0.646 (0.170)</td>\n",
       "      <td id=\"T_9fef3_row22_col8\" class=\"data row22 col8\" >0.574 (0.139)</td>\n",
       "      <td id=\"T_9fef3_row22_col9\" class=\"data row22 col9\" >2.021 (2.213)</td>\n",
       "      <td id=\"T_9fef3_row22_col10\" class=\"data row22 col10\" >5</td>\n",
       "    </tr>\n",
       "    <tr>\n",
       "      <th id=\"T_9fef3_level0_row23\" class=\"row_heading level0 row23\" >23</th>\n",
       "      <td id=\"T_9fef3_row23_col0\" class=\"data row23 col0\" >IL</td>\n",
       "      <td id=\"T_9fef3_row23_col1\" class=\"data row23 col1\" >CA</td>\n",
       "      <td id=\"T_9fef3_row23_col2\" class=\"data row23 col2\" >block4</td>\n",
       "      <td id=\"T_9fef3_row23_col3\" class=\"data row23 col3\" >200</td>\n",
       "      <td id=\"T_9fef3_row23_col4\" class=\"data row23 col4\" >0.650 (0.140)</td>\n",
       "      <td id=\"T_9fef3_row23_col5\" class=\"data row23 col5\" >0.659 (0.139)</td>\n",
       "      <td id=\"T_9fef3_row23_col6\" class=\"data row23 col6\" >1.252 (0.596)</td>\n",
       "      <td id=\"T_9fef3_row23_col7\" class=\"data row23 col7\" >0.648 (0.189)</td>\n",
       "      <td id=\"T_9fef3_row23_col8\" class=\"data row23 col8\" >0.616 (0.175)</td>\n",
       "      <td id=\"T_9fef3_row23_col9\" class=\"data row23 col9\" >1.803 (2.194)</td>\n",
       "      <td id=\"T_9fef3_row23_col10\" class=\"data row23 col10\" >5</td>\n",
       "    </tr>\n",
       "    <tr>\n",
       "      <th id=\"T_9fef3_level0_row24\" class=\"row_heading level0 row24\" >24</th>\n",
       "      <td id=\"T_9fef3_row24_col0\" class=\"data row24 col0\" >IL</td>\n",
       "      <td id=\"T_9fef3_row24_col1\" class=\"data row24 col1\" >CA</td>\n",
       "      <td id=\"T_9fef3_row24_col2\" class=\"data row24 col2\" >block4</td>\n",
       "      <td id=\"T_9fef3_row24_col3\" class=\"data row24 col3\" >300</td>\n",
       "      <td id=\"T_9fef3_row24_col4\" class=\"data row24 col4\" >0.528 (0.061)</td>\n",
       "      <td id=\"T_9fef3_row24_col5\" class=\"data row24 col5\" >0.531 (0.046)</td>\n",
       "      <td id=\"T_9fef3_row24_col6\" class=\"data row24 col6\" >2.143 (0.413)</td>\n",
       "      <td id=\"T_9fef3_row24_col7\" class=\"data row24 col7\" >0.796 (0.035)</td>\n",
       "      <td id=\"T_9fef3_row24_col8\" class=\"data row24 col8\" >0.779 (0.043)</td>\n",
       "      <td id=\"T_9fef3_row24_col9\" class=\"data row24 col9\" >0.838 (0.268)</td>\n",
       "      <td id=\"T_9fef3_row24_col10\" class=\"data row24 col10\" >5</td>\n",
       "    </tr>\n",
       "    <tr>\n",
       "      <th id=\"T_9fef3_level0_row25\" class=\"row_heading level0 row25\" >25</th>\n",
       "      <td id=\"T_9fef3_row25_col0\" class=\"data row25 col0\" >IL</td>\n",
       "      <td id=\"T_9fef3_row25_col1\" class=\"data row25 col1\" >CA</td>\n",
       "      <td id=\"T_9fef3_row25_col2\" class=\"data row25 col2\" >clf</td>\n",
       "      <td id=\"T_9fef3_row25_col3\" class=\"data row25 col3\" >-1</td>\n",
       "      <td id=\"T_9fef3_row25_col4\" class=\"data row25 col4\" >0.364 (0.150)</td>\n",
       "      <td id=\"T_9fef3_row25_col5\" class=\"data row25 col5\" >0.408 (0.161)</td>\n",
       "      <td id=\"T_9fef3_row25_col6\" class=\"data row25 col6\" >1.448 (0.498)</td>\n",
       "      <td id=\"T_9fef3_row25_col7\" class=\"data row25 col7\" >0.679 (0.038)</td>\n",
       "      <td id=\"T_9fef3_row25_col8\" class=\"data row25 col8\" >0.595 (0.059)</td>\n",
       "      <td id=\"T_9fef3_row25_col9\" class=\"data row25 col9\" >0.734 (0.181)</td>\n",
       "      <td id=\"T_9fef3_row25_col10\" class=\"data row25 col10\" >5</td>\n",
       "    </tr>\n",
       "    <tr>\n",
       "      <th id=\"T_9fef3_level0_row26\" class=\"row_heading level0 row26\" >26</th>\n",
       "      <td id=\"T_9fef3_row26_col0\" class=\"data row26 col0\" >IL</td>\n",
       "      <td id=\"T_9fef3_row26_col1\" class=\"data row26 col1\" >CA</td>\n",
       "      <td id=\"T_9fef3_row26_col2\" class=\"data row26 col2\" >clf</td>\n",
       "      <td id=\"T_9fef3_row26_col3\" class=\"data row26 col3\" >20</td>\n",
       "      <td id=\"T_9fef3_row26_col4\" class=\"data row26 col4\" >0.847 (0.035)</td>\n",
       "      <td id=\"T_9fef3_row26_col5\" class=\"data row26 col5\" >0.842 (0.023)</td>\n",
       "      <td id=\"T_9fef3_row26_col6\" class=\"data row26 col6\" >1.261 (0.868)</td>\n",
       "      <td id=\"T_9fef3_row26_col7\" class=\"data row26 col7\" >0.414 (0.051)</td>\n",
       "      <td id=\"T_9fef3_row26_col8\" class=\"data row26 col8\" >0.430 (0.030)</td>\n",
       "      <td id=\"T_9fef3_row26_col9\" class=\"data row26 col9\" >4.970 (0.823)</td>\n",
       "      <td id=\"T_9fef3_row26_col10\" class=\"data row26 col10\" >5</td>\n",
       "    </tr>\n",
       "    <tr>\n",
       "      <th id=\"T_9fef3_level0_row27\" class=\"row_heading level0 row27\" >27</th>\n",
       "      <td id=\"T_9fef3_row27_col0\" class=\"data row27 col0\" >IL</td>\n",
       "      <td id=\"T_9fef3_row27_col1\" class=\"data row27 col1\" >CA</td>\n",
       "      <td id=\"T_9fef3_row27_col2\" class=\"data row27 col2\" >clf</td>\n",
       "      <td id=\"T_9fef3_row27_col3\" class=\"data row27 col3\" >50</td>\n",
       "      <td id=\"T_9fef3_row27_col4\" class=\"data row27 col4\" >0.657 (0.178)</td>\n",
       "      <td id=\"T_9fef3_row27_col5\" class=\"data row27 col5\" >0.699 (0.145)</td>\n",
       "      <td id=\"T_9fef3_row27_col6\" class=\"data row27 col6\" >1.033 (0.222)</td>\n",
       "      <td id=\"T_9fef3_row27_col7\" class=\"data row27 col7\" >0.564 (0.077)</td>\n",
       "      <td id=\"T_9fef3_row27_col8\" class=\"data row27 col8\" >0.476 (0.020)</td>\n",
       "      <td id=\"T_9fef3_row27_col9\" class=\"data row27 col9\" >1.733 (1.896)</td>\n",
       "      <td id=\"T_9fef3_row27_col10\" class=\"data row27 col10\" >5</td>\n",
       "    </tr>\n",
       "    <tr>\n",
       "      <th id=\"T_9fef3_level0_row28\" class=\"row_heading level0 row28\" >28</th>\n",
       "      <td id=\"T_9fef3_row28_col0\" class=\"data row28 col0\" >IL</td>\n",
       "      <td id=\"T_9fef3_row28_col1\" class=\"data row28 col1\" >CA</td>\n",
       "      <td id=\"T_9fef3_row28_col2\" class=\"data row28 col2\" >clf</td>\n",
       "      <td id=\"T_9fef3_row28_col3\" class=\"data row28 col3\" >100</td>\n",
       "      <td id=\"T_9fef3_row28_col4\" class=\"data row28 col4\" >0.570 (0.277)</td>\n",
       "      <td id=\"T_9fef3_row28_col5\" class=\"data row28 col5\" >0.606 (0.235)</td>\n",
       "      <td id=\"T_9fef3_row28_col6\" class=\"data row28 col6\" >1.040 (0.233)</td>\n",
       "      <td id=\"T_9fef3_row28_col7\" class=\"data row28 col7\" >0.595 (0.169)</td>\n",
       "      <td id=\"T_9fef3_row28_col8\" class=\"data row28 col8\" >0.523 (0.092)</td>\n",
       "      <td id=\"T_9fef3_row28_col9\" class=\"data row28 col9\" >2.218 (2.242)</td>\n",
       "      <td id=\"T_9fef3_row28_col10\" class=\"data row28 col10\" >5</td>\n",
       "    </tr>\n",
       "    <tr>\n",
       "      <th id=\"T_9fef3_level0_row29\" class=\"row_heading level0 row29\" >29</th>\n",
       "      <td id=\"T_9fef3_row29_col0\" class=\"data row29 col0\" >IL</td>\n",
       "      <td id=\"T_9fef3_row29_col1\" class=\"data row29 col1\" >CA</td>\n",
       "      <td id=\"T_9fef3_row29_col2\" class=\"data row29 col2\" >clf</td>\n",
       "      <td id=\"T_9fef3_row29_col3\" class=\"data row29 col3\" >200</td>\n",
       "      <td id=\"T_9fef3_row29_col4\" class=\"data row29 col4\" >0.572 (0.238)</td>\n",
       "      <td id=\"T_9fef3_row29_col5\" class=\"data row29 col5\" >0.627 (0.194)</td>\n",
       "      <td id=\"T_9fef3_row29_col6\" class=\"data row29 col6\" >0.921 (0.213)</td>\n",
       "      <td id=\"T_9fef3_row29_col7\" class=\"data row29 col7\" >0.616 (0.115)</td>\n",
       "      <td id=\"T_9fef3_row29_col8\" class=\"data row29 col8\" >0.507 (0.043)</td>\n",
       "      <td id=\"T_9fef3_row29_col9\" class=\"data row29 col9\" >1.557 (1.431)</td>\n",
       "      <td id=\"T_9fef3_row29_col10\" class=\"data row29 col10\" >5</td>\n",
       "    </tr>\n",
       "    <tr>\n",
       "      <th id=\"T_9fef3_level0_row30\" class=\"row_heading level0 row30\" >30</th>\n",
       "      <td id=\"T_9fef3_row30_col0\" class=\"data row30 col0\" >IL</td>\n",
       "      <td id=\"T_9fef3_row30_col1\" class=\"data row30 col1\" >CA</td>\n",
       "      <td id=\"T_9fef3_row30_col2\" class=\"data row30 col2\" >clf</td>\n",
       "      <td id=\"T_9fef3_row30_col3\" class=\"data row30 col3\" >300</td>\n",
       "      <td id=\"T_9fef3_row30_col4\" class=\"data row30 col4\" >0.486 (0.236)</td>\n",
       "      <td id=\"T_9fef3_row30_col5\" class=\"data row30 col5\" >0.555 (0.203)</td>\n",
       "      <td id=\"T_9fef3_row30_col6\" class=\"data row30 col6\" >1.031 (0.240)</td>\n",
       "      <td id=\"T_9fef3_row30_col7\" class=\"data row30 col7\" >0.670 (0.099)</td>\n",
       "      <td id=\"T_9fef3_row30_col8\" class=\"data row30 col8\" >0.549 (0.058)</td>\n",
       "      <td id=\"T_9fef3_row30_col9\" class=\"data row30 col9\" >1.093 (1.114)</td>\n",
       "      <td id=\"T_9fef3_row30_col10\" class=\"data row30 col10\" >5</td>\n",
       "    </tr>\n",
       "  </tbody>\n",
       "</table>\n"
      ],
      "text/plain": [
       "<pandas.io.formats.style.Styler at 0x7efb742521d0>"
      ]
     },
     "metadata": {},
     "output_type": "display_data"
    }
   ],
   "source": [
    "print_df(summarize_restarts(data.loc[data['target_state'] == 'CA'], groupby_cols=['source_state', 'target_state', 'fine_tune', 'n_samples']))"
   ]
  },
  {
   "cell_type": "markdown",
   "id": "142aa351-1280-477f-a12a-ede6b300f414",
   "metadata": {},
   "source": [
    "# ResNet Target ERM"
   ]
  },
  {
   "cell_type": "code",
   "execution_count": 228,
   "id": "f32aa827-8f37-483a-8c0c-26285bd65df9",
   "metadata": {},
   "outputs": [],
   "source": [
    "data = df.loc[(df['backbone'] == 'resnet152') & (df['approach'] == 'Target_ERM_ResNet')].drop_duplicates(ignore_index=True)\n",
    "data = data.sort_values('target_state').reset_index(drop=True)\n",
    "\n",
    "data_lf = df_lf.loc[(df_lf['backbone'] == 'resnet152') & (df_lf['approach'] == 'Target_ERM_ResNet')].drop_duplicates(ignore_index=True)\n",
    "data_lf = data_lf.sort_values('target_state').reset_index(drop=True)"
   ]
  },
  {
   "cell_type": "code",
   "execution_count": null,
   "id": "159cb9d0-7068-4bbb-8330-6af475ee6cb3",
   "metadata": {},
   "outputs": [],
   "source": [
    "sns.barplot(data=data_lf.loc[(data_lf['metric'] != 'logloss')].drop_duplicates(ignore_index=True),\n",
    "            x='metric', y='source_value', hue='train_state', hue_order=['', 'CA', 'IN', 'TX'], palette='Set2')\n",
    "plt.legend(bbox_to_anchor=(1.05, 1), loc='upper left', borderaxespad=0)\n",
    "plt.title('Target ERM');"
   ]
  },
  {
   "cell_type": "code",
   "execution_count": 205,
   "id": "5aa074fa-8b22-47af-b7bb-4e6649d31c03",
   "metadata": {},
   "outputs": [],
   "source": [
    "target_erm_resnet = summarize_restarts(data)"
   ]
  },
  {
   "cell_type": "code",
   "execution_count": 206,
   "id": "cf80a5fe-94d4-450a-9ac7-04fae53469b8",
   "metadata": {},
   "outputs": [
    {
     "data": {
      "text/html": [
       "<style type=\"text/css\">\n",
       "#T_4cadb_row0_col2, #T_4cadb_row1_col2, #T_4cadb_row2_col2 {\n",
       "  background: green;\n",
       "}\n",
       "#T_4cadb_row0_col3, #T_4cadb_row1_col3, #T_4cadb_row2_col3 {\n",
       "  background: blue;\n",
       "}\n",
       "#T_4cadb_row0_col4, #T_4cadb_row1_col4, #T_4cadb_row2_col4 {\n",
       "  background: purple;\n",
       "}\n",
       "</style>\n",
       "<table id=\"T_4cadb_\">\n",
       "  <thead>\n",
       "    <tr>\n",
       "      <th class=\"blank level0\" >&nbsp;</th>\n",
       "      <th class=\"col_heading level0 col0\" >source_state</th>\n",
       "      <th class=\"col_heading level0 col1\" >target_state</th>\n",
       "      <th class=\"col_heading level0 col2\" >source_acc</th>\n",
       "      <th class=\"col_heading level0 col3\" >source_auc</th>\n",
       "      <th class=\"col_heading level0 col4\" >source_loss</th>\n",
       "      <th class=\"col_heading level0 col5\" >target_acc</th>\n",
       "      <th class=\"col_heading level0 col6\" >target_auc</th>\n",
       "      <th class=\"col_heading level0 col7\" >target_loss</th>\n",
       "      <th class=\"col_heading level0 col8\" >num_restarts</th>\n",
       "    </tr>\n",
       "  </thead>\n",
       "  <tbody>\n",
       "    <tr>\n",
       "      <th id=\"T_4cadb_level0_row0\" class=\"row_heading level0 row0\" >0</th>\n",
       "      <td id=\"T_4cadb_row0_col0\" class=\"data row0 col0\" >CA</td>\n",
       "      <td id=\"T_4cadb_row0_col1\" class=\"data row0 col1\" >IL</td>\n",
       "      <td id=\"T_4cadb_row0_col2\" class=\"data row0 col2\" >0.895 (0.023)</td>\n",
       "      <td id=\"T_4cadb_row0_col3\" class=\"data row0 col3\" >0.861 (0.016)</td>\n",
       "      <td id=\"T_4cadb_row0_col4\" class=\"data row0 col4\" >0.324 (0.054)</td>\n",
       "      <td id=\"T_4cadb_row0_col5\" class=\"data row0 col5\" >0.560 (0.025)</td>\n",
       "      <td id=\"T_4cadb_row0_col6\" class=\"data row0 col6\" >0.509 (0.009)</td>\n",
       "      <td id=\"T_4cadb_row0_col7\" class=\"data row0 col7\" >1.954 (0.863)</td>\n",
       "      <td id=\"T_4cadb_row0_col8\" class=\"data row0 col8\" >5</td>\n",
       "    </tr>\n",
       "    <tr>\n",
       "      <th id=\"T_4cadb_level0_row1\" class=\"row_heading level0 row1\" >1</th>\n",
       "      <td id=\"T_4cadb_row1_col0\" class=\"data row1 col0\" >IN</td>\n",
       "      <td id=\"T_4cadb_row1_col1\" class=\"data row1 col1\" >IL</td>\n",
       "      <td id=\"T_4cadb_row1_col2\" class=\"data row1 col2\" >0.814 (0.086)</td>\n",
       "      <td id=\"T_4cadb_row1_col3\" class=\"data row1 col3\" >0.812 (0.065)</td>\n",
       "      <td id=\"T_4cadb_row1_col4\" class=\"data row1 col4\" >0.448 (0.211)</td>\n",
       "      <td id=\"T_4cadb_row1_col5\" class=\"data row1 col5\" >0.531 (0.034)</td>\n",
       "      <td id=\"T_4cadb_row1_col6\" class=\"data row1 col6\" >0.509 (0.012)</td>\n",
       "      <td id=\"T_4cadb_row1_col7\" class=\"data row1 col7\" >1.214 (0.133)</td>\n",
       "      <td id=\"T_4cadb_row1_col8\" class=\"data row1 col8\" >5</td>\n",
       "    </tr>\n",
       "    <tr>\n",
       "      <th id=\"T_4cadb_level0_row2\" class=\"row_heading level0 row2\" >2</th>\n",
       "      <td id=\"T_4cadb_row2_col0\" class=\"data row2 col0\" >TX</td>\n",
       "      <td id=\"T_4cadb_row2_col1\" class=\"data row2 col1\" >IL</td>\n",
       "      <td id=\"T_4cadb_row2_col2\" class=\"data row2 col2\" >0.861 (0.053)</td>\n",
       "      <td id=\"T_4cadb_row2_col3\" class=\"data row2 col3\" >0.767 (0.016)</td>\n",
       "      <td id=\"T_4cadb_row2_col4\" class=\"data row2 col4\" >1.154 (1.202)</td>\n",
       "      <td id=\"T_4cadb_row2_col5\" class=\"data row2 col5\" >0.562 (0.025)</td>\n",
       "      <td id=\"T_4cadb_row2_col6\" class=\"data row2 col6\" >0.512 (0.017)</td>\n",
       "      <td id=\"T_4cadb_row2_col7\" class=\"data row2 col7\" >4.790 (6.204)</td>\n",
       "      <td id=\"T_4cadb_row2_col8\" class=\"data row2 col8\" >5</td>\n",
       "    </tr>\n",
       "  </tbody>\n",
       "</table>\n"
      ],
      "text/plain": [
       "<pandas.io.formats.style.Styler at 0x7fd80538a810>"
      ]
     },
     "metadata": {},
     "output_type": "display_data"
    }
   ],
   "source": [
    "print_df(target_erm_resnet, metric_prefix='source')"
   ]
  },
  {
   "cell_type": "markdown",
   "id": "40bef9ab-2c1e-42b7-a621-50a66c0bb423",
   "metadata": {},
   "source": [
    "# FiLM Source ERM"
   ]
  },
  {
   "cell_type": "code",
   "execution_count": 19,
   "id": "9b70c836-173e-4656-8a7a-a0890b9e59de",
   "metadata": {},
   "outputs": [],
   "source": [
    "data = df.loc[(df['backbone'] == 'resnet152') & (df['approach'] == 'Source_ERM_FiLM') & (df['block'] == 'none') & (df['bn'] == '0') & (df['density'] == 'none')].drop_duplicates(ignore_index=True)\n",
    "data = data.sort_values('target_state').reset_index(drop=True)\n",
    "\n",
    "data_lf = df_lf.loc[(df_lf['backbone'] == 'resnet152') & (df_lf['approach'] == 'Source_ERM_FiLM') & (df['block'] == 'none') & (df['bn'] == '0') & (df['density'] == 'none')].drop_duplicates(ignore_index=True)\n",
    "data_lf = data_lf.sort_values('target_state').reset_index(drop=True)"
   ]
  },
  {
   "cell_type": "code",
   "execution_count": 20,
   "id": "84eab504-8a7f-443e-b0f2-f0f14c8fe0b5",
   "metadata": {},
   "outputs": [
    {
     "data": {
      "image/png": "[encoded data removed]",
      "text/plain": [
       "<Figure size 640x480 with 1 Axes>"
      ]
     },
     "metadata": {},
     "output_type": "display_data"
    }
   ],
   "source": [
    "sns.barplot(data=data_lf.loc[(data_lf['metric'] != 'logloss')].drop_duplicates(ignore_index=True),\n",
    "            x='metric', y='target_value', hue='target_state', hue_order=['IL', 'CA', 'IN', 'TX'], palette='Set2')\n",
    "plt.legend(bbox_to_anchor=(1.05, 1), loc='upper left', borderaxespad=0)\n",
    "plt.title('Source (IL) ERM and Blind Transfer to Target');"
   ]
  },
  {
   "cell_type": "code",
   "execution_count": 21,
   "id": "ec7b13e4-6d56-4ed3-a9b0-20e54e502b8d",
   "metadata": {},
   "outputs": [
    {
     "data": {
      "text/html": [
       "<style type=\"text/css\">\n",
       "#T_23222_row0_col5, #T_23222_row1_col5, #T_23222_row2_col5 {\n",
       "  background: green;\n",
       "}\n",
       "#T_23222_row0_col6, #T_23222_row1_col6, #T_23222_row2_col6 {\n",
       "  background: blue;\n",
       "}\n",
       "#T_23222_row0_col7, #T_23222_row1_col7, #T_23222_row2_col7 {\n",
       "  background: purple;\n",
       "}\n",
       "</style>\n",
       "<table id=\"T_23222_\">\n",
       "  <thead>\n",
       "    <tr>\n",
       "      <th class=\"blank level0\" >&nbsp;</th>\n",
       "      <th class=\"col_heading level0 col0\" >source_state</th>\n",
       "      <th class=\"col_heading level0 col1\" >target_state</th>\n",
       "      <th class=\"col_heading level0 col2\" >source_acc</th>\n",
       "      <th class=\"col_heading level0 col3\" >source_auc</th>\n",
       "      <th class=\"col_heading level0 col4\" >source_loss</th>\n",
       "      <th class=\"col_heading level0 col5\" >target_acc</th>\n",
       "      <th class=\"col_heading level0 col6\" >target_auc</th>\n",
       "      <th class=\"col_heading level0 col7\" >target_loss</th>\n",
       "      <th class=\"col_heading level0 col8\" >num_restarts</th>\n",
       "    </tr>\n",
       "  </thead>\n",
       "  <tbody>\n",
       "    <tr>\n",
       "      <th id=\"T_23222_level0_row0\" class=\"row_heading level0 row0\" >0</th>\n",
       "      <td id=\"T_23222_row0_col0\" class=\"data row0 col0\" >IL</td>\n",
       "      <td id=\"T_23222_row0_col1\" class=\"data row0 col1\" >CA</td>\n",
       "      <td id=\"T_23222_row0_col2\" class=\"data row0 col2\" >0.765 (0.056)</td>\n",
       "      <td id=\"T_23222_row0_col3\" class=\"data row0 col3\" >0.746 (0.065)</td>\n",
       "      <td id=\"T_23222_row0_col4\" class=\"data row0 col4\" >0.541 (0.044)</td>\n",
       "      <td id=\"T_23222_row0_col5\" class=\"data row0 col5\" >0.391 (0.035)</td>\n",
       "      <td id=\"T_23222_row0_col6\" class=\"data row0 col6\" >0.440 (0.042)</td>\n",
       "      <td id=\"T_23222_row0_col7\" class=\"data row0 col7\" >1.631 (0.475)</td>\n",
       "      <td id=\"T_23222_row0_col8\" class=\"data row0 col8\" >5</td>\n",
       "    </tr>\n",
       "    <tr>\n",
       "      <th id=\"T_23222_level0_row1\" class=\"row_heading level0 row1\" >1</th>\n",
       "      <td id=\"T_23222_row1_col0\" class=\"data row1 col0\" >IL</td>\n",
       "      <td id=\"T_23222_row1_col1\" class=\"data row1 col1\" >IN</td>\n",
       "      <td id=\"T_23222_row1_col2\" class=\"data row1 col2\" >0.765 (0.056)</td>\n",
       "      <td id=\"T_23222_row1_col3\" class=\"data row1 col3\" >0.746 (0.065)</td>\n",
       "      <td id=\"T_23222_row1_col4\" class=\"data row1 col4\" >0.541 (0.044)</td>\n",
       "      <td id=\"T_23222_row1_col5\" class=\"data row1 col5\" >0.511 (0.038)</td>\n",
       "      <td id=\"T_23222_row1_col6\" class=\"data row1 col6\" >0.498 (0.033)</td>\n",
       "      <td id=\"T_23222_row1_col7\" class=\"data row1 col7\" >1.236 (0.293)</td>\n",
       "      <td id=\"T_23222_row1_col8\" class=\"data row1 col8\" >5</td>\n",
       "    </tr>\n",
       "    <tr>\n",
       "      <th id=\"T_23222_level0_row2\" class=\"row_heading level0 row2\" >2</th>\n",
       "      <td id=\"T_23222_row2_col0\" class=\"data row2 col0\" >IL</td>\n",
       "      <td id=\"T_23222_row2_col1\" class=\"data row2 col1\" >TX</td>\n",
       "      <td id=\"T_23222_row2_col2\" class=\"data row2 col2\" >0.765 (0.056)</td>\n",
       "      <td id=\"T_23222_row2_col3\" class=\"data row2 col3\" >0.746 (0.065)</td>\n",
       "      <td id=\"T_23222_row2_col4\" class=\"data row2 col4\" >0.541 (0.044)</td>\n",
       "      <td id=\"T_23222_row2_col5\" class=\"data row2 col5\" >0.390 (0.114)</td>\n",
       "      <td id=\"T_23222_row2_col6\" class=\"data row2 col6\" >0.535 (0.060)</td>\n",
       "      <td id=\"T_23222_row2_col7\" class=\"data row2 col7\" >1.415 (0.378)</td>\n",
       "      <td id=\"T_23222_row2_col8\" class=\"data row2 col8\" >5</td>\n",
       "    </tr>\n",
       "  </tbody>\n",
       "</table>\n"
      ],
      "text/plain": [
       "<pandas.io.formats.style.Styler at 0x7efb7ca9e6d0>"
      ]
     },
     "metadata": {},
     "output_type": "display_data"
    }
   ],
   "source": [
    "print_df(summarize_restarts(data))"
   ]
  },
  {
   "cell_type": "code",
   "execution_count": 22,
   "id": "b7d555ba-441d-4ff4-ad33-b48f21f0f4ce",
   "metadata": {},
   "outputs": [],
   "source": [
    "data_lf = df_lf.loc[(df_lf['backbone'] == 'resnet152') & (df_lf['approach'] == 'Source_ERM_FiLM') & (df['block'] == 'none') & (df['bn'] == '0') & (df['density'] == 'none')].drop_duplicates(ignore_index=True)\n",
    "data_lf = pd.concat([data_lf, df_lf.loc[(df_lf['backbone'] == 'resnet152') & (df_lf['approach'] == 'Source_ERM_ResNet')]]).drop_duplicates(ignore_index=True)\n",
    "data_lf = data_lf.sort_values('target_state').reset_index(drop=True)"
   ]
  },
  {
   "cell_type": "code",
   "execution_count": 23,
   "id": "cf47179b-5215-484f-8d85-6fa6c6fb02b8",
   "metadata": {},
   "outputs": [
    {
     "data": {
      "image/png": "[encoded data removed]",
      "text/plain": [
       "<Figure size 640x480 with 1 Axes>"
      ]
     },
     "metadata": {},
     "output_type": "display_data"
    }
   ],
   "source": [
    "sns.barplot(data=data_lf.loc[(data_lf['metric'] == 'auroc')].drop_duplicates(ignore_index=True),\n",
    "            x='approach', y='target_value', hue='target_state', hue_order=['', 'CA', 'IN', 'TX'], palette='Set2')\n",
    "plt.legend(bbox_to_anchor=(1.05, 1), loc='upper left', borderaxespad=0)\n",
    "plt.title('Source (IL) ERM and Blind Transfer to Target');"
   ]
  },
  {
   "cell_type": "markdown",
   "id": "9c683a2c-d2ff-4101-ae80-a92b055b3f67",
   "metadata": {},
   "source": [
    "# Fine-Tune FiLM"
   ]
  },
  {
   "cell_type": "code",
   "execution_count": 32,
   "id": "f9d11f36-e086-460f-8ae0-e41b7dfc7645",
   "metadata": {},
   "outputs": [],
   "source": [
    "data = df.loc[(df['backbone'] == 'resnet152') & (df['approach'] == 'Fine_Tune_FiLM') & (df['block'] == '4') & (df['bn'] == '0123') & (df['density'] == 'all')].drop_duplicates(ignore_index=True)\n",
    "data = data.sort_values('target_state').reset_index(drop=True)\n",
    "\n",
    "data_lf = df_lf.loc[(df_lf['backbone'] == 'resnet152') & (df_lf['approach'] == 'Fine_Tune_FiLM') & (df_lf['block'] == '4') & (df_lf['bn'] == '0123') & (df_lf['density'] == 'all')].drop_duplicates(ignore_index=True)\n",
    "data_lf = data_lf.sort_values('target_state').reset_index(drop=True)\n",
    "\n",
    "# Concatenate source ERM entries\n",
    "source_erm = df.loc[(df['backbone'] == 'resnet152') & (df['approach'] == 'Source_ERM_FiLM') & (df['block'] == '4') & (df['bn'] == '0123') & (df['density'] == 'all')].drop_duplicates(ignore_index=True)\n",
    "source_erm = source_erm.sort_values('target_state').reset_index(drop=True)\n",
    "source_erm.loc[:, 'fine_tune'] = 'all'\n",
    "source_erm.loc[:, 'n_samples'] = 0\n",
    "data = pd.concat([data, source_erm], axis=0)\n",
    "\n",
    "source_erm_lf = df_lf.loc[(df_lf['backbone'] == 'resnet152') & (df_lf['approach'] == 'Source_ERM_FiLM') & (df_lf['block'] == '4') & (df_lf['bn'] == '0123') & (df_lf['density'] == 'all')].drop_duplicates(ignore_index=True)\n",
    "source_erm_lf = source_erm_lf.sort_values('target_state').reset_index(drop=True)\n",
    "source_erm_lf.loc[:, 'fine_tune'] = 'all'\n",
    "source_erm_lf.loc[:, 'n_samples'] = 0\n",
    "data_lf = pd.concat([data_lf, source_erm_lf], axis=0)"
   ]
  },
  {
   "cell_type": "code",
   "execution_count": 33,
   "id": "18527e0d-e6e4-4f9a-a84a-fdae3e7d79c3",
   "metadata": {},
   "outputs": [],
   "source": [
    "temp = df.loc[(df['backbone'] == 'resnet152') & (df['approach'] == 'Fine_Tune_ResNet')].drop_duplicates(ignore_index=True)\n",
    "temp = temp.sort_values('target_state').reset_index(drop=True)\n",
    "\n",
    "temp_lf = df_lf.loc[(df_lf['backbone'] == 'resnet152') & (df_lf['approach'] == 'Fine_Tune_ResNet')].drop_duplicates(ignore_index=True)\n",
    "temp_lf = temp_lf.sort_values('target_state').reset_index(drop=True)\n",
    "\n",
    "# Concatenate source ERM entries\n",
    "source_erm = df.loc[(df['backbone'] == 'resnet152') & (df['approach'] == 'Source_ERM_ResNet')].drop_duplicates(ignore_index=True)\n",
    "source_erm = source_erm.sort_values('target_state').reset_index(drop=True)\n",
    "source_erm.loc[:, 'fine_tune'] = 'all'\n",
    "source_erm.loc[:, 'n_samples'] = 0\n",
    "temp = pd.concat([temp, source_erm], axis=0)\n",
    "\n",
    "source_erm_lf = df_lf.loc[(df_lf['backbone'] == 'resnet152') & (df_lf['approach'] == 'Source_ERM_ResNet')].drop_duplicates(ignore_index=True)\n",
    "source_erm_lf = source_erm_lf.sort_values('target_state').reset_index(drop=True)\n",
    "source_erm_lf.loc[:, 'fine_tune'] = 'all'\n",
    "source_erm_lf.loc[:, 'n_samples'] = 0\n",
    "temp_lf = pd.concat([temp_lf, source_erm_lf], axis=0)"
   ]
  },
  {
   "cell_type": "code",
   "execution_count": 34,
   "id": "3efb5f31-dca3-4d84-951c-89fbe5ba826b",
   "metadata": {},
   "outputs": [
    {
     "data": {
      "image/png": "[encoded data removed]",
      "text/plain": [
       "<Figure size 640x480 with 1 Axes>"
      ]
     },
     "metadata": {},
     "output_type": "display_data"
    }
   ],
   "source": [
    "sns.barplot(data=pd.concat([\n",
    "    data_lf.loc[(data_lf['metric'] == 'auroc') & ((data_lf['n_samples'] == -1)) & (data_lf['fine_tune'] == 'block4')].drop_duplicates(ignore_index=True),\n",
    "    temp_lf.loc[(temp_lf['metric'] == 'auroc') & ((temp_lf['n_samples'] == -1)) & (temp_lf['fine_tune'] == 'block4')].drop_duplicates(ignore_index=True),\n",
    "]),\n",
    "            x='approach', y='target_value', hue='target_state', hue_order=['', 'CA', 'IN', 'TX'], palette='Set2')\n",
    "plt.legend(bbox_to_anchor=(1.05, 1), loc='upper left', borderaxespad=0)\n",
    "plt.title('Source (IL) ERM + Fine-Tuning all parameters w/ all labeled examples from Target');"
   ]
  },
  {
   "cell_type": "code",
   "execution_count": 35,
   "id": "ebfd33cf-597f-4676-9afb-3b96ffc4d22a",
   "metadata": {},
   "outputs": [
    {
     "data": {
      "image/png": "[encoded data removed]",
      "text/plain": [
       "<Figure size 640x480 with 1 Axes>"
      ]
     },
     "metadata": {},
     "output_type": "display_data"
    }
   ],
   "source": [
    "sns.barplot(data=pd.concat([\n",
    "    data_lf.loc[(data_lf['metric'] == 'auroc') & (data_lf['n_samples'] != 0) & (data_lf['target_state'] == 'CA') & (data_lf['fine_tune'] == 'block4')].drop_duplicates(ignore_index=True),\n",
    "    temp_lf.loc[(temp_lf['metric'] == 'auroc') & (temp_lf['n_samples'] != 0) & (temp_lf['target_state'] == 'CA') & (temp_lf['fine_tune'] == 'block4')].drop_duplicates(ignore_index=True),\n",
    "]),\n",
    "            x='approach', y='target_value', hue='n_samples', hue_order=[20, 50, 100, 200, 300, -1], palette='rocket_r')\n",
    "plt.legend(bbox_to_anchor=(1.05, 1), loc='upper left', borderaxespad=0)\n",
    "plt.title('Source (IL) ERM + Fine-Tuning clf parameters with varied Target sample size');"
   ]
  },
  {
   "cell_type": "code",
   "execution_count": 36,
   "id": "64f9952f-fb61-44f5-ad44-cfea1802b033",
   "metadata": {},
   "outputs": [],
   "source": [
    "data = df.loc[(df['backbone'] == 'resnet152') & (df['approach'] == 'Fine_Tune_FiLM') & (df['block'].isin(['1', '2', '3', '4', '1234'])) & (df['bn'] == '3')].drop_duplicates(ignore_index=True)\n",
    "data = data.sort_values('target_state').reset_index(drop=True)\n",
    "\n",
    "data_lf = df_lf.loc[(df_lf['backbone'] == 'resnet152') & (df_lf['approach'] == 'Fine_Tune_FiLM') & (df['block'].isin(['1', '2', '3', '4', '1234'])) & (df_lf['bn'] == '3')].drop_duplicates(ignore_index=True)\n",
    "data_lf = data_lf.sort_values('target_state').reset_index(drop=True)"
   ]
  },
  {
   "cell_type": "code",
   "execution_count": 29,
   "id": "35bc43d7-a05e-450c-9e8a-59c09abbf497",
   "metadata": {},
   "outputs": [
    {
     "ename": "ValueError",
     "evalue": "Number of rows must be a positive integer, not 0",
     "output_type": "error",
     "traceback": [
      "\u001b[0;31m---------------------------------------------------------------------------\u001b[0m",
      "\u001b[0;31mValueError\u001b[0m                                Traceback (most recent call last)",
      "\u001b[0;32m/tmp/ipykernel_63622/1011513367.py\u001b[0m in \u001b[0;36m<module>\u001b[0;34m\u001b[0m\n\u001b[1;32m      3\u001b[0m             \u001b[0my\u001b[0m\u001b[0;34m=\u001b[0m\u001b[0;34m'target_value'\u001b[0m\u001b[0;34m,\u001b[0m \u001b[0mhue\u001b[0m\u001b[0;34m=\u001b[0m\u001b[0;34m'n_samples'\u001b[0m\u001b[0;34m,\u001b[0m \u001b[0mhue_order\u001b[0m\u001b[0;34m=\u001b[0m\u001b[0;34m[\u001b[0m\u001b[0;36m20\u001b[0m\u001b[0;34m,\u001b[0m \u001b[0;36m50\u001b[0m\u001b[0;34m,\u001b[0m \u001b[0;36m100\u001b[0m\u001b[0;34m,\u001b[0m \u001b[0;36m200\u001b[0m\u001b[0;34m,\u001b[0m \u001b[0;36m300\u001b[0m\u001b[0;34m,\u001b[0m \u001b[0;34m-\u001b[0m\u001b[0;36m1\u001b[0m\u001b[0;34m]\u001b[0m\u001b[0;34m,\u001b[0m\u001b[0;34m\u001b[0m\u001b[0;34m\u001b[0m\u001b[0m\n\u001b[1;32m      4\u001b[0m             \u001b[0mrow\u001b[0m\u001b[0;34m=\u001b[0m\u001b[0;34m'metric'\u001b[0m\u001b[0;34m,\u001b[0m \u001b[0mkind\u001b[0m\u001b[0;34m=\u001b[0m\u001b[0;34m'bar'\u001b[0m\u001b[0;34m,\u001b[0m \u001b[0mpalette\u001b[0m\u001b[0;34m=\u001b[0m\u001b[0;34m'rocket_r'\u001b[0m\u001b[0;34m,\u001b[0m\u001b[0;34m\u001b[0m\u001b[0;34m\u001b[0m\u001b[0m\n\u001b[0;32m----> 5\u001b[0;31m             height=4, aspect=2)\n\u001b[0m\u001b[1;32m      6\u001b[0m \u001b[0mplt\u001b[0m\u001b[0;34m.\u001b[0m\u001b[0mtitle\u001b[0m\u001b[0;34m(\u001b[0m\u001b[0;34m'Source (IL) ERM + Fine-Tuning'\u001b[0m\u001b[0;34m)\u001b[0m\u001b[0;34m;\u001b[0m\u001b[0;34m\u001b[0m\u001b[0;34m\u001b[0m\u001b[0m\n",
      "\u001b[0;32m/lfs/local/0/nicchiou/.venvs/domain_adapt_cxr-H3IQF9oH/lib/python3.7/site-packages/seaborn/categorical.py\u001b[0m in \u001b[0;36mcatplot\u001b[0;34m(data, x, y, hue, row, col, col_wrap, estimator, errorbar, n_boot, units, seed, order, hue_order, row_order, col_order, height, aspect, kind, native_scale, formatter, orient, color, palette, hue_norm, legend, legend_out, sharex, sharey, margin_titles, facet_kws, ci, **kwargs)\u001b[0m\n\u001b[1;32m   3238\u001b[0m \u001b[0;34m\u001b[0m\u001b[0m\n\u001b[1;32m   3239\u001b[0m     \u001b[0;31m# Initialize the facets\u001b[0m\u001b[0;34m\u001b[0m\u001b[0;34m\u001b[0m\u001b[0;34m\u001b[0m\u001b[0m\n\u001b[0;32m-> 3240\u001b[0;31m     \u001b[0mg\u001b[0m \u001b[0;34m=\u001b[0m \u001b[0mFacetGrid\u001b[0m\u001b[0;34m(\u001b[0m\u001b[0;34m**\u001b[0m\u001b[0mfacet_kws\u001b[0m\u001b[0;34m)\u001b[0m\u001b[0;34m\u001b[0m\u001b[0;34m\u001b[0m\u001b[0m\n\u001b[0m\u001b[1;32m   3241\u001b[0m \u001b[0;34m\u001b[0m\u001b[0m\n\u001b[1;32m   3242\u001b[0m     \u001b[0;31m# Draw the plot onto the facets\u001b[0m\u001b[0;34m\u001b[0m\u001b[0;34m\u001b[0m\u001b[0;34m\u001b[0m\u001b[0m\n",
      "\u001b[0;32m/lfs/local/0/nicchiou/.venvs/domain_adapt_cxr-H3IQF9oH/lib/python3.7/site-packages/seaborn/axisgrid.py\u001b[0m in \u001b[0;36m__init__\u001b[0;34m(self, data, row, col, hue, col_wrap, sharex, sharey, height, aspect, palette, row_order, col_order, hue_order, hue_kws, dropna, legend_out, despine, margin_titles, xlim, ylim, subplot_kws, gridspec_kws)\u001b[0m\n\u001b[1;32m    454\u001b[0m                           gridspec_kw=gridspec_kws)\n\u001b[1;32m    455\u001b[0m \u001b[0;34m\u001b[0m\u001b[0m\n\u001b[0;32m--> 456\u001b[0;31m             \u001b[0maxes\u001b[0m \u001b[0;34m=\u001b[0m \u001b[0mfig\u001b[0m\u001b[0;34m.\u001b[0m\u001b[0msubplots\u001b[0m\u001b[0;34m(\u001b[0m\u001b[0mnrow\u001b[0m\u001b[0;34m,\u001b[0m \u001b[0mncol\u001b[0m\u001b[0;34m,\u001b[0m \u001b[0;34m**\u001b[0m\u001b[0mkwargs\u001b[0m\u001b[0;34m)\u001b[0m\u001b[0;34m\u001b[0m\u001b[0;34m\u001b[0m\u001b[0m\n\u001b[0m\u001b[1;32m    457\u001b[0m \u001b[0;34m\u001b[0m\u001b[0m\n\u001b[1;32m    458\u001b[0m             \u001b[0;32mif\u001b[0m \u001b[0mcol\u001b[0m \u001b[0;32mis\u001b[0m \u001b[0;32mNone\u001b[0m \u001b[0;32mand\u001b[0m \u001b[0mrow\u001b[0m \u001b[0;32mis\u001b[0m \u001b[0;32mNone\u001b[0m\u001b[0;34m:\u001b[0m\u001b[0;34m\u001b[0m\u001b[0;34m\u001b[0m\u001b[0m\n",
      "\u001b[0;32m/lfs/local/0/nicchiou/.venvs/domain_adapt_cxr-H3IQF9oH/lib/python3.7/site-packages/matplotlib/figure.py\u001b[0m in \u001b[0;36msubplots\u001b[0;34m(self, nrows, ncols, sharex, sharey, squeeze, subplot_kw, gridspec_kw)\u001b[0m\n\u001b[1;32m    894\u001b[0m         \u001b[0;32mif\u001b[0m \u001b[0mgridspec_kw\u001b[0m \u001b[0;32mis\u001b[0m \u001b[0;32mNone\u001b[0m\u001b[0;34m:\u001b[0m\u001b[0;34m\u001b[0m\u001b[0;34m\u001b[0m\u001b[0m\n\u001b[1;32m    895\u001b[0m             \u001b[0mgridspec_kw\u001b[0m \u001b[0;34m=\u001b[0m \u001b[0;34m{\u001b[0m\u001b[0;34m}\u001b[0m\u001b[0;34m\u001b[0m\u001b[0;34m\u001b[0m\u001b[0m\n\u001b[0;32m--> 896\u001b[0;31m         \u001b[0mgs\u001b[0m \u001b[0;34m=\u001b[0m \u001b[0mself\u001b[0m\u001b[0;34m.\u001b[0m\u001b[0madd_gridspec\u001b[0m\u001b[0;34m(\u001b[0m\u001b[0mnrows\u001b[0m\u001b[0;34m,\u001b[0m \u001b[0mncols\u001b[0m\u001b[0;34m,\u001b[0m \u001b[0mfigure\u001b[0m\u001b[0;34m=\u001b[0m\u001b[0mself\u001b[0m\u001b[0;34m,\u001b[0m \u001b[0;34m**\u001b[0m\u001b[0mgridspec_kw\u001b[0m\u001b[0;34m)\u001b[0m\u001b[0;34m\u001b[0m\u001b[0;34m\u001b[0m\u001b[0m\n\u001b[0m\u001b[1;32m    897\u001b[0m         axs = gs.subplots(sharex=sharex, sharey=sharey, squeeze=squeeze,\n\u001b[1;32m    898\u001b[0m                           subplot_kw=subplot_kw)\n",
      "\u001b[0;32m/lfs/local/0/nicchiou/.venvs/domain_adapt_cxr-H3IQF9oH/lib/python3.7/site-packages/matplotlib/figure.py\u001b[0m in \u001b[0;36madd_gridspec\u001b[0;34m(self, nrows, ncols, **kwargs)\u001b[0m\n\u001b[1;32m   1445\u001b[0m \u001b[0;34m\u001b[0m\u001b[0m\n\u001b[1;32m   1446\u001b[0m         \u001b[0m_\u001b[0m \u001b[0;34m=\u001b[0m \u001b[0mkwargs\u001b[0m\u001b[0;34m.\u001b[0m\u001b[0mpop\u001b[0m\u001b[0;34m(\u001b[0m\u001b[0;34m'figure'\u001b[0m\u001b[0;34m,\u001b[0m \u001b[0;32mNone\u001b[0m\u001b[0;34m)\u001b[0m  \u001b[0;31m# pop in case user has added this...\u001b[0m\u001b[0;34m\u001b[0m\u001b[0;34m\u001b[0m\u001b[0m\n\u001b[0;32m-> 1447\u001b[0;31m         \u001b[0mgs\u001b[0m \u001b[0;34m=\u001b[0m \u001b[0mGridSpec\u001b[0m\u001b[0;34m(\u001b[0m\u001b[0mnrows\u001b[0m\u001b[0;34m=\u001b[0m\u001b[0mnrows\u001b[0m\u001b[0;34m,\u001b[0m \u001b[0mncols\u001b[0m\u001b[0;34m=\u001b[0m\u001b[0mncols\u001b[0m\u001b[0;34m,\u001b[0m \u001b[0mfigure\u001b[0m\u001b[0;34m=\u001b[0m\u001b[0mself\u001b[0m\u001b[0;34m,\u001b[0m \u001b[0;34m**\u001b[0m\u001b[0mkwargs\u001b[0m\u001b[0;34m)\u001b[0m\u001b[0;34m\u001b[0m\u001b[0;34m\u001b[0m\u001b[0m\n\u001b[0m\u001b[1;32m   1448\u001b[0m         \u001b[0mself\u001b[0m\u001b[0;34m.\u001b[0m\u001b[0m_gridspecs\u001b[0m\u001b[0;34m.\u001b[0m\u001b[0mappend\u001b[0m\u001b[0;34m(\u001b[0m\u001b[0mgs\u001b[0m\u001b[0;34m)\u001b[0m\u001b[0;34m\u001b[0m\u001b[0;34m\u001b[0m\u001b[0m\n\u001b[1;32m   1449\u001b[0m         \u001b[0;32mreturn\u001b[0m \u001b[0mgs\u001b[0m\u001b[0;34m\u001b[0m\u001b[0;34m\u001b[0m\u001b[0m\n",
      "\u001b[0;32m/lfs/local/0/nicchiou/.venvs/domain_adapt_cxr-H3IQF9oH/lib/python3.7/site-packages/matplotlib/gridspec.py\u001b[0m in \u001b[0;36m__init__\u001b[0;34m(self, nrows, ncols, figure, left, bottom, right, top, wspace, hspace, width_ratios, height_ratios)\u001b[0m\n\u001b[1;32m    385\u001b[0m         super().__init__(nrows, ncols,\n\u001b[1;32m    386\u001b[0m                          \u001b[0mwidth_ratios\u001b[0m\u001b[0;34m=\u001b[0m\u001b[0mwidth_ratios\u001b[0m\u001b[0;34m,\u001b[0m\u001b[0;34m\u001b[0m\u001b[0;34m\u001b[0m\u001b[0m\n\u001b[0;32m--> 387\u001b[0;31m                          height_ratios=height_ratios)\n\u001b[0m\u001b[1;32m    388\u001b[0m \u001b[0;34m\u001b[0m\u001b[0m\n\u001b[1;32m    389\u001b[0m     \u001b[0m_AllowedKeys\u001b[0m \u001b[0;34m=\u001b[0m \u001b[0;34m[\u001b[0m\u001b[0;34m\"left\"\u001b[0m\u001b[0;34m,\u001b[0m \u001b[0;34m\"bottom\"\u001b[0m\u001b[0;34m,\u001b[0m \u001b[0;34m\"right\"\u001b[0m\u001b[0;34m,\u001b[0m \u001b[0;34m\"top\"\u001b[0m\u001b[0;34m,\u001b[0m \u001b[0;34m\"wspace\"\u001b[0m\u001b[0;34m,\u001b[0m \u001b[0;34m\"hspace\"\u001b[0m\u001b[0;34m]\u001b[0m\u001b[0;34m\u001b[0m\u001b[0;34m\u001b[0m\u001b[0m\n",
      "\u001b[0;32m/lfs/local/0/nicchiou/.venvs/domain_adapt_cxr-H3IQF9oH/lib/python3.7/site-packages/matplotlib/gridspec.py\u001b[0m in \u001b[0;36m__init__\u001b[0;34m(self, nrows, ncols, height_ratios, width_ratios)\u001b[0m\n\u001b[1;32m     48\u001b[0m         \u001b[0;32mif\u001b[0m \u001b[0;32mnot\u001b[0m \u001b[0misinstance\u001b[0m\u001b[0;34m(\u001b[0m\u001b[0mnrows\u001b[0m\u001b[0;34m,\u001b[0m \u001b[0mIntegral\u001b[0m\u001b[0;34m)\u001b[0m \u001b[0;32mor\u001b[0m \u001b[0mnrows\u001b[0m \u001b[0;34m<=\u001b[0m \u001b[0;36m0\u001b[0m\u001b[0;34m:\u001b[0m\u001b[0;34m\u001b[0m\u001b[0;34m\u001b[0m\u001b[0m\n\u001b[1;32m     49\u001b[0m             raise ValueError(\n\u001b[0;32m---> 50\u001b[0;31m                 f\"Number of rows must be a positive integer, not {nrows!r}\")\n\u001b[0m\u001b[1;32m     51\u001b[0m         \u001b[0;32mif\u001b[0m \u001b[0;32mnot\u001b[0m \u001b[0misinstance\u001b[0m\u001b[0;34m(\u001b[0m\u001b[0mncols\u001b[0m\u001b[0;34m,\u001b[0m \u001b[0mIntegral\u001b[0m\u001b[0;34m)\u001b[0m \u001b[0;32mor\u001b[0m \u001b[0mncols\u001b[0m \u001b[0;34m<=\u001b[0m \u001b[0;36m0\u001b[0m\u001b[0;34m:\u001b[0m\u001b[0;34m\u001b[0m\u001b[0;34m\u001b[0m\u001b[0m\n\u001b[1;32m     52\u001b[0m             raise ValueError(\n",
      "\u001b[0;31mValueError\u001b[0m: Number of rows must be a positive integer, not 0"
     ]
    },
    {
     "data": {
      "text/plain": [
       "<Figure size 800x0 with 0 Axes>"
      ]
     },
     "metadata": {},
     "output_type": "display_data"
    }
   ],
   "source": [
    "sns.catplot(data=data_lf.loc[(data_lf['metric'] != 'logloss') & (data_lf['target_state'] == 'CA')].drop_duplicates(ignore_index=True),\n",
    "            x='fine_tune', order=['all', 'bn3-sparse', 'clf'],\n",
    "            y='target_value', hue='n_samples', hue_order=[20, 50, 100, 200, 300, -1], \n",
    "            row='metric', kind='bar', palette='rocket_r',\n",
    "            height=4, aspect=2)\n",
    "plt.title('Source (IL) ERM + Fine-Tuning');"
   ]
  },
  {
   "cell_type": "code",
   "execution_count": 30,
   "id": "97f285ce-e95a-4c57-9234-4e94ba8c7f38",
   "metadata": {},
   "outputs": [
    {
     "data": {
      "text/html": [
       "<style type=\"text/css\">\n",
       "</style>\n",
       "<table id=\"T_275b2_\">\n",
       "  <thead>\n",
       "    <tr>\n",
       "      <th class=\"blank level0\" >&nbsp;</th>\n",
       "      <th class=\"col_heading level0 col0\" >source_state</th>\n",
       "      <th class=\"col_heading level0 col1\" >target_state</th>\n",
       "      <th class=\"col_heading level0 col2\" >fine_tune</th>\n",
       "      <th class=\"col_heading level0 col3\" >n_samples</th>\n",
       "      <th class=\"col_heading level0 col4\" >source_acc</th>\n",
       "      <th class=\"col_heading level0 col5\" >source_auc</th>\n",
       "      <th class=\"col_heading level0 col6\" >source_loss</th>\n",
       "      <th class=\"col_heading level0 col7\" >target_acc</th>\n",
       "      <th class=\"col_heading level0 col8\" >target_auc</th>\n",
       "      <th class=\"col_heading level0 col9\" >target_loss</th>\n",
       "      <th class=\"col_heading level0 col10\" >num_restarts</th>\n",
       "    </tr>\n",
       "  </thead>\n",
       "  <tbody>\n",
       "  </tbody>\n",
       "</table>\n"
      ],
      "text/plain": [
       "<pandas.io.formats.style.Styler at 0x7efb7c992590>"
      ]
     },
     "metadata": {},
     "output_type": "display_data"
    }
   ],
   "source": [
    "print_df(summarize_restarts(data.loc[data['target_state'] == 'CA'], groupby_cols=['source_state', 'target_state', 'fine_tune', 'n_samples']))"
   ]
  },
  {
   "cell_type": "markdown",
   "id": "a7958ffc-f2e2-4ae6-bdd7-2f1bf03a2fcc",
   "metadata": {},
   "source": [
    "# FiLM Target ERM"
   ]
  },
  {
   "cell_type": "code",
   "execution_count": 31,
   "id": "23c42eae-53f8-4b93-bf6e-64e4d7264500",
   "metadata": {},
   "outputs": [],
   "source": [
    "data = df.loc[(df['backbone'] == 'resnet152') & (df['approach'] == 'Target_ERM_FiLM') & (df['block'] == 'none') & (df['bn'] == '0') & (df['density'] == 'none')].drop_duplicates(ignore_index=True)\n",
    "data = data.sort_values('target_state').reset_index(drop=True)\n",
    "\n",
    "data_lf = df_lf.loc[(df_lf['backbone'] == 'resnet152') & (df_lf['approach'] == 'Target_ERM_FiLM') & (df_lf['block'] == 'none') & (df_lf['bn'] == '0') & (df_lf['density'] == 'none')].drop_duplicates(ignore_index=True)\n",
    "data_lf = data_lf.sort_values('target_state').reset_index(drop=True)"
   ]
  },
  {
   "cell_type": "code",
   "execution_count": 256,
   "id": "a544a061-4f4c-4a7a-a606-13af4e26544e",
   "metadata": {},
   "outputs": [
    {
     "ename": "IndexError",
     "evalue": "too many indices for array: array is 1-dimensional, but 2 were indexed",
     "output_type": "error",
     "traceback": [
      "\u001b[0;31m---------------------------------------------------------------------------\u001b[0m",
      "\u001b[0;31mIndexError\u001b[0m                                Traceback (most recent call last)",
      "\u001b[0;32m/tmp/ipykernel_38638/2187576611.py\u001b[0m in \u001b[0;36m<module>\u001b[0;34m\u001b[0m\n\u001b[1;32m      1\u001b[0m sns.barplot(data=data_lf.loc[(data_lf['metric'] != 'logloss')].drop_duplicates(ignore_index=True),\n\u001b[0;32m----> 2\u001b[0;31m             x='metric', y='source_value', hue='train_state', hue_order=['', 'CA', 'IN', 'TX'], palette='Set2')\n\u001b[0m\u001b[1;32m      3\u001b[0m \u001b[0mplt\u001b[0m\u001b[0;34m.\u001b[0m\u001b[0mlegend\u001b[0m\u001b[0;34m(\u001b[0m\u001b[0mbbox_to_anchor\u001b[0m\u001b[0;34m=\u001b[0m\u001b[0;34m(\u001b[0m\u001b[0;36m1.05\u001b[0m\u001b[0;34m,\u001b[0m \u001b[0;36m1\u001b[0m\u001b[0;34m)\u001b[0m\u001b[0;34m,\u001b[0m \u001b[0mloc\u001b[0m\u001b[0;34m=\u001b[0m\u001b[0;34m'upper left'\u001b[0m\u001b[0;34m,\u001b[0m \u001b[0mborderaxespad\u001b[0m\u001b[0;34m=\u001b[0m\u001b[0;36m0\u001b[0m\u001b[0;34m)\u001b[0m\u001b[0;34m\u001b[0m\u001b[0;34m\u001b[0m\u001b[0m\n\u001b[1;32m      4\u001b[0m \u001b[0mplt\u001b[0m\u001b[0;34m.\u001b[0m\u001b[0mtitle\u001b[0m\u001b[0;34m(\u001b[0m\u001b[0;34m'Target ERM'\u001b[0m\u001b[0;34m)\u001b[0m\u001b[0;34m;\u001b[0m\u001b[0;34m\u001b[0m\u001b[0;34m\u001b[0m\u001b[0m\n",
      "\u001b[0;32m/lfs/local/0/nicchiou/.venvs/domain_adapt_cxr-H3IQF9oH/lib/python3.7/site-packages/seaborn/categorical.py\u001b[0m in \u001b[0;36mbarplot\u001b[0;34m(data, x, y, hue, order, hue_order, estimator, errorbar, n_boot, units, seed, orient, color, palette, saturation, width, errcolor, errwidth, capsize, dodge, ci, ax, **kwargs)\u001b[0m\n\u001b[1;32m   2760\u001b[0m         \u001b[0max\u001b[0m \u001b[0;34m=\u001b[0m \u001b[0mplt\u001b[0m\u001b[0;34m.\u001b[0m\u001b[0mgca\u001b[0m\u001b[0;34m(\u001b[0m\u001b[0;34m)\u001b[0m\u001b[0;34m\u001b[0m\u001b[0;34m\u001b[0m\u001b[0m\n\u001b[1;32m   2761\u001b[0m \u001b[0;34m\u001b[0m\u001b[0m\n\u001b[0;32m-> 2762\u001b[0;31m     \u001b[0mplotter\u001b[0m\u001b[0;34m.\u001b[0m\u001b[0mplot\u001b[0m\u001b[0;34m(\u001b[0m\u001b[0max\u001b[0m\u001b[0;34m,\u001b[0m \u001b[0mkwargs\u001b[0m\u001b[0;34m)\u001b[0m\u001b[0;34m\u001b[0m\u001b[0;34m\u001b[0m\u001b[0m\n\u001b[0m\u001b[1;32m   2763\u001b[0m     \u001b[0;32mreturn\u001b[0m \u001b[0max\u001b[0m\u001b[0;34m\u001b[0m\u001b[0;34m\u001b[0m\u001b[0m\n\u001b[1;32m   2764\u001b[0m \u001b[0;34m\u001b[0m\u001b[0m\n",
      "\u001b[0;32m/lfs/local/0/nicchiou/.venvs/domain_adapt_cxr-H3IQF9oH/lib/python3.7/site-packages/seaborn/categorical.py\u001b[0m in \u001b[0;36mplot\u001b[0;34m(self, ax, bar_kws)\u001b[0m\n\u001b[1;32m   1584\u001b[0m     \u001b[0;32mdef\u001b[0m \u001b[0mplot\u001b[0m\u001b[0;34m(\u001b[0m\u001b[0mself\u001b[0m\u001b[0;34m,\u001b[0m \u001b[0max\u001b[0m\u001b[0;34m,\u001b[0m \u001b[0mbar_kws\u001b[0m\u001b[0;34m)\u001b[0m\u001b[0;34m:\u001b[0m\u001b[0;34m\u001b[0m\u001b[0;34m\u001b[0m\u001b[0m\n\u001b[1;32m   1585\u001b[0m         \u001b[0;34m\"\"\"Make the plot.\"\"\"\u001b[0m\u001b[0;34m\u001b[0m\u001b[0;34m\u001b[0m\u001b[0m\n\u001b[0;32m-> 1586\u001b[0;31m         \u001b[0mself\u001b[0m\u001b[0;34m.\u001b[0m\u001b[0mdraw_bars\u001b[0m\u001b[0;34m(\u001b[0m\u001b[0max\u001b[0m\u001b[0;34m,\u001b[0m \u001b[0mbar_kws\u001b[0m\u001b[0;34m)\u001b[0m\u001b[0;34m\u001b[0m\u001b[0;34m\u001b[0m\u001b[0m\n\u001b[0m\u001b[1;32m   1587\u001b[0m         \u001b[0mself\u001b[0m\u001b[0;34m.\u001b[0m\u001b[0mannotate_axes\u001b[0m\u001b[0;34m(\u001b[0m\u001b[0max\u001b[0m\u001b[0;34m)\u001b[0m\u001b[0;34m\u001b[0m\u001b[0;34m\u001b[0m\u001b[0m\n\u001b[1;32m   1588\u001b[0m         \u001b[0;32mif\u001b[0m \u001b[0mself\u001b[0m\u001b[0;34m.\u001b[0m\u001b[0morient\u001b[0m \u001b[0;34m==\u001b[0m \u001b[0;34m\"h\"\u001b[0m\u001b[0;34m:\u001b[0m\u001b[0;34m\u001b[0m\u001b[0;34m\u001b[0m\u001b[0m\n",
      "\u001b[0;32m/lfs/local/0/nicchiou/.venvs/domain_adapt_cxr-H3IQF9oH/lib/python3.7/site-packages/seaborn/categorical.py\u001b[0m in \u001b[0;36mdraw_bars\u001b[0;34m(self, ax, kws)\u001b[0m\n\u001b[1;32m   1567\u001b[0m                 \u001b[0;31m# Draw the bars\u001b[0m\u001b[0;34m\u001b[0m\u001b[0;34m\u001b[0m\u001b[0;34m\u001b[0m\u001b[0m\n\u001b[1;32m   1568\u001b[0m                 \u001b[0moffpos\u001b[0m \u001b[0;34m=\u001b[0m \u001b[0mbarpos\u001b[0m \u001b[0;34m+\u001b[0m \u001b[0mself\u001b[0m\u001b[0;34m.\u001b[0m\u001b[0mhue_offsets\u001b[0m\u001b[0;34m[\u001b[0m\u001b[0mj\u001b[0m\u001b[0;34m]\u001b[0m\u001b[0;34m\u001b[0m\u001b[0;34m\u001b[0m\u001b[0m\n\u001b[0;32m-> 1569\u001b[0;31m                 barfunc(offpos, self.statistic[:, j], self.nested_width,\n\u001b[0m\u001b[1;32m   1570\u001b[0m                         \u001b[0mcolor\u001b[0m\u001b[0;34m=\u001b[0m\u001b[0mself\u001b[0m\u001b[0;34m.\u001b[0m\u001b[0mcolors\u001b[0m\u001b[0;34m[\u001b[0m\u001b[0mj\u001b[0m\u001b[0;34m]\u001b[0m\u001b[0;34m,\u001b[0m \u001b[0malign\u001b[0m\u001b[0;34m=\u001b[0m\u001b[0;34m\"center\"\u001b[0m\u001b[0;34m,\u001b[0m\u001b[0;34m\u001b[0m\u001b[0;34m\u001b[0m\u001b[0m\n\u001b[1;32m   1571\u001b[0m                         label=hue_level, **kws)\n",
      "\u001b[0;31mIndexError\u001b[0m: too many indices for array: array is 1-dimensional, but 2 were indexed"
     ]
    },
    {
     "data": {
      "image/png": "[encoded data removed]",
      "text/plain": [
       "<Figure size 640x480 with 1 Axes>"
      ]
     },
     "metadata": {},
     "output_type": "display_data"
    }
   ],
   "source": [
    "sns.barplot(data=data_lf.loc[(data_lf['metric'] != 'logloss')].drop_duplicates(ignore_index=True),\n",
    "            x='metric', y='source_value', hue='train_state', hue_order=['', 'CA', 'IN', 'TX'], palette='Set2')\n",
    "plt.legend(bbox_to_anchor=(1.05, 1), loc='upper left', borderaxespad=0)\n",
    "plt.title('Target ERM');"
   ]
  },
  {
   "cell_type": "code",
   "execution_count": 300,
   "id": "4b11cb3e-9fca-4549-bb7b-82d7697a84fd",
   "metadata": {},
   "outputs": [
    {
     "data": {
      "text/html": [
       "<style type=\"text/css\">\n",
       "#T_89758_row0_col2, #T_89758_row1_col2, #T_89758_row2_col2 {\n",
       "  background: green;\n",
       "}\n",
       "#T_89758_row0_col3, #T_89758_row1_col3, #T_89758_row2_col3 {\n",
       "  background: blue;\n",
       "}\n",
       "#T_89758_row0_col4, #T_89758_row1_col4, #T_89758_row2_col4 {\n",
       "  background: purple;\n",
       "}\n",
       "</style>\n",
       "<table id=\"T_89758_\">\n",
       "  <thead>\n",
       "    <tr>\n",
       "      <th class=\"blank level0\" >&nbsp;</th>\n",
       "      <th class=\"col_heading level0 col0\" >source_state</th>\n",
       "      <th class=\"col_heading level0 col1\" >target_state</th>\n",
       "      <th class=\"col_heading level0 col2\" >source_acc</th>\n",
       "      <th class=\"col_heading level0 col3\" >source_auc</th>\n",
       "      <th class=\"col_heading level0 col4\" >source_loss</th>\n",
       "      <th class=\"col_heading level0 col5\" >target_acc</th>\n",
       "      <th class=\"col_heading level0 col6\" >target_auc</th>\n",
       "      <th class=\"col_heading level0 col7\" >target_loss</th>\n",
       "      <th class=\"col_heading level0 col8\" >num_restarts</th>\n",
       "    </tr>\n",
       "  </thead>\n",
       "  <tbody>\n",
       "    <tr>\n",
       "      <th id=\"T_89758_level0_row0\" class=\"row_heading level0 row0\" >0</th>\n",
       "      <td id=\"T_89758_row0_col0\" class=\"data row0 col0\" >CA</td>\n",
       "      <td id=\"T_89758_row0_col1\" class=\"data row0 col1\" >IL</td>\n",
       "      <td id=\"T_89758_row0_col2\" class=\"data row0 col2\" >0.896 (0.016)</td>\n",
       "      <td id=\"T_89758_row0_col3\" class=\"data row0 col3\" >0.863 (0.015)</td>\n",
       "      <td id=\"T_89758_row0_col4\" class=\"data row0 col4\" >0.335 (0.034)</td>\n",
       "      <td id=\"T_89758_row0_col5\" class=\"data row0 col5\" >0.555 (0.025)</td>\n",
       "      <td id=\"T_89758_row0_col6\" class=\"data row0 col6\" >0.499 (0.007)</td>\n",
       "      <td id=\"T_89758_row0_col7\" class=\"data row0 col7\" >1.383 (0.280)</td>\n",
       "      <td id=\"T_89758_row0_col8\" class=\"data row0 col8\" >5</td>\n",
       "    </tr>\n",
       "    <tr>\n",
       "      <th id=\"T_89758_level0_row1\" class=\"row_heading level0 row1\" >1</th>\n",
       "      <td id=\"T_89758_row1_col0\" class=\"data row1 col0\" >IN</td>\n",
       "      <td id=\"T_89758_row1_col1\" class=\"data row1 col1\" >IL</td>\n",
       "      <td id=\"T_89758_row1_col2\" class=\"data row1 col2\" >0.893 (0.011)</td>\n",
       "      <td id=\"T_89758_row1_col3\" class=\"data row1 col3\" >0.884 (0.016)</td>\n",
       "      <td id=\"T_89758_row1_col4\" class=\"data row1 col4\" >0.279 (0.042)</td>\n",
       "      <td id=\"T_89758_row1_col5\" class=\"data row1 col5\" >0.536 (0.019)</td>\n",
       "      <td id=\"T_89758_row1_col6\" class=\"data row1 col6\" >0.515 (0.010)</td>\n",
       "      <td id=\"T_89758_row1_col7\" class=\"data row1 col7\" >1.405 (0.266)</td>\n",
       "      <td id=\"T_89758_row1_col8\" class=\"data row1 col8\" >5</td>\n",
       "    </tr>\n",
       "    <tr>\n",
       "      <th id=\"T_89758_level0_row2\" class=\"row_heading level0 row2\" >2</th>\n",
       "      <td id=\"T_89758_row2_col0\" class=\"data row2 col0\" >TX</td>\n",
       "      <td id=\"T_89758_row2_col1\" class=\"data row2 col1\" >IL</td>\n",
       "      <td id=\"T_89758_row2_col2\" class=\"data row2 col2\" >0.832 (0.073)</td>\n",
       "      <td id=\"T_89758_row2_col3\" class=\"data row2 col3\" >0.735 (0.052)</td>\n",
       "      <td id=\"T_89758_row2_col4\" class=\"data row2 col4\" >0.972 (0.403)</td>\n",
       "      <td id=\"T_89758_row2_col5\" class=\"data row2 col5\" >0.534 (0.023)</td>\n",
       "      <td id=\"T_89758_row2_col6\" class=\"data row2 col6\" >0.501 (0.005)</td>\n",
       "      <td id=\"T_89758_row2_col7\" class=\"data row2 col7\" >3.247 (1.591)</td>\n",
       "      <td id=\"T_89758_row2_col8\" class=\"data row2 col8\" >5</td>\n",
       "    </tr>\n",
       "  </tbody>\n",
       "</table>\n"
      ],
      "text/plain": [
       "<pandas.io.formats.style.Styler at 0x7fd804b01610>"
      ]
     },
     "metadata": {},
     "output_type": "display_data"
    }
   ],
   "source": [
    "print_df(summarize_restarts(data), metric_prefix='source')"
   ]
  },
  {
   "cell_type": "code",
   "execution_count": null,
   "id": "62c418a6-02dc-4805-84b1-1a60b713240d",
   "metadata": {},
   "outputs": [],
   "source": []
  },
  {
   "cell_type": "markdown",
   "id": "66012809-66f5-4721-8d50-34b1f46f087f",
   "metadata": {},
   "source": [
    "# Table: In/Out-of-distribution performance metrics"
   ]
  },
  {
   "cell_type": "code",
   "execution_count": 156,
   "id": "6e9786de-3e56-4a98-8728-f2859396255f",
   "metadata": {},
   "outputs": [],
   "source": [
    "def in_out_metrics(source_df, target_df):\n",
    "    all_df = pd.concat([source_df, target_df], axis=0)\n",
    "    \n",
    "    ind = pd.DataFrame()\n",
    "    for source_state in all_df.source_state.unique():\n",
    "        state_df = all_df[all_df.source_state == source_state].loc[\n",
    "            :, ['source_state', 'source_acc', 'source_auc', 'source_loss']\n",
    "        ].drop_duplicates()\n",
    "        ind = pd.concat([ind, state_df], axis=0)\n",
    "    ind.rename({\n",
    "        'source_state': 'State',\n",
    "        'source_acc': 'Accuracy',\n",
    "        'source_auc': 'AUC ROC',\n",
    "        'source_loss': 'Log-Loss',\n",
    "    }, axis=1, inplace=True)\n",
    "    ind.loc[:, 'Evaluation'] = 'In-distrbution'\n",
    "    \n",
    "    ood = pd.DataFrame()\n",
    "    for target_state in all_df.target_state.unique():\n",
    "        state_df = all_df[all_df.target_state == target_state].loc[\n",
    "            :, ['target_state', 'target_acc', 'target_auc', 'target_loss']\n",
    "        ]\n",
    "        state_df = state_df[state_df.target_state != 'IL']\n",
    "        ood = pd.concat([ood, state_df], axis=0)\n",
    "    ood.rename({\n",
    "        'target_state': 'State',\n",
    "        'target_acc': 'Accuracy',\n",
    "        'target_auc': 'AUC ROC',\n",
    "        'target_loss': 'Log-Loss',\n",
    "    }, axis=1, inplace=True)\n",
    "    ood.loc[:, 'Evaluation'] = 'Out-of-distribution'\n",
    "    \n",
    "    result = pd.concat([ind, ood], axis=0).reset_index(drop=True)\n",
    "    result = result.melt(id_vars=['Evaluation', 'State'],\n",
    "                         value_vars=['Accuracy', 'AUC ROC', 'Log-Loss'],\n",
    "                         var_name='Metric', value_name='Value')\n",
    "    result = result.pivot(index=['Evaluation', 'Metric'], columns='State')\n",
    "    result = result.reindex(['IL', 'CA', 'IN', 'TX'], axis=1, level=1)\n",
    "    result = result.reindex(['Accuracy', 'AUC ROC', 'Log-Loss'], axis=0, level=1)\n",
    "    \n",
    "    return result"
   ]
  },
  {
   "cell_type": "code",
   "execution_count": 172,
   "id": "7f3e93b2-5791-4b1c-a091-061f7eb57ca9",
   "metadata": {},
   "outputs": [
    {
     "data": {
      "image/png": "[encoded data removed]",
      "text/plain": [
       "<Figure size 640x480 with 1 Axes>"
      ]
     },
     "metadata": {},
     "output_type": "display_data"
    }
   ],
   "source": [
    "ax = plt.subplot(111, frame_on=False) # no visible frame\n",
    "ax.xaxis.set_visible(False) # hide the x axis\n",
    "ax.yaxis.set_visible(False) # hide the y axis\n",
    "pd.plotting.table(ax, in_out_metrics(source_erm_resnet, target_erm_resnet), loc='center');"
   ]
  },
  {
   "cell_type": "code",
   "execution_count": 173,
   "id": "8b23dec6-a53c-4ab7-ab69-a26281f49d1f",
   "metadata": {},
   "outputs": [
    {
     "data": {
      "text/html": [
       "<div>\n",
       "<style scoped>\n",
       "    .dataframe tbody tr th:only-of-type {\n",
       "        vertical-align: middle;\n",
       "    }\n",
       "\n",
       "    .dataframe tbody tr th {\n",
       "        vertical-align: top;\n",
       "    }\n",
       "\n",
       "    .dataframe thead tr th {\n",
       "        text-align: left;\n",
       "    }\n",
       "\n",
       "    .dataframe thead tr:last-of-type th {\n",
       "        text-align: right;\n",
       "    }\n",
       "</style>\n",
       "<table border=\"1\" class=\"dataframe\">\n",
       "  <thead>\n",
       "    <tr>\n",
       "      <th></th>\n",
       "      <th></th>\n",
       "      <th colspan=\"4\" halign=\"left\">Value</th>\n",
       "    </tr>\n",
       "    <tr>\n",
       "      <th></th>\n",
       "      <th>State</th>\n",
       "      <th>IL</th>\n",
       "      <th>CA</th>\n",
       "      <th>IN</th>\n",
       "      <th>TX</th>\n",
       "    </tr>\n",
       "    <tr>\n",
       "      <th>Evaluation</th>\n",
       "      <th>Metric</th>\n",
       "      <th></th>\n",
       "      <th></th>\n",
       "      <th></th>\n",
       "      <th></th>\n",
       "    </tr>\n",
       "  </thead>\n",
       "  <tbody>\n",
       "    <tr>\n",
       "      <th rowspan=\"3\" valign=\"top\">In-distrbution</th>\n",
       "      <th>Accuracy</th>\n",
       "      <td>0.865 (0.006)</td>\n",
       "      <td>0.895 (0.023)</td>\n",
       "      <td>0.814 (0.086)</td>\n",
       "      <td>0.861 (0.053)</td>\n",
       "    </tr>\n",
       "    <tr>\n",
       "      <th>AUC ROC</th>\n",
       "      <td>0.856 (0.009)</td>\n",
       "      <td>0.861 (0.016)</td>\n",
       "      <td>0.812 (0.065)</td>\n",
       "      <td>0.767 (0.016)</td>\n",
       "    </tr>\n",
       "    <tr>\n",
       "      <th>Log-Loss</th>\n",
       "      <td>0.904 (0.059)</td>\n",
       "      <td>0.324 (0.054)</td>\n",
       "      <td>0.448 (0.211)</td>\n",
       "      <td>1.154 (1.202)</td>\n",
       "    </tr>\n",
       "    <tr>\n",
       "      <th rowspan=\"3\" valign=\"top\">Out-of-distribution</th>\n",
       "      <th>Accuracy</th>\n",
       "      <td>NaN</td>\n",
       "      <td>0.396 (0.045)</td>\n",
       "      <td>0.527 (0.035)</td>\n",
       "      <td>0.432 (0.055)</td>\n",
       "    </tr>\n",
       "    <tr>\n",
       "      <th>AUC ROC</th>\n",
       "      <td>NaN</td>\n",
       "      <td>0.417 (0.030)</td>\n",
       "      <td>0.506 (0.034)</td>\n",
       "      <td>0.532 (0.056)</td>\n",
       "    </tr>\n",
       "    <tr>\n",
       "      <th>Log-Loss</th>\n",
       "      <td>NaN</td>\n",
       "      <td>5.539 (0.324)</td>\n",
       "      <td>4.205 (0.523)</td>\n",
       "      <td>4.304 (0.528)</td>\n",
       "    </tr>\n",
       "  </tbody>\n",
       "</table>\n",
       "</div>"
      ],
      "text/plain": [
       "                                      Value                                \\\n",
       "State                                    IL             CA             IN   \n",
       "Evaluation          Metric                                                  \n",
       "In-distrbution      Accuracy  0.865 (0.006)  0.895 (0.023)  0.814 (0.086)   \n",
       "                    AUC ROC   0.856 (0.009)  0.861 (0.016)  0.812 (0.065)   \n",
       "                    Log-Loss  0.904 (0.059)  0.324 (0.054)  0.448 (0.211)   \n",
       "Out-of-distribution Accuracy            NaN  0.396 (0.045)  0.527 (0.035)   \n",
       "                    AUC ROC             NaN  0.417 (0.030)  0.506 (0.034)   \n",
       "                    Log-Loss            NaN  5.539 (0.324)  4.205 (0.523)   \n",
       "\n",
       "                                             \n",
       "State                                    TX  \n",
       "Evaluation          Metric                   \n",
       "In-distrbution      Accuracy  0.861 (0.053)  \n",
       "                    AUC ROC   0.767 (0.016)  \n",
       "                    Log-Loss  1.154 (1.202)  \n",
       "Out-of-distribution Accuracy  0.432 (0.055)  \n",
       "                    AUC ROC   0.532 (0.056)  \n",
       "                    Log-Loss  4.304 (0.528)  "
      ]
     },
     "execution_count": 173,
     "metadata": {},
     "output_type": "execute_result"
    }
   ],
   "source": [
    "in_out_metrics(source_erm_resnet, target_erm_resnet)"
   ]
  },
  {
   "cell_type": "code",
   "execution_count": 152,
   "id": "806ae6c2-c15a-44e1-b874-862c707540dd",
   "metadata": {},
   "outputs": [],
   "source": [
    "treat_dir = os.path.join(RESULTS_DIR, 'new_results', 'early_stop_auc', 'film_block-none_bn-0_none', 'resnet152_source-IL_target-CA_ft-all_ns-all_nt-0')\n",
    "treat_results = json.load(open(os.path.join(treat_dir, 'source_stats_CA_n-all_0.json'), 'rb'))\n",
    "control_dir = os.path.join(RESULTS_DIR, 'new_results', 'early_stop_auc', 'resnet', 'resnet152_source-IL_target-CA_ft-all_ns-all_nt-0')\n",
    "control_results = json.load(open(os.path.join(control_dir, 'source_stats_CA_n-all_0.json'), 'rb'))"
   ]
  },
  {
   "cell_type": "code",
   "execution_count": 153,
   "id": "036ca817-8e0e-4f90-ac31-4e53331bcffe",
   "metadata": {},
   "outputs": [
    {
     "data": {
      "text/plain": [
       "dict_keys(['train_grad_norm', 'valid_grad_norm', 'test_grad_norm', 'param_fro_norm', 'param_l2_norm'])"
      ]
     },
     "execution_count": 153,
     "metadata": {},
     "output_type": "execute_result"
    }
   ],
   "source": [
    "treat_results.keys()"
   ]
  },
  {
   "cell_type": "code",
   "execution_count": 154,
   "id": "ebc51dc5-e7e1-4366-8307-ecbde81784a3",
   "metadata": {},
   "outputs": [
    {
     "data": {
      "text/plain": [
       "dict_keys(['train_grad_norm', 'valid_grad_norm', 'test_grad_norm', 'param_fro_norm', 'param_l2_norm'])"
      ]
     },
     "execution_count": 154,
     "metadata": {},
     "output_type": "execute_result"
    }
   ],
   "source": [
    "control_results.keys()"
   ]
  },
  {
   "cell_type": "code",
   "execution_count": 165,
   "id": "9b91d238-f4d0-4221-93bf-370d4354902f",
   "metadata": {},
   "outputs": [
    {
     "data": {
      "text/plain": [
       "0.021858976654974476"
      ]
     },
     "execution_count": 165,
     "metadata": {},
     "output_type": "execute_result"
    }
   ],
   "source": [
    "treat_results['test_grad_norm']['module.linear.bias']"
   ]
  },
  {
   "cell_type": "code",
   "execution_count": 166,
   "id": "ad16c278-3ca5-4988-bffb-6d876b227aee",
   "metadata": {},
   "outputs": [
    {
     "data": {
      "text/plain": [
       "0.018037946362580572"
      ]
     },
     "execution_count": 166,
     "metadata": {},
     "output_type": "execute_result"
    }
   ],
   "source": [
    "control_results['test_grad_norm']['module.linear.bias']"
   ]
  },
  {
   "cell_type": "code",
   "execution_count": 171,
   "id": "f3a42219-a42f-4ef7-90d9-4920219d8013",
   "metadata": {},
   "outputs": [],
   "source": [
    "treat_clf_grad_norm = []\n",
    "control_clf_grad_norm = []\n",
    "for i in range(5):\n",
    "    treat_results = json.load(open(os.path.join(treat_dir, f'source_stats_CA_n-all_{i}.json'), 'rb'))\n",
    "    control_results = json.load(open(os.path.join(control_dir, f'source_stats_CA_n-all_{i}.json'), 'rb'))\n",
    "    treat_clf_grad_norm.append(treat_results['test_grad_norm']['module.resnet.fc.weight'] +\n",
    "                               treat_results['test_grad_norm']['module.resnet.fc.bias'] + \n",
    "                               treat_results['test_grad_norm']['module.linear.weight'] +\n",
    "                               treat_results['test_grad_norm']['module.linear.bias'])\n",
    "    control_clf_grad_norm.append(control_results['test_grad_norm']['module.resnet.fc.weight'] +\n",
    "                                 control_results['test_grad_norm']['module.resnet.fc.bias'] + \n",
    "                                 control_results['test_grad_norm']['module.linear.weight'] +\n",
    "                                 control_results['test_grad_norm']['module.linear.bias'])"
   ]
  },
  {
   "cell_type": "code",
   "execution_count": 172,
   "id": "1b084a9d-019f-46ba-85fd-827c52672c18",
   "metadata": {},
   "outputs": [
    {
     "data": {
      "text/plain": [
       "0.5761687932602529"
      ]
     },
     "execution_count": 172,
     "metadata": {},
     "output_type": "execute_result"
    }
   ],
   "source": [
    "np.mean(treat_clf_grad_norm)"
   ]
  },
  {
   "cell_type": "code",
   "execution_count": 173,
   "id": "aeb39436-1dd2-4752-a88d-f26bf454d455",
   "metadata": {},
   "outputs": [
    {
     "data": {
      "text/plain": [
       "0.5139571548772178"
      ]
     },
     "execution_count": 173,
     "metadata": {},
     "output_type": "execute_result"
    }
   ],
   "source": [
    "np.mean(control_clf_grad_norm)"
   ]
  },
  {
   "cell_type": "code",
   "execution_count": null,
   "id": "cc0e5cfe-331f-4575-b6b1-d85478fa2bbe",
   "metadata": {},
   "outputs": [],
   "source": []
  }
 ],
 "metadata": {
  "kernelspec": {
   "display_name": "Python 3 (ipykernel)",
   "language": "python",
   "name": "python3"
  },
  "language_info": {
   "codemirror_mode": {
    "name": "ipython",
    "version": 3
   },
   "file_extension": ".py",
   "mimetype": "text/x-python",
   "name": "python",
   "nbconvert_exporter": "python",
   "pygments_lexer": "ipython3",
   "version": "3.7.9"
  }
 },
 "nbformat": 4,
 "nbformat_minor": 5
}
