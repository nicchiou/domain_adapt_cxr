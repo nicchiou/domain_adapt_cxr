{
 "cells": [
  {
   "cell_type": "code",
   "execution_count": 11,
   "id": "5b83b87c-7e63-4bb0-973d-d87491e96e28",
   "metadata": {},
   "outputs": [],
   "source": [
    "import os\n",
    "import pandas as pd\n",
    "import numpy as np\n",
    "\n",
    "import torch\n",
    "\n",
    "from utils import constants"
   ]
  },
  {
   "cell_type": "code",
   "execution_count": 12,
   "id": "e3570b61-fdfc-44cc-b244-5e35793e4288",
   "metadata": {},
   "outputs": [],
   "source": [
    "base_dir = os.path.join(constants.FINE_TUNING_RESULTS_DIR, 'baseline', 'fixed_batch_size', 'variable_valid_set',\n",
    "                        'baseline_s_20k_t_20')\n",
    "\n",
    "input_dir = os.path.join(constants.FINE_TUNING_RESULTS_DIR, 'frozen', 'fixed_batch_size', 'fixed_valid_set',\n",
    "                         'fine_tune_bn_initial', 'fine_tune_bn_initial_s_20k_t_20')"
   ]
  },
  {
   "cell_type": "code",
   "execution_count": 13,
   "id": "441481dc-4744-4eaf-b22e-e494b0a22dde",
   "metadata": {},
   "outputs": [],
   "source": [
    "chex_acc = list()\n",
    "bn_weight_spec_norm = list()\n",
    "bn_bias_spec_norm = list()\n",
    "fc_weight_spec_norm = list()\n",
    "fc_bias_spec_norm = list()\n",
    "\n",
    "for idx in range(3):\n",
    "    src_model = torch.load(os.path.join(base_dir, f'source_checkpoint_{idx}.pt'), map_location=torch.device('cpu'))\n",
    "    tgt_model = torch.load(os.path.join(input_dir, f'target_checkpoint_{idx}.pt'), map_location=torch.device('cpu'))\n",
    "    \n",
    "    df = pd.read_parquet(os.path.join(input_dir, f'target_results_{idx}.parquet'))\n",
    "    chex_acc.append(df['chexpert_final_test_acc'].item())\n",
    "    \n",
    "    bn_weight_spec_norm.append(\n",
    "        np.linalg.norm(abs(src_model['resnet.bn1.weight'].numpy() - tgt_model['resnet.bn1.weight'].numpy()),\n",
    "                       ord=np.inf))\n",
    "    bn_bias_spec_norm.append(\n",
    "        np.linalg.norm(abs(src_model['resnet.bn1.bias'].numpy() - tgt_model['resnet.bn1.bias'].numpy()),\n",
    "                       ord=np.inf))\n",
    "    fc_weight_spec_norm.append(\n",
    "        np.linalg.norm(abs(src_model['resnet.fc.weight'].numpy() - tgt_model['resnet.fc.weight'].numpy()),\n",
    "                       ord=np.inf))\n",
    "    fc_bias_spec_norm.append(\n",
    "        np.linalg.norm(abs(src_model['linear.weight'].numpy() - tgt_model['linear.weight'].numpy()),\n",
    "                       ord=np.inf))"
   ]
  },
  {
   "cell_type": "code",
   "execution_count": 14,
   "id": "17aaf2f2-8241-4e43-b75c-af58947739ef",
   "metadata": {},
   "outputs": [
    {
     "name": "stdout",
     "output_type": "stream",
     "text": [
      "BN gamma spec_norm\t 0.0011729499\n",
      "BN beta spec_norm\t 0.000679791\n",
      "FC weight spec_norm\t 0.002227091\n",
      "FC bias spec_norm\t 0.0054500215\n"
     ]
    }
   ],
   "source": [
    "print('BN gamma spec_norm\\t', np.mean(bn_weight_spec_norm))\n",
    "print('BN beta spec_norm\\t', np.mean(bn_bias_spec_norm))\n",
    "print('FC weight spec_norm\\t', np.mean(fc_weight_spec_norm))\n",
    "print('FC bias spec_norm\\t', np.mean(fc_bias_spec_norm))"
   ]
  },
  {
   "cell_type": "code",
   "execution_count": 15,
   "id": "343c288e-88ad-41a6-af14-eaebd69503db",
   "metadata": {},
   "outputs": [],
   "source": [
    "base_dir = os.path.join(constants.FINE_TUNING_RESULTS_DIR, 'film', 'fixed_batch_size', 'variable_valid_set',\n",
    "                        'film_layer_bn_initial', 'film_s_20k_t_20')\n",
    "\n",
    "input_dir = os.path.join(constants.FINE_TUNING_RESULTS_DIR, 'film', 'fixed_batch_size', 'fixed_valid_set',\n",
    "                         'film_layer_bn_initial', 'film_s_20k_t_20')"
   ]
  },
  {
   "cell_type": "code",
   "execution_count": 16,
   "id": "e68916d1-f06f-4c86-9ffc-39740c666323",
   "metadata": {},
   "outputs": [],
   "source": [
    "chex_acc = list()\n",
    "film_gamma_spec_norm = list()\n",
    "film_beta_spec_norm = list()\n",
    "fc_weight_spec_norm = list()\n",
    "fc_bias_spec_norm = list()\n",
    "\n",
    "for idx in range(3):\n",
    "    src_model = torch.load(os.path.join(base_dir, f'source_checkpoint_{idx}.pt'), map_location=torch.device('cpu'))\n",
    "    tgt_model = torch.load(os.path.join(input_dir, f'target_checkpoint_{idx}.pt'), map_location=torch.device('cpu'))\n",
    "    \n",
    "    df = pd.read_parquet(os.path.join(input_dir, f'target_results_{idx}.parquet'))\n",
    "    chex_acc.append(df['chexpert_final_test_acc'].item())\n",
    "    \n",
    "    film_gamma_spec_norm.append(\n",
    "        np.linalg.norm(abs(src_model['film.gamma'].numpy() - tgt_model['film.gamma'].numpy()),\n",
    "                       ord=np.inf))\n",
    "    film_beta_spec_norm.append(\n",
    "        np.linalg.norm(abs(src_model['film.beta'].numpy() - tgt_model['film.beta'].numpy()),\n",
    "                       ord=np.inf))\n",
    "    fc_weight_spec_norm.append(\n",
    "        np.linalg.norm(abs(src_model['resnet.fc.weight'].numpy() - tgt_model['resnet.fc.weight'].numpy()),\n",
    "                       ord=np.inf))\n",
    "    fc_bias_spec_norm.append(\n",
    "        np.linalg.norm(abs(src_model['linear.weight'].numpy() - tgt_model['linear.weight'].numpy()),\n",
    "                       ord=np.inf))"
   ]
  },
  {
   "cell_type": "code",
   "execution_count": 17,
   "id": "5ace395c-3611-4737-a7e2-a89fb525d80f",
   "metadata": {},
   "outputs": [
    {
     "name": "stdout",
     "output_type": "stream",
     "text": [
      "FiLM gamma spec_norm\t 0.00035377344\n",
      "FiLM beta spec_norm\t 0.0005454908\n",
      "FC weight spec_norm\t 0.0013364125\n",
      "FC bias spec_norm\t 0.0031992241\n"
     ]
    }
   ],
   "source": [
    "print('FiLM gamma spec_norm\\t', np.mean(film_gamma_spec_norm))\n",
    "print('FiLM beta spec_norm\\t', np.mean(film_beta_spec_norm))\n",
    "print('FC weight spec_norm\\t', np.mean(fc_weight_spec_norm))\n",
    "print('FC bias spec_norm\\t', np.mean(fc_bias_spec_norm))"
   ]
  },
  {
   "cell_type": "code",
   "execution_count": null,
   "id": "dcd3660b-f9d1-4470-9c9b-7f0e5d52636f",
   "metadata": {},
   "outputs": [],
   "source": []
  },
  {
   "cell_type": "code",
   "execution_count": null,
   "id": "1266f29e-46f6-4c9b-bcee-da8184ff11bc",
   "metadata": {},
   "outputs": [],
   "source": []
  }
 ],
 "metadata": {
  "kernelspec": {
   "display_name": "Python 3",
   "language": "python",
   "name": "python3"
  },
  "language_info": {
   "codemirror_mode": {
    "name": "ipython",
    "version": 3
   },
   "file_extension": ".py",
   "mimetype": "text/x-python",
   "name": "python",
   "nbconvert_exporter": "python",
   "pygments_lexer": "ipython3",
   "version": "3.6.8"
  }
 },
 "nbformat": 4,
 "nbformat_minor": 5
}
