{
 "cells": [
  {
   "cell_type": "code",
   "execution_count": 1,
   "metadata": {},
   "outputs": [],
   "source": [
    "import numpy as np\n",
    "import os\n",
    "import pandas as pd\n",
    "import cv2 as cv\n",
    "from tqdm import tqdm\n",
    "from PIL import Image\n",
    "import cv2 as cv\n",
    "import json"
   ]
  },
  {
   "cell_type": "code",
   "execution_count": 2,
   "metadata": {},
   "outputs": [],
   "source": [
    "# CXR8_dir = '/home/diwenxu2/CXR8/images'\n",
    "# # CXR8_list = os.listdir(CXR8_dir)\n",
    "# indeces = np.arange(len(CXR8_list))\n",
    "# np.random.shuffle(indeces)\n",
    "# saved_path = '/home/diwenxu2/dataClassification/CXR8'\n",
    "# if os.path.isdir(saved_path)==False:\n",
    "#     os.mkdir(saved_path)"
   ]
  },
  {
   "cell_type": "code",
   "execution_count": 43,
   "metadata": {},
   "outputs": [],
   "source": [
    "index = 'Pleural Effusion'\n",
    "option = 'train'\n",
    "batch_size = 16\n",
    "random_seed = 8"
   ]
  },
  {
   "cell_type": "code",
   "execution_count": 44,
   "metadata": {},
   "outputs": [],
   "source": [
    "# CXR8_dir = '/home/diwenxu2/CXR8/images'\n",
    "# info = pd.read_csv('/home/diwenxu2/CXR8/Data_Entry_2017_v2020.csv')"
   ]
  },
  {
   "cell_type": "code",
   "execution_count": 45,
   "metadata": {},
   "outputs": [],
   "source": [
    "# saved_path = {'Cardiomegaly':'/home/diwenxu2/data_v2/'+option+'/cxr8/x_car',\n",
    "#              'No Finding':'/home/diwenxu2/data_v2/'+option+'/cxr8/normal'}"
   ]
  },
  {
   "cell_type": "code",
   "execution_count": 46,
   "metadata": {
    "scrolled": true
   },
   "outputs": [],
   "source": [
    "# indeces = []\n",
    "# for i in range(len(info)):\n",
    "#     if index in str(info['Finding Labels'][i]).split('|'):\n",
    "#         indeces.append(i)"
   ]
  },
  {
   "cell_type": "code",
   "execution_count": 47,
   "metadata": {
    "scrolled": true
   },
   "outputs": [],
   "source": [
    "# np.random.shuffle(indeces)"
   ]
  },
  {
   "cell_type": "code",
   "execution_count": 48,
   "metadata": {},
   "outputs": [],
   "source": [
    "# for i in tqdm(indeces[2350:2750]):\n",
    "#     img_path = os.path.join(CXR8_dir,info['Image Index'][i])\n",
    "#     img = Image.open(img_path)\n",
    "#     img.save(os.path.join(saved_path[index],info['Image Index'][i]))"
   ]
  },
  {
   "cell_type": "code",
   "execution_count": 9,
   "metadata": {},
   "outputs": [
    {
     "data": {
      "text/plain": [
       "Path                          223414\n",
       "Sex                           223414\n",
       "Age                           223414\n",
       "Frontal/Lateral               223414\n",
       "AP/PA                         191027\n",
       "No Finding                     22381\n",
       "Enlarged Cardiomediastinum     44839\n",
       "Cardiomegaly                   46203\n",
       "Lung Opacity                  117778\n",
       "Lung Lesion                    11944\n",
       "Edema                          85956\n",
       "Consolidation                  70622\n",
       "Pneumonia                      27608\n",
       "Atelectasis                    68443\n",
       "Pneumothorax                   78934\n",
       "Pleural Effusion              133211\n",
       "Pleural Other                   6492\n",
       "Fracture                       12194\n",
       "Support Devices               123217\n",
       "dtype: int64"
      ]
     },
     "execution_count": 9,
     "metadata": {},
     "output_type": "execute_result"
    }
   ],
   "source": [
    "url = '/shared/rsaas/diwenxu2/CheXpert-v1.0-small/train.csv'\n",
    "tn = pd.read_csv(url)\n",
    "# tn = tn[tn['AP/PA'] == 'AP']\n",
    "tn.count()"
   ]
  },
  {
   "cell_type": "code",
   "execution_count": 50,
   "metadata": {},
   "outputs": [],
   "source": [
    "path = {'Cardiomegaly':'/home/diwenxu2/data/'+option+'/chexpert/x_car',\n",
    "        'No Finding':'/home/diwenxu2/data/'+option+'/chexpert/normal',\n",
    "       'Pleural Effusion':'/home/diwenxu2/data/'+option+'/chexpert/pleural_effusion'}"
   ]
  },
  {
   "cell_type": "code",
   "execution_count": 11,
   "metadata": {},
   "outputs": [],
   "source": [
    "# tn = tn.reset_index(drop = True)"
   ]
  },
  {
   "cell_type": "code",
   "execution_count": 12,
   "metadata": {},
   "outputs": [],
   "source": [
    "# tn.count()"
   ]
  },
  {
   "cell_type": "code",
   "execution_count": 13,
   "metadata": {},
   "outputs": [],
   "source": [
    "# tn[tn['Pleural Effusion']==1.0].count()"
   ]
  },
  {
   "cell_type": "code",
   "execution_count": 51,
   "metadata": {},
   "outputs": [
    {
     "data": {
      "text/plain": [
       "('Pleural Effusion', 'train')"
      ]
     },
     "execution_count": 51,
     "metadata": {},
     "output_type": "execute_result"
    }
   ],
   "source": [
    "index,option"
   ]
  },
  {
   "cell_type": "code",
   "execution_count": 16,
   "metadata": {},
   "outputs": [],
   "source": [
    "tn = tn[tn[index]==1.0]\n",
    "# tn = tn[tn['Pleural Effusion']!= 1.0]\n",
    "tn = tn.reset_index(drop = True)"
   ]
  },
  {
   "cell_type": "code",
   "execution_count": 52,
   "metadata": {},
   "outputs": [],
   "source": [
    "indexes = np.arange(len(tn))\n",
    "np.random.seed(random_seed)\n",
    "np.random.shuffle(indexes)"
   ]
  },
  {
   "cell_type": "code",
   "execution_count": 53,
   "metadata": {},
   "outputs": [
    {
     "data": {
      "text/html": [
       "<div>\n",
       "<style scoped>\n",
       "    .dataframe tbody tr th:only-of-type {\n",
       "        vertical-align: middle;\n",
       "    }\n",
       "\n",
       "    .dataframe tbody tr th {\n",
       "        vertical-align: top;\n",
       "    }\n",
       "\n",
       "    .dataframe thead th {\n",
       "        text-align: right;\n",
       "    }\n",
       "</style>\n",
       "<table border=\"1\" class=\"dataframe\">\n",
       "  <thead>\n",
       "    <tr style=\"text-align: right;\">\n",
       "      <th></th>\n",
       "      <th>Path</th>\n",
       "      <th>Sex</th>\n",
       "      <th>Age</th>\n",
       "      <th>Frontal/Lateral</th>\n",
       "      <th>AP/PA</th>\n",
       "      <th>No Finding</th>\n",
       "      <th>Enlarged Cardiomediastinum</th>\n",
       "      <th>Cardiomegaly</th>\n",
       "      <th>Lung Opacity</th>\n",
       "      <th>Lung Lesion</th>\n",
       "      <th>Edema</th>\n",
       "      <th>Consolidation</th>\n",
       "      <th>Pneumonia</th>\n",
       "      <th>Atelectasis</th>\n",
       "      <th>Pneumothorax</th>\n",
       "      <th>Pleural Effusion</th>\n",
       "      <th>Pleural Other</th>\n",
       "      <th>Fracture</th>\n",
       "      <th>Support Devices</th>\n",
       "    </tr>\n",
       "  </thead>\n",
       "  <tbody>\n",
       "    <tr>\n",
       "      <th>0</th>\n",
       "      <td>CheXpert-v1.0-small/train/patient00008/study1/...</td>\n",
       "      <td>Male</td>\n",
       "      <td>81</td>\n",
       "      <td>Frontal</td>\n",
       "      <td>AP</td>\n",
       "      <td>NaN</td>\n",
       "      <td>NaN</td>\n",
       "      <td>NaN</td>\n",
       "      <td>1.0</td>\n",
       "      <td>NaN</td>\n",
       "      <td>NaN</td>\n",
       "      <td>NaN</td>\n",
       "      <td>NaN</td>\n",
       "      <td>NaN</td>\n",
       "      <td>NaN</td>\n",
       "      <td>1.0</td>\n",
       "      <td>NaN</td>\n",
       "      <td>NaN</td>\n",
       "      <td>1.0</td>\n",
       "    </tr>\n",
       "    <tr>\n",
       "      <th>1</th>\n",
       "      <td>CheXpert-v1.0-small/train/patient00008/study2/...</td>\n",
       "      <td>Male</td>\n",
       "      <td>81</td>\n",
       "      <td>Frontal</td>\n",
       "      <td>AP</td>\n",
       "      <td>NaN</td>\n",
       "      <td>NaN</td>\n",
       "      <td>NaN</td>\n",
       "      <td>1.0</td>\n",
       "      <td>NaN</td>\n",
       "      <td>NaN</td>\n",
       "      <td>NaN</td>\n",
       "      <td>NaN</td>\n",
       "      <td>NaN</td>\n",
       "      <td>0.0</td>\n",
       "      <td>1.0</td>\n",
       "      <td>NaN</td>\n",
       "      <td>NaN</td>\n",
       "      <td>1.0</td>\n",
       "    </tr>\n",
       "    <tr>\n",
       "      <th>2</th>\n",
       "      <td>CheXpert-v1.0-small/train/patient00011/study2/...</td>\n",
       "      <td>Female</td>\n",
       "      <td>19</td>\n",
       "      <td>Frontal</td>\n",
       "      <td>AP</td>\n",
       "      <td>NaN</td>\n",
       "      <td>NaN</td>\n",
       "      <td>NaN</td>\n",
       "      <td>1.0</td>\n",
       "      <td>NaN</td>\n",
       "      <td>NaN</td>\n",
       "      <td>1.0</td>\n",
       "      <td>NaN</td>\n",
       "      <td>NaN</td>\n",
       "      <td>NaN</td>\n",
       "      <td>1.0</td>\n",
       "      <td>NaN</td>\n",
       "      <td>NaN</td>\n",
       "      <td>1.0</td>\n",
       "    </tr>\n",
       "    <tr>\n",
       "      <th>3</th>\n",
       "      <td>CheXpert-v1.0-small/train/patient00011/study10...</td>\n",
       "      <td>Female</td>\n",
       "      <td>19</td>\n",
       "      <td>Frontal</td>\n",
       "      <td>AP</td>\n",
       "      <td>NaN</td>\n",
       "      <td>NaN</td>\n",
       "      <td>NaN</td>\n",
       "      <td>1.0</td>\n",
       "      <td>NaN</td>\n",
       "      <td>1.0</td>\n",
       "      <td>NaN</td>\n",
       "      <td>NaN</td>\n",
       "      <td>NaN</td>\n",
       "      <td>NaN</td>\n",
       "      <td>1.0</td>\n",
       "      <td>NaN</td>\n",
       "      <td>NaN</td>\n",
       "      <td>1.0</td>\n",
       "    </tr>\n",
       "    <tr>\n",
       "      <th>4</th>\n",
       "      <td>CheXpert-v1.0-small/train/patient00011/study9/...</td>\n",
       "      <td>Female</td>\n",
       "      <td>19</td>\n",
       "      <td>Frontal</td>\n",
       "      <td>AP</td>\n",
       "      <td>NaN</td>\n",
       "      <td>1.0</td>\n",
       "      <td>NaN</td>\n",
       "      <td>-1.0</td>\n",
       "      <td>NaN</td>\n",
       "      <td>NaN</td>\n",
       "      <td>NaN</td>\n",
       "      <td>NaN</td>\n",
       "      <td>NaN</td>\n",
       "      <td>NaN</td>\n",
       "      <td>1.0</td>\n",
       "      <td>NaN</td>\n",
       "      <td>NaN</td>\n",
       "      <td>1.0</td>\n",
       "    </tr>\n",
       "    <tr>\n",
       "      <th>...</th>\n",
       "      <td>...</td>\n",
       "      <td>...</td>\n",
       "      <td>...</td>\n",
       "      <td>...</td>\n",
       "      <td>...</td>\n",
       "      <td>...</td>\n",
       "      <td>...</td>\n",
       "      <td>...</td>\n",
       "      <td>...</td>\n",
       "      <td>...</td>\n",
       "      <td>...</td>\n",
       "      <td>...</td>\n",
       "      <td>...</td>\n",
       "      <td>...</td>\n",
       "      <td>...</td>\n",
       "      <td>...</td>\n",
       "      <td>...</td>\n",
       "      <td>...</td>\n",
       "      <td>...</td>\n",
       "    </tr>\n",
       "    <tr>\n",
       "      <th>86182</th>\n",
       "      <td>CheXpert-v1.0-small/train/patient64527/study1/...</td>\n",
       "      <td>Male</td>\n",
       "      <td>85</td>\n",
       "      <td>Frontal</td>\n",
       "      <td>AP</td>\n",
       "      <td>NaN</td>\n",
       "      <td>NaN</td>\n",
       "      <td>-1.0</td>\n",
       "      <td>NaN</td>\n",
       "      <td>NaN</td>\n",
       "      <td>1.0</td>\n",
       "      <td>NaN</td>\n",
       "      <td>NaN</td>\n",
       "      <td>1.0</td>\n",
       "      <td>NaN</td>\n",
       "      <td>1.0</td>\n",
       "      <td>NaN</td>\n",
       "      <td>NaN</td>\n",
       "      <td>1.0</td>\n",
       "    </tr>\n",
       "    <tr>\n",
       "      <th>86183</th>\n",
       "      <td>CheXpert-v1.0-small/train/patient64531/study1/...</td>\n",
       "      <td>Female</td>\n",
       "      <td>57</td>\n",
       "      <td>Frontal</td>\n",
       "      <td>AP</td>\n",
       "      <td>NaN</td>\n",
       "      <td>NaN</td>\n",
       "      <td>NaN</td>\n",
       "      <td>1.0</td>\n",
       "      <td>1.0</td>\n",
       "      <td>NaN</td>\n",
       "      <td>NaN</td>\n",
       "      <td>NaN</td>\n",
       "      <td>-1.0</td>\n",
       "      <td>1.0</td>\n",
       "      <td>1.0</td>\n",
       "      <td>NaN</td>\n",
       "      <td>NaN</td>\n",
       "      <td>1.0</td>\n",
       "    </tr>\n",
       "    <tr>\n",
       "      <th>86184</th>\n",
       "      <td>CheXpert-v1.0-small/train/patient64533/study1/...</td>\n",
       "      <td>Male</td>\n",
       "      <td>75</td>\n",
       "      <td>Frontal</td>\n",
       "      <td>AP</td>\n",
       "      <td>NaN</td>\n",
       "      <td>NaN</td>\n",
       "      <td>1.0</td>\n",
       "      <td>NaN</td>\n",
       "      <td>NaN</td>\n",
       "      <td>1.0</td>\n",
       "      <td>NaN</td>\n",
       "      <td>NaN</td>\n",
       "      <td>NaN</td>\n",
       "      <td>NaN</td>\n",
       "      <td>1.0</td>\n",
       "      <td>NaN</td>\n",
       "      <td>NaN</td>\n",
       "      <td>1.0</td>\n",
       "    </tr>\n",
       "    <tr>\n",
       "      <th>86185</th>\n",
       "      <td>CheXpert-v1.0-small/train/patient64536/study2/...</td>\n",
       "      <td>Female</td>\n",
       "      <td>61</td>\n",
       "      <td>Frontal</td>\n",
       "      <td>AP</td>\n",
       "      <td>NaN</td>\n",
       "      <td>NaN</td>\n",
       "      <td>NaN</td>\n",
       "      <td>NaN</td>\n",
       "      <td>NaN</td>\n",
       "      <td>1.0</td>\n",
       "      <td>NaN</td>\n",
       "      <td>NaN</td>\n",
       "      <td>NaN</td>\n",
       "      <td>NaN</td>\n",
       "      <td>1.0</td>\n",
       "      <td>NaN</td>\n",
       "      <td>NaN</td>\n",
       "      <td>NaN</td>\n",
       "    </tr>\n",
       "    <tr>\n",
       "      <th>86186</th>\n",
       "      <td>CheXpert-v1.0-small/train/patient64537/study2/...</td>\n",
       "      <td>Male</td>\n",
       "      <td>59</td>\n",
       "      <td>Frontal</td>\n",
       "      <td>AP</td>\n",
       "      <td>NaN</td>\n",
       "      <td>NaN</td>\n",
       "      <td>NaN</td>\n",
       "      <td>-1.0</td>\n",
       "      <td>NaN</td>\n",
       "      <td>NaN</td>\n",
       "      <td>NaN</td>\n",
       "      <td>NaN</td>\n",
       "      <td>-1.0</td>\n",
       "      <td>0.0</td>\n",
       "      <td>1.0</td>\n",
       "      <td>NaN</td>\n",
       "      <td>NaN</td>\n",
       "      <td>NaN</td>\n",
       "    </tr>\n",
       "  </tbody>\n",
       "</table>\n",
       "<p>86187 rows × 19 columns</p>\n",
       "</div>"
      ],
      "text/plain": [
       "                                                    Path     Sex  Age  \\\n",
       "0      CheXpert-v1.0-small/train/patient00008/study1/...    Male   81   \n",
       "1      CheXpert-v1.0-small/train/patient00008/study2/...    Male   81   \n",
       "2      CheXpert-v1.0-small/train/patient00011/study2/...  Female   19   \n",
       "3      CheXpert-v1.0-small/train/patient00011/study10...  Female   19   \n",
       "4      CheXpert-v1.0-small/train/patient00011/study9/...  Female   19   \n",
       "...                                                  ...     ...  ...   \n",
       "86182  CheXpert-v1.0-small/train/patient64527/study1/...    Male   85   \n",
       "86183  CheXpert-v1.0-small/train/patient64531/study1/...  Female   57   \n",
       "86184  CheXpert-v1.0-small/train/patient64533/study1/...    Male   75   \n",
       "86185  CheXpert-v1.0-small/train/patient64536/study2/...  Female   61   \n",
       "86186  CheXpert-v1.0-small/train/patient64537/study2/...    Male   59   \n",
       "\n",
       "      Frontal/Lateral AP/PA  No Finding  Enlarged Cardiomediastinum  \\\n",
       "0             Frontal    AP         NaN                         NaN   \n",
       "1             Frontal    AP         NaN                         NaN   \n",
       "2             Frontal    AP         NaN                         NaN   \n",
       "3             Frontal    AP         NaN                         NaN   \n",
       "4             Frontal    AP         NaN                         1.0   \n",
       "...               ...   ...         ...                         ...   \n",
       "86182         Frontal    AP         NaN                         NaN   \n",
       "86183         Frontal    AP         NaN                         NaN   \n",
       "86184         Frontal    AP         NaN                         NaN   \n",
       "86185         Frontal    AP         NaN                         NaN   \n",
       "86186         Frontal    AP         NaN                         NaN   \n",
       "\n",
       "       Cardiomegaly  Lung Opacity  Lung Lesion  Edema  Consolidation  \\\n",
       "0               NaN           1.0          NaN    NaN            NaN   \n",
       "1               NaN           1.0          NaN    NaN            NaN   \n",
       "2               NaN           1.0          NaN    NaN            1.0   \n",
       "3               NaN           1.0          NaN    1.0            NaN   \n",
       "4               NaN          -1.0          NaN    NaN            NaN   \n",
       "...             ...           ...          ...    ...            ...   \n",
       "86182          -1.0           NaN          NaN    1.0            NaN   \n",
       "86183           NaN           1.0          1.0    NaN            NaN   \n",
       "86184           1.0           NaN          NaN    1.0            NaN   \n",
       "86185           NaN           NaN          NaN    1.0            NaN   \n",
       "86186           NaN          -1.0          NaN    NaN            NaN   \n",
       "\n",
       "       Pneumonia  Atelectasis  Pneumothorax  Pleural Effusion  Pleural Other  \\\n",
       "0            NaN          NaN           NaN               1.0            NaN   \n",
       "1            NaN          NaN           0.0               1.0            NaN   \n",
       "2            NaN          NaN           NaN               1.0            NaN   \n",
       "3            NaN          NaN           NaN               1.0            NaN   \n",
       "4            NaN          NaN           NaN               1.0            NaN   \n",
       "...          ...          ...           ...               ...            ...   \n",
       "86182        NaN          1.0           NaN               1.0            NaN   \n",
       "86183        NaN         -1.0           1.0               1.0            NaN   \n",
       "86184        NaN          NaN           NaN               1.0            NaN   \n",
       "86185        NaN          NaN           NaN               1.0            NaN   \n",
       "86186        NaN         -1.0           0.0               1.0            NaN   \n",
       "\n",
       "       Fracture  Support Devices  \n",
       "0           NaN              1.0  \n",
       "1           NaN              1.0  \n",
       "2           NaN              1.0  \n",
       "3           NaN              1.0  \n",
       "4           NaN              1.0  \n",
       "...         ...              ...  \n",
       "86182       NaN              1.0  \n",
       "86183       NaN              1.0  \n",
       "86184       NaN              1.0  \n",
       "86185       NaN              NaN  \n",
       "86186       NaN              NaN  \n",
       "\n",
       "[86187 rows x 19 columns]"
      ]
     },
     "execution_count": 53,
     "metadata": {},
     "output_type": "execute_result"
    }
   ],
   "source": [
    "tn"
   ]
  },
  {
   "cell_type": "code",
   "execution_count": 56,
   "metadata": {},
   "outputs": [
    {
     "name": "stderr",
     "output_type": "stream",
     "text": [
      "100%|██████████| 10000/10000 [05:02<00:00, 33.04it/s]\n"
     ]
    }
   ],
   "source": [
    "os.makedirs(path[index],exist_ok = True)\n",
    "for i in tqdm(indexes[:10000]):\n",
    "    patient_info = tn.Path[i].split('/')\n",
    "#     img_name = patient_info[-3]+'_'+patient_info[-2]+'_NF_'+patient_info[-1]\n",
    "    img_name = 'chex_'+index+str(i)+'.jpg'\n",
    "    \n",
    "    img_path = '/shared/rsaas/diwenxu2/'+tn.Path[i]\n",
    "\n",
    "    img = Image.open(img_path)\n",
    "    img = img.resize((256,256))\n",
    "    saved_path = os.path.join(path[index],img_name)\n",
    "    img.save(saved_path)"
   ]
  },
  {
   "cell_type": "code",
   "execution_count": 31,
   "metadata": {},
   "outputs": [],
   "source": [
    "url_mimic = '/shared/cxr/XrayReport/physionet.org/files/mimic-cxr-jpg/2.0.0/mimic-cxr-2.0.0-metadata.csv'\n",
    "lab1 = pd.read_csv(url_mimic)\n",
    "# lab1 = lab1[lab1['ViewPosition']=='AP']\n",
    "# lab1 = lab1.reset_index(drop = True)"
   ]
  },
  {
   "cell_type": "code",
   "execution_count": 32,
   "metadata": {
    "scrolled": true
   },
   "outputs": [],
   "source": [
    "url_mimic1 = '/shared/cxr/XrayReport/physionet.org/files/mimic-cxr-jpg/2.0.0/mimic-cxr-2.0.0-negbio.csv'\n",
    "lab2 = pd.read_csv(url_mimic1)"
   ]
  },
  {
   "cell_type": "code",
   "execution_count": 33,
   "metadata": {},
   "outputs": [],
   "source": [
    "url_mimic2 = '/shared/cxr/XrayReport/physionet.org/files/mimic-cxr-jpg/2.0.0/mimic-cxr-2.0.0-split.csv'\n",
    "lab3 = pd.read_csv(url_mimic2)\n",
    "# lab3 = lab3[lab3['split']=='train']"
   ]
  },
  {
   "cell_type": "code",
   "execution_count": 34,
   "metadata": {},
   "outputs": [],
   "source": [
    "labhat = pd.merge(lab1,lab2, how='inner',on=['subject_id','study_id'])\n",
    "lab = pd.merge(labhat,lab3,how='inner',on=['subject_id','study_id','dicom_id'])"
   ]
  },
  {
   "cell_type": "code",
   "execution_count": 35,
   "metadata": {},
   "outputs": [],
   "source": [
    "# lab = lab[lab['split']=='test']\n",
    "\n",
    "# lab = lab.reset_index(drop = True)"
   ]
  },
  {
   "cell_type": "code",
   "execution_count": 36,
   "metadata": {},
   "outputs": [
    {
     "data": {
      "text/plain": [
       "dicom_id                                      377095\n",
       "subject_id                                    377095\n",
       "study_id                                      377095\n",
       "PerformedProcedureStepDescription             341588\n",
       "ViewPosition                                  361326\n",
       "Rows                                          377095\n",
       "Columns                                       377095\n",
       "StudyDate                                     377095\n",
       "StudyTime                                     377095\n",
       "ProcedureCodeSequence_CodeMeaning             377095\n",
       "ViewCodeSequence_CodeMeaning                  360598\n",
       "PatientOrientationCodeSequence_CodeMeaning    335930\n",
       "Atelectasis                                    82830\n",
       "Cardiomegaly                                   97727\n",
       "Consolidation                                  35377\n",
       "Edema                                          96892\n",
       "Enlarged Cardiomediastinum                     31285\n",
       "Fracture                                       10413\n",
       "Lung Lesion                                    14547\n",
       "Lung Opacity                                   87445\n",
       "No Finding                                    149986\n",
       "Pleural Effusion                              128890\n",
       "Pleural Other                                   5106\n",
       "Pneumonia                                      98730\n",
       "Pneumothorax                                   73538\n",
       "Support Devices                                88648\n",
       "split                                         377095\n",
       "dtype: int64"
      ]
     },
     "execution_count": 36,
     "metadata": {},
     "output_type": "execute_result"
    }
   ],
   "source": [
    "lab.count()"
   ]
  },
  {
   "cell_type": "code",
   "execution_count": 37,
   "metadata": {},
   "outputs": [],
   "source": [
    "# lab.to_csv('/home/diwenxu2/dataset_gan/mimic_test.csv',index=False)"
   ]
  },
  {
   "cell_type": "code",
   "execution_count": 38,
   "metadata": {},
   "outputs": [],
   "source": [
    "lab = lab[lab[index]==1]\n",
    "# lab = lab[lab['Pleural Effusion']!= 1.0]\n",
    "lab = lab.reset_index(drop = True)"
   ]
  },
  {
   "cell_type": "code",
   "execution_count": 39,
   "metadata": {
    "scrolled": true
   },
   "outputs": [
    {
     "data": {
      "text/plain": [
       "dicom_id                                      75613\n",
       "subject_id                                    75613\n",
       "study_id                                      75613\n",
       "PerformedProcedureStepDescription             69026\n",
       "ViewPosition                                  73105\n",
       "Rows                                          75613\n",
       "Columns                                       75613\n",
       "StudyDate                                     75613\n",
       "StudyTime                                     75613\n",
       "ProcedureCodeSequence_CodeMeaning             75613\n",
       "ViewCodeSequence_CodeMeaning                  72871\n",
       "PatientOrientationCodeSequence_CodeMeaning    64539\n",
       "Atelectasis                                   36310\n",
       "Cardiomegaly                                  31924\n",
       "Consolidation                                 11215\n",
       "Edema                                         33228\n",
       "Enlarged Cardiomediastinum                    10281\n",
       "Fracture                                       1817\n",
       "Lung Lesion                                    3360\n",
       "Lung Opacity                                  25993\n",
       "No Finding                                        0\n",
       "Pleural Effusion                              75613\n",
       "Pleural Other                                  1095\n",
       "Pneumonia                                     19469\n",
       "Pneumothorax                                  27400\n",
       "Support Devices                               32503\n",
       "split                                         75613\n",
       "dtype: int64"
      ]
     },
     "execution_count": 39,
     "metadata": {},
     "output_type": "execute_result"
    }
   ],
   "source": [
    "lab.count()"
   ]
  },
  {
   "cell_type": "code",
   "execution_count": 40,
   "metadata": {},
   "outputs": [],
   "source": [
    "indices = np.arange(len(lab))\n",
    "np.random.seed(random_seed)\n",
    "np.random.shuffle(indices)"
   ]
  },
  {
   "cell_type": "code",
   "execution_count": 57,
   "metadata": {},
   "outputs": [],
   "source": [
    "path_mimic = {'Cardiomegaly':'/home/diwenxu2/data/'+option+'/mimic/x_car',\n",
    "               'No Finding':'/home/diwenxu2/data/'+option+'/mimic/normal',\n",
    "                'Pleural Effusion':'/home/diwenxu2/data/'+option+'/mimic/pleural_effusion'}"
   ]
  },
  {
   "cell_type": "code",
   "execution_count": 58,
   "metadata": {},
   "outputs": [
    {
     "name": "stderr",
     "output_type": "stream",
     "text": [
      "  0%|          | 257/75613 [00:16<1:19:47, 15.74it/s]"
     ]
    },
    {
     "name": "stdout",
     "output_type": "stream",
     "text": [
      "100/10000 images finished\n",
      "100/10000 images finished\n",
      "100/10000 images finished\n",
      "100/10000 images finished\n",
      "100/10000 images finished\n"
     ]
    },
    {
     "name": "stderr",
     "output_type": "stream",
     "text": [
      "  1%|          | 541/75613 [00:33<1:54:25, 10.93it/s]"
     ]
    },
    {
     "name": "stdout",
     "output_type": "stream",
     "text": [
      "200/10000 images finished\n"
     ]
    },
    {
     "name": "stderr",
     "output_type": "stream",
     "text": [
      "  1%|          | 863/75613 [00:48<44:11, 28.19it/s]  "
     ]
    },
    {
     "name": "stdout",
     "output_type": "stream",
     "text": [
      "300/10000 images finished\n",
      "300/10000 images finished\n",
      "300/10000 images finished\n",
      "300/10000 images finished\n",
      "300/10000 images finished\n"
     ]
    },
    {
     "name": "stderr",
     "output_type": "stream",
     "text": [
      "  2%|▏         | 1168/75613 [01:00<1:23:57, 14.78it/s]"
     ]
    },
    {
     "name": "stdout",
     "output_type": "stream",
     "text": [
      "400/10000 images finished\n"
     ]
    },
    {
     "name": "stderr",
     "output_type": "stream",
     "text": [
      "  2%|▏         | 1448/75613 [01:19<1:52:19, 11.00it/s]"
     ]
    },
    {
     "name": "stdout",
     "output_type": "stream",
     "text": [
      "500/10000 images finished\n",
      "500/10000 images finished\n"
     ]
    },
    {
     "name": "stderr",
     "output_type": "stream",
     "text": [
      "  2%|▏         | 1724/75613 [01:34<1:06:13, 18.60it/s]"
     ]
    },
    {
     "name": "stdout",
     "output_type": "stream",
     "text": [
      "600/10000 images finished\n",
      "600/10000 images finished\n"
     ]
    },
    {
     "name": "stderr",
     "output_type": "stream",
     "text": [
      "  3%|▎         | 2063/75613 [01:44<42:13, 29.03it/s]  "
     ]
    },
    {
     "name": "stdout",
     "output_type": "stream",
     "text": [
      "700/10000 images finished\n",
      "700/10000 images finished\n",
      "700/10000 images finished\n",
      "700/10000 images finished\n",
      "700/10000 images finished\n"
     ]
    },
    {
     "name": "stderr",
     "output_type": "stream",
     "text": [
      "  3%|▎         | 2380/75613 [01:54<1:02:19, 19.58it/s]"
     ]
    },
    {
     "name": "stdout",
     "output_type": "stream",
     "text": [
      "800/10000 images finished\n",
      "800/10000 images finished\n"
     ]
    },
    {
     "name": "stderr",
     "output_type": "stream",
     "text": [
      "  4%|▎         | 2697/75613 [02:05<44:13, 27.48it/s]  "
     ]
    },
    {
     "name": "stdout",
     "output_type": "stream",
     "text": [
      "900/10000 images finished\n",
      "900/10000 images finished\n",
      "900/10000 images finished\n",
      "900/10000 images finished\n"
     ]
    },
    {
     "name": "stderr",
     "output_type": "stream",
     "text": [
      "  4%|▍         | 3000/75613 [02:16<54:23, 22.25it/s]  "
     ]
    },
    {
     "name": "stdout",
     "output_type": "stream",
     "text": [
      "1000/10000 images finished\n",
      "1000/10000 images finished\n",
      "1000/10000 images finished\n"
     ]
    },
    {
     "name": "stderr",
     "output_type": "stream",
     "text": [
      "  4%|▍         | 3279/75613 [02:28<55:15, 21.82it/s]  "
     ]
    },
    {
     "name": "stdout",
     "output_type": "stream",
     "text": [
      "1100/10000 images finished\n",
      "1100/10000 images finished\n"
     ]
    },
    {
     "name": "stderr",
     "output_type": "stream",
     "text": [
      "  5%|▍         | 3568/75613 [02:40<47:39, 25.20it/s]  "
     ]
    },
    {
     "name": "stdout",
     "output_type": "stream",
     "text": [
      "1200/10000 images finished\n",
      "1200/10000 images finished\n",
      "1200/10000 images finished\n",
      "1200/10000 images finished\n"
     ]
    },
    {
     "name": "stderr",
     "output_type": "stream",
     "text": [
      "  5%|▌         | 3907/75613 [02:52<50:40, 23.59it/s]  "
     ]
    },
    {
     "name": "stdout",
     "output_type": "stream",
     "text": [
      "1300/10000 images finished\n",
      "1300/10000 images finished\n",
      "1300/10000 images finished\n"
     ]
    },
    {
     "name": "stderr",
     "output_type": "stream",
     "text": [
      "  5%|▌         | 4135/75613 [03:05<1:13:45, 16.15it/s]"
     ]
    },
    {
     "name": "stdout",
     "output_type": "stream",
     "text": [
      "1400/10000 images finished\n"
     ]
    },
    {
     "name": "stderr",
     "output_type": "stream",
     "text": [
      "  6%|▌         | 4414/75613 [03:18<1:43:10, 11.50it/s]"
     ]
    },
    {
     "name": "stdout",
     "output_type": "stream",
     "text": [
      "1500/10000 images finished\n"
     ]
    },
    {
     "name": "stderr",
     "output_type": "stream",
     "text": [
      "  6%|▌         | 4698/75613 [03:32<52:19, 22.59it/s]  "
     ]
    },
    {
     "name": "stdout",
     "output_type": "stream",
     "text": [
      "1600/10000 images finished\n",
      "1600/10000 images finished\n",
      "1600/10000 images finished\n",
      "1600/10000 images finished\n",
      "1600/10000 images finished\n",
      "1600/10000 images finished\n",
      "1600/10000 images finished\n"
     ]
    },
    {
     "name": "stderr",
     "output_type": "stream",
     "text": [
      "  7%|▋         | 4930/75613 [03:45<1:25:56, 13.71it/s]"
     ]
    },
    {
     "name": "stdout",
     "output_type": "stream",
     "text": [
      "1700/10000 images finished\n"
     ]
    },
    {
     "name": "stderr",
     "output_type": "stream",
     "text": [
      "  7%|▋         | 5218/75613 [04:00<1:32:39, 12.66it/s]"
     ]
    },
    {
     "name": "stdout",
     "output_type": "stream",
     "text": [
      "1800/10000 images finished\n"
     ]
    },
    {
     "name": "stderr",
     "output_type": "stream",
     "text": [
      "  7%|▋         | 5554/75613 [04:16<1:19:52, 14.62it/s]"
     ]
    },
    {
     "name": "stdout",
     "output_type": "stream",
     "text": [
      "1900/10000 images finished\n"
     ]
    },
    {
     "name": "stderr",
     "output_type": "stream",
     "text": [
      "  8%|▊         | 5840/75613 [04:31<1:11:22, 16.29it/s]"
     ]
    },
    {
     "name": "stdout",
     "output_type": "stream",
     "text": [
      "2000/10000 images finished\n",
      "2000/10000 images finished\n",
      "2000/10000 images finished\n",
      "2000/10000 images finished\n",
      "2000/10000 images finished\n"
     ]
    },
    {
     "name": "stderr",
     "output_type": "stream",
     "text": [
      "  8%|▊         | 6113/75613 [04:48<1:32:24, 12.53it/s]"
     ]
    },
    {
     "name": "stdout",
     "output_type": "stream",
     "text": [
      "2100/10000 images finished\n"
     ]
    },
    {
     "name": "stderr",
     "output_type": "stream",
     "text": [
      "  8%|▊         | 6422/75613 [05:02<58:13, 19.80it/s]  "
     ]
    },
    {
     "name": "stdout",
     "output_type": "stream",
     "text": [
      "2200/10000 images finished\n",
      "2200/10000 images finished\n",
      "2200/10000 images finished\n"
     ]
    },
    {
     "name": "stderr",
     "output_type": "stream",
     "text": [
      "  9%|▉         | 6723/75613 [05:15<57:22, 20.01it/s]  "
     ]
    },
    {
     "name": "stdout",
     "output_type": "stream",
     "text": [
      "2300/10000 images finished\n",
      "2300/10000 images finished\n",
      "2300/10000 images finished\n"
     ]
    },
    {
     "name": "stderr",
     "output_type": "stream",
     "text": [
      "  9%|▉         | 7019/75613 [05:28<49:43, 22.99it/s]  "
     ]
    },
    {
     "name": "stdout",
     "output_type": "stream",
     "text": [
      "2400/10000 images finished\n",
      "2400/10000 images finished\n",
      "2400/10000 images finished\n",
      "2400/10000 images finished\n",
      "2400/10000 images finished\n",
      "2400/10000 images finished\n",
      "2400/10000 images finished\n"
     ]
    },
    {
     "name": "stderr",
     "output_type": "stream",
     "text": [
      " 10%|▉         | 7294/75613 [05:41<1:27:57, 12.94it/s]"
     ]
    },
    {
     "name": "stdout",
     "output_type": "stream",
     "text": [
      "2500/10000 images finished\n",
      "2500/10000 images finished\n",
      "2500/10000 images finished\n",
      "2500/10000 images finished\n"
     ]
    },
    {
     "name": "stderr",
     "output_type": "stream",
     "text": [
      " 10%|█         | 7619/75613 [05:54<34:20, 33.00it/s]  "
     ]
    },
    {
     "name": "stdout",
     "output_type": "stream",
     "text": [
      "2600/10000 images finished\n"
     ]
    },
    {
     "name": "stderr",
     "output_type": "stream",
     "text": [
      " 10%|█         | 7915/75613 [06:07<56:12, 20.07it/s]  "
     ]
    },
    {
     "name": "stdout",
     "output_type": "stream",
     "text": [
      "2700/10000 images finished\n",
      "2700/10000 images finished\n",
      "2700/10000 images finished\n",
      "2700/10000 images finished\n",
      "2700/10000 images finished\n",
      "2700/10000 images finished\n"
     ]
    },
    {
     "name": "stderr",
     "output_type": "stream",
     "text": [
      " 11%|█         | 8164/75613 [06:20<52:27, 21.43it/s]  "
     ]
    },
    {
     "name": "stdout",
     "output_type": "stream",
     "text": [
      "2800/10000 images finished\n"
     ]
    },
    {
     "name": "stderr",
     "output_type": "stream",
     "text": [
      " 11%|█         | 8454/75613 [06:33<1:15:39, 14.79it/s]"
     ]
    },
    {
     "name": "stdout",
     "output_type": "stream",
     "text": [
      "2900/10000 images finished\n"
     ]
    },
    {
     "name": "stderr",
     "output_type": "stream",
     "text": [
      " 12%|█▏        | 8726/75613 [06:45<52:09, 21.38it/s]  "
     ]
    },
    {
     "name": "stdout",
     "output_type": "stream",
     "text": [
      "3000/10000 images finished\n",
      "3000/10000 images finished\n"
     ]
    },
    {
     "name": "stderr",
     "output_type": "stream",
     "text": [
      " 12%|█▏        | 8995/75613 [06:56<50:39, 21.92it/s]  "
     ]
    },
    {
     "name": "stdout",
     "output_type": "stream",
     "text": [
      "3100/10000 images finished\n",
      "3100/10000 images finished\n",
      "3100/10000 images finished\n",
      "3100/10000 images finished\n",
      "3100/10000 images finished\n",
      "3100/10000 images finished\n",
      "3100/10000 images finished\n"
     ]
    },
    {
     "name": "stderr",
     "output_type": "stream",
     "text": [
      " 12%|█▏        | 9312/75613 [07:09<52:13, 21.16it/s]  "
     ]
    },
    {
     "name": "stdout",
     "output_type": "stream",
     "text": [
      "3200/10000 images finished\n",
      "3200/10000 images finished\n"
     ]
    },
    {
     "name": "stderr",
     "output_type": "stream",
     "text": [
      " 13%|█▎        | 9633/75613 [07:23<46:59, 23.40it/s]  "
     ]
    },
    {
     "name": "stdout",
     "output_type": "stream",
     "text": [
      "3300/10000 images finished\n",
      "3300/10000 images finished\n",
      "3300/10000 images finished\n",
      "3300/10000 images finished\n"
     ]
    },
    {
     "name": "stderr",
     "output_type": "stream",
     "text": [
      " 13%|█▎        | 9918/75613 [07:35<37:53, 28.89it/s]  "
     ]
    },
    {
     "name": "stdout",
     "output_type": "stream",
     "text": [
      "3400/10000 images finished\n",
      "3400/10000 images finished\n",
      "3400/10000 images finished\n"
     ]
    },
    {
     "name": "stderr",
     "output_type": "stream",
     "text": [
      " 13%|█▎        | 10176/75613 [07:47<53:36, 20.35it/s]  "
     ]
    },
    {
     "name": "stdout",
     "output_type": "stream",
     "text": [
      "3500/10000 images finished\n",
      "3500/10000 images finished\n",
      "3500/10000 images finished\n",
      "3500/10000 images finished\n",
      "3500/10000 images finished\n",
      "3500/10000 images finished\n",
      "3500/10000 images finished\n",
      "3500/10000 images finished\n",
      "3500/10000 images finished\n"
     ]
    },
    {
     "name": "stderr",
     "output_type": "stream",
     "text": [
      " 14%|█▍        | 10478/75613 [08:01<1:26:18, 12.58it/s]"
     ]
    },
    {
     "name": "stdout",
     "output_type": "stream",
     "text": [
      "3600/10000 images finished\n",
      "3600/10000 images finished\n"
     ]
    },
    {
     "name": "stderr",
     "output_type": "stream",
     "text": [
      " 14%|█▍        | 10804/75613 [08:14<1:01:40, 17.52it/s]"
     ]
    },
    {
     "name": "stdout",
     "output_type": "stream",
     "text": [
      "3700/10000 images finished\n",
      "3700/10000 images finished\n",
      "3700/10000 images finished\n",
      "3700/10000 images finished\n",
      "3700/10000 images finished\n"
     ]
    },
    {
     "name": "stderr",
     "output_type": "stream",
     "text": [
      " 15%|█▍        | 11074/75613 [08:26<47:50, 22.48it/s]  "
     ]
    },
    {
     "name": "stdout",
     "output_type": "stream",
     "text": [
      "3800/10000 images finished\n",
      "3800/10000 images finished\n"
     ]
    },
    {
     "name": "stderr",
     "output_type": "stream",
     "text": [
      " 15%|█▌        | 11374/75613 [08:39<1:06:20, 16.14it/s]"
     ]
    },
    {
     "name": "stdout",
     "output_type": "stream",
     "text": [
      "3900/10000 images finished\n",
      "3900/10000 images finished\n"
     ]
    },
    {
     "name": "stderr",
     "output_type": "stream",
     "text": [
      " 15%|█▌        | 11665/75613 [08:54<1:10:44, 15.07it/s]"
     ]
    },
    {
     "name": "stdout",
     "output_type": "stream",
     "text": [
      "4000/10000 images finished\n"
     ]
    },
    {
     "name": "stderr",
     "output_type": "stream",
     "text": [
      " 16%|█▌        | 11980/75613 [09:08<1:15:48, 13.99it/s]"
     ]
    },
    {
     "name": "stdout",
     "output_type": "stream",
     "text": [
      "4100/10000 images finished\n"
     ]
    },
    {
     "name": "stderr",
     "output_type": "stream",
     "text": [
      " 16%|█▌        | 12267/75613 [09:22<1:20:46, 13.07it/s]"
     ]
    },
    {
     "name": "stdout",
     "output_type": "stream",
     "text": [
      "4200/10000 images finished\n",
      "4200/10000 images finished\n"
     ]
    },
    {
     "name": "stderr",
     "output_type": "stream",
     "text": [
      " 17%|█▋        | 12522/75613 [09:37<54:09, 19.42it/s]  "
     ]
    },
    {
     "name": "stdout",
     "output_type": "stream",
     "text": [
      "4300/10000 images finished\n",
      "4300/10000 images finished\n"
     ]
    },
    {
     "name": "stderr",
     "output_type": "stream",
     "text": [
      " 17%|█▋        | 12795/75613 [09:51<54:52, 19.08it/s]  "
     ]
    },
    {
     "name": "stdout",
     "output_type": "stream",
     "text": [
      "4400/10000 images finished\n"
     ]
    },
    {
     "name": "stderr",
     "output_type": "stream",
     "text": [
      " 17%|█▋        | 13069/75613 [10:06<1:02:10, 16.77it/s]"
     ]
    },
    {
     "name": "stdout",
     "output_type": "stream",
     "text": [
      "4500/10000 images finished\n",
      "4500/10000 images finished\n",
      "4500/10000 images finished\n",
      "4500/10000 images finished\n",
      "4500/10000 images finished\n"
     ]
    },
    {
     "name": "stderr",
     "output_type": "stream",
     "text": [
      " 18%|█▊        | 13379/75613 [10:22<1:04:59, 15.96it/s]"
     ]
    },
    {
     "name": "stdout",
     "output_type": "stream",
     "text": [
      "4600/10000 images finished\n",
      "4600/10000 images finished\n",
      "4600/10000 images finished\n",
      "4600/10000 images finished\n"
     ]
    },
    {
     "name": "stderr",
     "output_type": "stream",
     "text": [
      " 18%|█▊        | 13666/75613 [10:37<1:04:51, 15.92it/s]"
     ]
    },
    {
     "name": "stdout",
     "output_type": "stream",
     "text": [
      "4700/10000 images finished\n",
      "4700/10000 images finished\n",
      "4700/10000 images finished\n",
      "4700/10000 images finished\n"
     ]
    },
    {
     "name": "stderr",
     "output_type": "stream",
     "text": [
      " 18%|█▊        | 13935/75613 [10:53<47:43, 21.54it/s]  "
     ]
    },
    {
     "name": "stdout",
     "output_type": "stream",
     "text": [
      "4800/10000 images finished\n",
      "4800/10000 images finished\n",
      "4800/10000 images finished\n",
      "4800/10000 images finished\n",
      "4800/10000 images finished\n"
     ]
    },
    {
     "name": "stderr",
     "output_type": "stream",
     "text": [
      " 19%|█▉        | 14221/75613 [11:09<1:21:16, 12.59it/s]"
     ]
    },
    {
     "name": "stdout",
     "output_type": "stream",
     "text": [
      "4900/10000 images finished\n"
     ]
    },
    {
     "name": "stderr",
     "output_type": "stream",
     "text": [
      " 19%|█▉        | 14487/75613 [11:25<1:11:09, 14.32it/s]"
     ]
    },
    {
     "name": "stdout",
     "output_type": "stream",
     "text": [
      "5000/10000 images finished\n"
     ]
    },
    {
     "name": "stderr",
     "output_type": "stream",
     "text": [
      " 20%|█▉        | 14771/75613 [11:41<1:02:19, 16.27it/s]"
     ]
    },
    {
     "name": "stdout",
     "output_type": "stream",
     "text": [
      "5100/10000 images finished\n",
      "5100/10000 images finished\n",
      "5100/10000 images finished\n",
      "5100/10000 images finished\n",
      "5100/10000 images finished\n",
      "5100/10000 images finished\n",
      "5100/10000 images finished\n",
      "5100/10000 images finished\n",
      "5100/10000 images finished\n",
      "5100/10000 images finished\n",
      "5100/10000 images finished\n",
      "5100/10000 images finished\n",
      "5100/10000 images finished\n",
      "5100/10000 images finished\n",
      "5100/10000 images finished\n"
     ]
    },
    {
     "name": "stderr",
     "output_type": "stream",
     "text": [
      " 20%|█▉        | 15054/75613 [11:55<1:22:42, 12.20it/s]"
     ]
    },
    {
     "name": "stdout",
     "output_type": "stream",
     "text": [
      "5200/10000 images finished\n"
     ]
    },
    {
     "name": "stderr",
     "output_type": "stream",
     "text": [
      " 20%|██        | 15352/75613 [12:09<37:41, 26.64it/s]  "
     ]
    },
    {
     "name": "stdout",
     "output_type": "stream",
     "text": [
      "5300/10000 images finished\n",
      "5300/10000 images finished\n"
     ]
    },
    {
     "name": "stderr",
     "output_type": "stream",
     "text": [
      " 21%|██        | 15646/75613 [12:24<32:01, 31.20it/s]  "
     ]
    },
    {
     "name": "stdout",
     "output_type": "stream",
     "text": [
      "5400/10000 images finished\n"
     ]
    },
    {
     "name": "stderr",
     "output_type": "stream",
     "text": [
      " 21%|██        | 15942/75613 [12:36<40:42, 24.43it/s]  "
     ]
    },
    {
     "name": "stdout",
     "output_type": "stream",
     "text": [
      "5500/10000 images finished\n",
      "5500/10000 images finished\n",
      "5500/10000 images finished\n",
      "5500/10000 images finished\n",
      "5500/10000 images finished\n"
     ]
    },
    {
     "name": "stderr",
     "output_type": "stream",
     "text": [
      " 21%|██▏       | 16243/75613 [12:47<41:07, 24.06it/s]  "
     ]
    },
    {
     "name": "stdout",
     "output_type": "stream",
     "text": [
      "5600/10000 images finished\n",
      "5600/10000 images finished\n"
     ]
    },
    {
     "name": "stderr",
     "output_type": "stream",
     "text": [
      " 22%|██▏       | 16528/75613 [12:58<58:08, 16.94it/s]  "
     ]
    },
    {
     "name": "stdout",
     "output_type": "stream",
     "text": [
      "5700/10000 images finished\n"
     ]
    },
    {
     "name": "stderr",
     "output_type": "stream",
     "text": [
      " 22%|██▏       | 16802/75613 [13:09<54:46, 17.90it/s]  "
     ]
    },
    {
     "name": "stdout",
     "output_type": "stream",
     "text": [
      "5800/10000 images finished\n",
      "5800/10000 images finished\n"
     ]
    },
    {
     "name": "stderr",
     "output_type": "stream",
     "text": [
      " 23%|██▎       | 17094/75613 [13:22<50:18, 19.38it/s]  "
     ]
    },
    {
     "name": "stdout",
     "output_type": "stream",
     "text": [
      "5900/10000 images finished\n",
      "5900/10000 images finished\n",
      "5900/10000 images finished\n"
     ]
    },
    {
     "name": "stderr",
     "output_type": "stream",
     "text": [
      " 23%|██▎       | 17392/75613 [13:34<50:21, 19.27it/s]  "
     ]
    },
    {
     "name": "stdout",
     "output_type": "stream",
     "text": [
      "6000/10000 images finished\n",
      "6000/10000 images finished\n"
     ]
    },
    {
     "name": "stderr",
     "output_type": "stream",
     "text": [
      " 23%|██▎       | 17648/75613 [13:47<53:23, 18.10it/s]  "
     ]
    },
    {
     "name": "stdout",
     "output_type": "stream",
     "text": [
      "6100/10000 images finished\n",
      "6100/10000 images finished\n"
     ]
    },
    {
     "name": "stderr",
     "output_type": "stream",
     "text": [
      " 24%|██▍       | 17966/75613 [13:59<35:27, 27.10it/s]  "
     ]
    },
    {
     "name": "stdout",
     "output_type": "stream",
     "text": [
      "6200/10000 images finished\n"
     ]
    },
    {
     "name": "stderr",
     "output_type": "stream",
     "text": [
      " 24%|██▍       | 18280/75613 [14:11<27:39, 34.55it/s]  "
     ]
    },
    {
     "name": "stdout",
     "output_type": "stream",
     "text": [
      "6300/10000 images finished\n"
     ]
    },
    {
     "name": "stderr",
     "output_type": "stream",
     "text": [
      " 25%|██▍       | 18577/75613 [14:25<37:04, 25.64it/s]  "
     ]
    },
    {
     "name": "stdout",
     "output_type": "stream",
     "text": [
      "6400/10000 images finished\n"
     ]
    },
    {
     "name": "stderr",
     "output_type": "stream",
     "text": [
      " 25%|██▍       | 18883/75613 [14:39<51:53, 18.22it/s]  "
     ]
    },
    {
     "name": "stdout",
     "output_type": "stream",
     "text": [
      "6500/10000 images finished\n",
      "6500/10000 images finished\n"
     ]
    },
    {
     "name": "stderr",
     "output_type": "stream",
     "text": [
      " 25%|██▌       | 19190/75613 [14:52<53:37, 17.54it/s]  "
     ]
    },
    {
     "name": "stdout",
     "output_type": "stream",
     "text": [
      "6600/10000 images finished\n",
      "6600/10000 images finished\n",
      "6600/10000 images finished\n"
     ]
    },
    {
     "name": "stderr",
     "output_type": "stream",
     "text": [
      " 26%|██▌       | 19488/75613 [15:03<49:14, 19.00it/s]  "
     ]
    },
    {
     "name": "stdout",
     "output_type": "stream",
     "text": [
      "6700/10000 images finished\n",
      "6700/10000 images finished\n",
      "6700/10000 images finished\n",
      "6700/10000 images finished\n"
     ]
    },
    {
     "name": "stderr",
     "output_type": "stream",
     "text": [
      " 26%|██▌       | 19767/75613 [15:17<44:22, 20.97it/s]  "
     ]
    },
    {
     "name": "stdout",
     "output_type": "stream",
     "text": [
      "6800/10000 images finished\n"
     ]
    },
    {
     "name": "stderr",
     "output_type": "stream",
     "text": [
      " 27%|██▋       | 20046/75613 [15:31<36:46, 25.18it/s]  "
     ]
    },
    {
     "name": "stdout",
     "output_type": "stream",
     "text": [
      "6900/10000 images finished\n",
      "6900/10000 images finished\n",
      "6900/10000 images finished\n"
     ]
    },
    {
     "name": "stderr",
     "output_type": "stream",
     "text": [
      " 27%|██▋       | 20301/75613 [15:45<1:08:30, 13.46it/s]"
     ]
    },
    {
     "name": "stdout",
     "output_type": "stream",
     "text": [
      "7000/10000 images finished\n"
     ]
    },
    {
     "name": "stderr",
     "output_type": "stream",
     "text": [
      " 27%|██▋       | 20605/75613 [15:58<1:12:45, 12.60it/s]"
     ]
    },
    {
     "name": "stdout",
     "output_type": "stream",
     "text": [
      "7100/10000 images finished\n"
     ]
    },
    {
     "name": "stderr",
     "output_type": "stream",
     "text": [
      " 28%|██▊       | 20867/75613 [16:11<1:03:30, 14.37it/s]"
     ]
    },
    {
     "name": "stdout",
     "output_type": "stream",
     "text": [
      "7200/10000 images finished\n",
      "7200/10000 images finished\n",
      "7200/10000 images finished\n",
      "7200/10000 images finished\n"
     ]
    },
    {
     "name": "stderr",
     "output_type": "stream",
     "text": [
      " 28%|██▊       | 21121/75613 [16:26<1:29:56, 10.10it/s]"
     ]
    },
    {
     "name": "stdout",
     "output_type": "stream",
     "text": [
      "7300/10000 images finished\n"
     ]
    },
    {
     "name": "stderr",
     "output_type": "stream",
     "text": [
      " 28%|██▊       | 21467/75613 [16:39<32:16, 27.96it/s]  "
     ]
    },
    {
     "name": "stdout",
     "output_type": "stream",
     "text": [
      "7400/10000 images finished\n",
      "7400/10000 images finished\n",
      "7400/10000 images finished\n",
      "7400/10000 images finished\n"
     ]
    },
    {
     "name": "stderr",
     "output_type": "stream",
     "text": [
      " 29%|██▉       | 21781/75613 [16:52<47:50, 18.75it/s]  "
     ]
    },
    {
     "name": "stdout",
     "output_type": "stream",
     "text": [
      "7500/10000 images finished\n",
      "7500/10000 images finished\n"
     ]
    },
    {
     "name": "stderr",
     "output_type": "stream",
     "text": [
      " 29%|██▉       | 22064/75613 [17:07<49:55, 17.87it/s]  "
     ]
    },
    {
     "name": "stdout",
     "output_type": "stream",
     "text": [
      "7600/10000 images finished\n",
      "7600/10000 images finished\n"
     ]
    },
    {
     "name": "stderr",
     "output_type": "stream",
     "text": [
      " 30%|██▉       | 22344/75613 [17:22<54:56, 16.16it/s]  "
     ]
    },
    {
     "name": "stdout",
     "output_type": "stream",
     "text": [
      "7700/10000 images finished\n"
     ]
    },
    {
     "name": "stderr",
     "output_type": "stream",
     "text": [
      " 30%|██▉       | 22632/75613 [17:36<34:58, 25.25it/s]  "
     ]
    },
    {
     "name": "stdout",
     "output_type": "stream",
     "text": [
      "7800/10000 images finished\n",
      "7800/10000 images finished\n",
      "7800/10000 images finished\n",
      "7800/10000 images finished\n",
      "7800/10000 images finished\n"
     ]
    },
    {
     "name": "stderr",
     "output_type": "stream",
     "text": [
      " 30%|███       | 22948/75613 [17:49<1:12:23, 12.13it/s]"
     ]
    },
    {
     "name": "stdout",
     "output_type": "stream",
     "text": [
      "7900/10000 images finished\n"
     ]
    },
    {
     "name": "stderr",
     "output_type": "stream",
     "text": [
      " 31%|███       | 23243/75613 [18:02<34:03, 25.63it/s]  "
     ]
    },
    {
     "name": "stdout",
     "output_type": "stream",
     "text": [
      "8000/10000 images finished\n"
     ]
    },
    {
     "name": "stderr",
     "output_type": "stream",
     "text": [
      " 31%|███       | 23522/75613 [18:16<44:09, 19.66it/s]  "
     ]
    },
    {
     "name": "stdout",
     "output_type": "stream",
     "text": [
      "8100/10000 images finished\n",
      "8100/10000 images finished\n",
      "8100/10000 images finished\n",
      "8100/10000 images finished\n",
      "8100/10000 images finished\n",
      "8100/10000 images finished\n",
      "8100/10000 images finished\n",
      "8100/10000 images finished\n"
     ]
    },
    {
     "name": "stderr",
     "output_type": "stream",
     "text": [
      " 32%|███▏      | 23826/75613 [18:30<1:04:00, 13.49it/s]"
     ]
    },
    {
     "name": "stdout",
     "output_type": "stream",
     "text": [
      "8200/10000 images finished\n",
      "8200/10000 images finished\n"
     ]
    },
    {
     "name": "stderr",
     "output_type": "stream",
     "text": [
      " 32%|███▏      | 24080/75613 [18:44<29:51, 28.77it/s]  "
     ]
    },
    {
     "name": "stdout",
     "output_type": "stream",
     "text": [
      "8300/10000 images finished\n"
     ]
    },
    {
     "name": "stderr",
     "output_type": "stream",
     "text": [
      " 32%|███▏      | 24385/75613 [18:58<42:19, 20.17it/s]  "
     ]
    },
    {
     "name": "stdout",
     "output_type": "stream",
     "text": [
      "8400/10000 images finished\n",
      "8400/10000 images finished\n",
      "8400/10000 images finished\n"
     ]
    },
    {
     "name": "stderr",
     "output_type": "stream",
     "text": [
      " 33%|███▎      | 24663/75613 [19:11<36:34, 23.22it/s]  "
     ]
    },
    {
     "name": "stdout",
     "output_type": "stream",
     "text": [
      "8500/10000 images finished\n",
      "8500/10000 images finished\n",
      "8500/10000 images finished\n",
      "8500/10000 images finished\n",
      "8500/10000 images finished\n"
     ]
    },
    {
     "name": "stderr",
     "output_type": "stream",
     "text": [
      " 33%|███▎      | 24996/75613 [19:23<33:51, 24.92it/s]  "
     ]
    },
    {
     "name": "stdout",
     "output_type": "stream",
     "text": [
      "8600/10000 images finished\n"
     ]
    },
    {
     "name": "stderr",
     "output_type": "stream",
     "text": [
      " 33%|███▎      | 25305/75613 [19:34<23:06, 36.28it/s]  "
     ]
    },
    {
     "name": "stdout",
     "output_type": "stream",
     "text": [
      "8700/10000 images finished\n",
      "8700/10000 images finished\n",
      "8700/10000 images finished\n",
      "8700/10000 images finished\n",
      "8700/10000 images finished\n",
      "8700/10000 images finished\n",
      "8700/10000 images finished\n",
      "8700/10000 images finished\n",
      "8700/10000 images finished\n"
     ]
    },
    {
     "name": "stderr",
     "output_type": "stream",
     "text": [
      " 34%|███▍      | 25597/75613 [19:47<29:51, 27.92it/s]  "
     ]
    },
    {
     "name": "stdout",
     "output_type": "stream",
     "text": [
      "8800/10000 images finished\n",
      "8800/10000 images finished\n",
      "8800/10000 images finished\n"
     ]
    },
    {
     "name": "stderr",
     "output_type": "stream",
     "text": [
      " 34%|███▍      | 25875/75613 [19:59<18:27, 44.93it/s]  "
     ]
    },
    {
     "name": "stdout",
     "output_type": "stream",
     "text": [
      "8900/10000 images finished\n"
     ]
    },
    {
     "name": "stderr",
     "output_type": "stream",
     "text": [
      " 35%|███▍      | 26192/75613 [20:12<34:25, 23.93it/s]  "
     ]
    },
    {
     "name": "stdout",
     "output_type": "stream",
     "text": [
      "9000/10000 images finished\n"
     ]
    },
    {
     "name": "stderr",
     "output_type": "stream",
     "text": [
      " 35%|███▌      | 26519/75613 [20:26<47:16, 17.31it/s]  "
     ]
    },
    {
     "name": "stdout",
     "output_type": "stream",
     "text": [
      "9100/10000 images finished\n"
     ]
    },
    {
     "name": "stderr",
     "output_type": "stream",
     "text": [
      " 35%|███▌      | 26826/75613 [20:39<1:05:36, 12.39it/s]"
     ]
    },
    {
     "name": "stdout",
     "output_type": "stream",
     "text": [
      "9200/10000 images finished\n"
     ]
    },
    {
     "name": "stderr",
     "output_type": "stream",
     "text": [
      " 36%|███▌      | 27124/75613 [20:52<32:30, 24.86it/s]  "
     ]
    },
    {
     "name": "stdout",
     "output_type": "stream",
     "text": [
      "9300/10000 images finished\n",
      "9300/10000 images finished\n",
      "9300/10000 images finished\n",
      "9300/10000 images finished\n"
     ]
    },
    {
     "name": "stderr",
     "output_type": "stream",
     "text": [
      " 36%|███▌      | 27373/75613 [21:07<56:29, 14.23it/s]  "
     ]
    },
    {
     "name": "stdout",
     "output_type": "stream",
     "text": [
      "9400/10000 images finished\n",
      "9400/10000 images finished\n",
      "9400/10000 images finished\n"
     ]
    },
    {
     "name": "stderr",
     "output_type": "stream",
     "text": [
      " 37%|███▋      | 27660/75613 [21:22<1:08:47, 11.62it/s]"
     ]
    },
    {
     "name": "stdout",
     "output_type": "stream",
     "text": [
      "9500/10000 images finished\n",
      "9500/10000 images finished\n"
     ]
    },
    {
     "name": "stderr",
     "output_type": "stream",
     "text": [
      " 37%|███▋      | 27911/75613 [21:37<49:17, 16.13it/s]  "
     ]
    },
    {
     "name": "stdout",
     "output_type": "stream",
     "text": [
      "9600/10000 images finished\n",
      "9600/10000 images finished\n",
      "9600/10000 images finished\n",
      "9600/10000 images finished\n",
      "9600/10000 images finished\n",
      "9600/10000 images finished\n",
      "9600/10000 images finished\n"
     ]
    },
    {
     "name": "stderr",
     "output_type": "stream",
     "text": [
      " 37%|███▋      | 28227/75613 [21:51<53:13, 14.84it/s]  "
     ]
    },
    {
     "name": "stdout",
     "output_type": "stream",
     "text": [
      "9700/10000 images finished\n",
      "9700/10000 images finished\n"
     ]
    },
    {
     "name": "stderr",
     "output_type": "stream",
     "text": [
      " 38%|███▊      | 28512/75613 [22:06<50:09, 15.65it/s]  "
     ]
    },
    {
     "name": "stdout",
     "output_type": "stream",
     "text": [
      "9800/10000 images finished\n",
      "9800/10000 images finished\n"
     ]
    },
    {
     "name": "stderr",
     "output_type": "stream",
     "text": [
      " 38%|███▊      | 28865/75613 [22:21<39:39, 19.65it/s]  "
     ]
    },
    {
     "name": "stdout",
     "output_type": "stream",
     "text": [
      "9900/10000 images finished\n",
      "9900/10000 images finished\n",
      "9900/10000 images finished\n"
     ]
    },
    {
     "name": "stderr",
     "output_type": "stream",
     "text": [
      " 39%|███▊      | 29184/75613 [22:36<35:58, 21.51it/s]  "
     ]
    },
    {
     "name": "stdout",
     "output_type": "stream",
     "text": [
      "10000/10000 images finished\n"
     ]
    },
    {
     "name": "stderr",
     "output_type": "stream",
     "text": [
      "\n"
     ]
    }
   ],
   "source": [
    "folder = '/shared/cxr/XrayReport/physionet.org/files/mimic-cxr-jpg/2.0.0/'\n",
    "j = 0\n",
    "os.makedirs(path_mimic[index],exist_ok=True)\n",
    "for i in tqdm(indices):\n",
    "    ps = 'p'+str(lab['subject_id'][i])[:2]\n",
    "    mimic_path = folder +'files/'+ps+ '/p'+str(lab['subject_id'][i])+'/'+ 's'+str(lab['study_id'][i])+'/'+str(lab['dicom_id'][i])+'.jpg'\n",
    "\n",
    "    file_name = 'img_mimic_'+index+str(j)+'.jpg'\n",
    "    \n",
    "    if os.path.exists(mimic_path) == 1:\n",
    "        j+=1\n",
    "        mimic = Image.open(mimic_path).convert('RGB')\n",
    "        resized = mimic.resize((256,256))\n",
    "        save_path = os.path.join(path_mimic[index],file_name)\n",
    "        resized.save(save_path)\n",
    "    if j%100 ==0:\n",
    "        print('{}/10000 images finished'.format(j))\n",
    "    if j>=10000:\n",
    "        break\n"
   ]
  },
  {
   "cell_type": "code",
   "execution_count": null,
   "metadata": {},
   "outputs": [],
   "source": [
    "j"
   ]
  },
  {
   "cell_type": "code",
   "execution_count": null,
   "metadata": {},
   "outputs": [],
   "source": []
  }
 ],
 "metadata": {
  "kernelspec": {
   "display_name": "Python 3",
   "language": "python",
   "name": "python3"
  },
  "language_info": {
   "codemirror_mode": {
    "name": "ipython",
    "version": 3
   },
   "file_extension": ".py",
   "mimetype": "text/x-python",
   "name": "python",
   "nbconvert_exporter": "python",
   "pygments_lexer": "ipython3",
   "version": "3.6.8"
  }
 },
 "nbformat": 4,
 "nbformat_minor": 4
}
