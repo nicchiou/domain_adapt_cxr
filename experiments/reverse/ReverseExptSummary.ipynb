{
 "cells": [
  {
   "cell_type": "code",
   "execution_count": 1,
   "id": "56b43075-2027-49dd-be21-3f6cbb3734f9",
   "metadata": {},
   "outputs": [],
   "source": [
    "import os\n",
    "import ast\n",
    "import re\n",
    "import json\n",
    "\n",
    "import numpy as np\n",
    "import pandas as pd\n",
    "import matplotlib.pyplot as plt\n",
    "import seaborn as sns"
   ]
  },
  {
   "cell_type": "markdown",
   "id": "8039ce4b-1173-4d93-999e-477156642cf3",
   "metadata": {},
   "source": [
    "# Summarize baseline results into Pandas DataFrame"
   ]
  },
  {
   "cell_type": "code",
   "execution_count": 2,
   "id": "835e043a-e5dd-4961-a1a5-d23fb05c4d9d",
   "metadata": {},
   "outputs": [],
   "source": [
    "def summarize(path, fname):\n",
    "    model_meta = pd.read_parquet(os.path.join(path, fname))\n",
    "    def replace(x):\n",
    "        try:\n",
    "            return ast.literal_eval(x)\n",
    "        except:\n",
    "            return x\n",
    "    for col in ['train_loss', 'train_acc', 'valid_loss', 'valid_acc']:\n",
    "        try:\n",
    "            model_meta[col] = model_meta[col].apply(replace)\n",
    "        except:\n",
    "            pass\n",
    "\n",
    "    model_meta['epochs'] = model_meta['train_loss'].apply(len)\n",
    "    model_meta['final_train_loss'] = model_meta['train_loss'].apply(lambda x: x[-1])\n",
    "    model_meta['final_valid_acc'] = model_meta['valid_acc'].apply(lambda x: x[-1])\n",
    "    model_meta['final_valid_loss'] = model_meta['valid_loss'].apply(lambda x: x[-1])\n",
    "    model_meta['best_valid_loss'] = model_meta['valid_loss'].apply(min)\n",
    "\n",
    "    return model_meta"
   ]
  },
  {
   "cell_type": "code",
   "execution_count": 3,
   "id": "7189921c-4b2e-4046-bdb3-9ec47303ac1d",
   "metadata": {},
   "outputs": [],
   "source": [
    "model_meta = pd.DataFrame()\n",
    "\n",
    "root_dir = ''\n",
    "source_train_baseline_dir ='baseline_reverse_20k'\n",
    "\n",
    "for f in os.listdir(os.path.join(root_dir, source_train_baseline_dir)):\n",
    "    if f.endswith('.parquet'):\n",
    "        trial_results = summarize(os.path.join(root_dir, source_train_baseline_dir), f)\n",
    "        _, iter_idx, _ = re.split('[_.]', f)\n",
    "        trial_results.loc[:, 'iter_idx'] = iter_idx\n",
    "\n",
    "        try:\n",
    "            with open(os.path.join(root_dir, source_train_baseline_dir, f'args_{iter_idx}.json')) as arg_f:\n",
    "                args = json.load(arg_f)\n",
    "        except OSError:\n",
    "            print('No corresponding args.json file associated with trial!')\n",
    "\n",
    "        for key in ['num_epochs', 'lr', 'batch_size',\n",
    "                    'train_seed', 'hidden_size', 'data_sampler_seed']:\n",
    "            trial_results.loc[:, key] = args[key]\n",
    "\n",
    "        model_meta  = model_meta.append(trial_results, ignore_index=True)"
   ]
  },
  {
   "cell_type": "markdown",
   "id": "d5227029-778e-40a9-a6a2-3b61295d58f2",
   "metadata": {},
   "source": [
    "# Summarize performance for trained models"
   ]
  },
  {
   "cell_type": "code",
   "execution_count": 4,
   "id": "7fe56c59-36e4-4a84-b913-72e520b1d5a6",
   "metadata": {},
   "outputs": [],
   "source": [
    "performance_cols = ['mimic_test_loss', 'mimic_test_acc', 'mimic_test_auc',\n",
    "                    'chexpert_test_loss', 'chexpert_test_acc', 'chexpert_test_auc']"
   ]
  },
  {
   "cell_type": "code",
   "execution_count": 5,
   "id": "dfa21745-5b73-4586-a1e9-f214abeebbbe",
   "metadata": {},
   "outputs": [
    {
     "data": {
      "text/plain": [
       "mimic_test_loss       0.595955\n",
       "mimic_test_acc        0.830033\n",
       "mimic_test_auc        0.895857\n",
       "chexpert_test_loss    0.683538\n",
       "chexpert_test_acc     0.755875\n",
       "chexpert_test_auc     0.860108\n",
       "dtype: object"
      ]
     },
     "execution_count": 5,
     "metadata": {},
     "output_type": "execute_result"
    }
   ],
   "source": [
    "model_meta.max()[performance_cols]"
   ]
  },
  {
   "cell_type": "code",
   "execution_count": 6,
   "id": "8a018cc0-0865-4136-9fbb-4b5de9593e9d",
   "metadata": {},
   "outputs": [
    {
     "data": {
      "text/plain": [
       "mimic_test_loss       0.594662\n",
       "mimic_test_acc        0.829155\n",
       "mimic_test_auc        0.894722\n",
       "chexpert_test_loss    0.666971\n",
       "chexpert_test_acc     0.737167\n",
       "chexpert_test_auc     0.854236\n",
       "dtype: float64"
      ]
     },
     "execution_count": 6,
     "metadata": {},
     "output_type": "execute_result"
    }
   ],
   "source": [
    "model_meta.mean()[performance_cols]"
   ]
  },
  {
   "cell_type": "code",
   "execution_count": 7,
   "id": "083f334b-8a03-4a65-8575-ca94e10bd424",
   "metadata": {},
   "outputs": [
    {
     "data": {
      "text/plain": [
       "mimic_test_loss       0.001213\n",
       "mimic_test_acc        0.001209\n",
       "mimic_test_auc        0.001300\n",
       "chexpert_test_loss    0.015306\n",
       "chexpert_test_acc     0.020890\n",
       "chexpert_test_auc     0.006227\n",
       "dtype: float64"
      ]
     },
     "execution_count": 7,
     "metadata": {},
     "output_type": "execute_result"
    }
   ],
   "source": [
    "model_meta.std()[performance_cols]"
   ]
  },
  {
   "cell_type": "code",
   "execution_count": null,
   "id": "bf8c0a18-7a27-4866-a8f2-fe1e110f4b95",
   "metadata": {},
   "outputs": [],
   "source": []
  }
 ],
 "metadata": {
  "kernelspec": {
   "display_name": "Python 3.6.8 64-bit ('domain_adapt_cxr-ilmJFro8': pipenv)",
   "language": "python",
   "name": "python368jvsc74a57bd0d548e83b0b28ca71444171775b3c91f545236136598938699a1416c5ca8fe191"
  },
  "language_info": {
   "codemirror_mode": {
    "name": "ipython",
    "version": 3
   },
   "file_extension": ".py",
   "mimetype": "text/x-python",
   "name": "python",
   "nbconvert_exporter": "python",
   "pygments_lexer": "ipython3",
   "version": "3.6.8"
  }
 },
 "nbformat": 4,
 "nbformat_minor": 5
}
